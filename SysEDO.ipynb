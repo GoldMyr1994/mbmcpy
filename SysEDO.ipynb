{
 "cells": [
  {
   "cell_type": "markdown",
   "metadata": {},
   "source": [
    "Problema:\n",
    "\n",
    "$$\n",
    "D\\begin{bmatrix} v_C \\\\ i_L \\end{bmatrix}\\left(t\\right) =\n",
    "\\begin{bmatrix}-1 & -1 \\\\1/4 & -5/4 \\\\ \\end{bmatrix}\n",
    "\\begin{bmatrix} v_C \\\\ i_L \\end{bmatrix}\\left(t\\right) + \n",
    "\\begin{bmatrix} 1 \\\\ 1/4 \\end{bmatrix}v_C\\left(t\\right)\n",
    "$$\n",
    "\n",
    "$$\n",
    "\\begin{bmatrix} v_C \\\\ i_L \\end{bmatrix}\\left(0\\right) = \\begin{bmatrix} 0 \\\\ 0 \\end{bmatrix}\n",
    "$$\n"
   ]
  },
  {
   "cell_type": "markdown",
   "metadata": {
    "collapsed": true
   },
   "source": [
    "Autovalori\n",
    "$$\\begin{bmatrix}-1 & -1 \\\\1/4 & -5/4 \\\\ \\end{bmatrix}$$\n",
    "$$\\Theta = -1 -\\frac{5}{4} = -\\frac{9}{4}$$\n",
    "$$\\Delta = -1\\left(-\\frac{5}{4}\\right)-\\frac{1}{4}\\left(-1\\right) = \\frac{3}{2}$$\n",
    "$$\\lambda^2 - \\Theta\\lambda + \\Delta = \\lambda^2 + \\frac{9}{4}\\lambda + \\frac{3}{2} = 0 $$\n",
    "$$\\lambda_{\\mathbin{\\pm}} = -\\frac{9}{8}\\mathbin{\\pm}\\sqrt{\\frac{81}{64} - \\frac{3}{2}} = -\\frac{9}{8}\\mathbin{\\pm}j\\frac{\\sqrt{15}}{8}$$"
   ]
  },
  {
   "cell_type": "markdown",
   "metadata": {},
   "source": [
    "Autovettori:\n",
    "$$\n",
    "\\underline{\\underline{A}}\\underline{\\eta} = \\lambda\\underline{\\eta}\n",
    "$$\n",
    "\n",
    "$$\n",
    "\\begin{bmatrix}-1 & -1 \\\\1/4 & -5/4 \\\\ \\end{bmatrix}\\underline{\\eta} = \\lambda\\underline{\\eta}\n",
    "$$\n",
    "\n",
    "$$\n",
    "-\\eta_{+1}-\\eta_{+2} = \\left(-\\frac{9}{8}+j\\frac{\\sqrt{15}}{8}\\right)\\eta_{+1}\n",
    "$$\n",
    "$$\n",
    "\\left(\\frac{1}{8} + j\\frac{\\sqrt{15}}{8}\\right) \\eta_{+1} = -\\eta_{+2}\n",
    "$$\n",
    "\n",
    "$$\\underline{\\eta_{+}} = \\begin{bmatrix} 1 \\\\ -\\frac{1}{8}-j\\frac{15}{8} \\end{bmatrix}$$\n"
   ]
  },
  {
   "cell_type": "markdown",
   "metadata": {},
   "source": [
    "Soluzione dell'omogenea associata\n",
    "$$ \n",
    "\\underline{x}_l(t)= \\begin{bmatrix} v_C \\\\ i_L \\end{bmatrix}\\left(0\\right) = 2Re\\left\\{ \\underline{k}_+e^{\\lambda_+} \\underline{\\eta}_+ \\right\\}\n",
    "$$\n",
    "$$\n",
    "2Re\\left\\{ \\underline{k}_+e^{-\\frac{9}{8}+j\\frac{\\sqrt{15}}{8}} \\underline{\\eta}_+ \\right\\}\n",
    "$$"
   ]
  },
  {
   "cell_type": "markdown",
   "metadata": {},
   "source": [
    "Integrale Particolare\n",
    "$$v_E\\left(t\\right) = 2\\left(1-e^{-t}\\right)u_a\\left(t\\right)$$\n",
    "\n",
    "$$\\underline{x}_{p}\\left(t\\right) = \\begin{bmatrix} v_{Cp} \\\\ i_{Lp} \\end{bmatrix}\\left(t\\right) = \\begin{bmatrix} a & b\\\\ c&d \\end{bmatrix}\\begin{bmatrix} 1\\\\ e^{-t} \\end{bmatrix}$$\n",
    "$$D\\underline{x}_{p}\\left(t\\right) = D\\begin{bmatrix} v_{Cp} \\\\ i_{Lp} \\end{bmatrix}\\left(t\\right) = \\begin{bmatrix} 0 & -b\\\\ 0&-d \\end{bmatrix}\\begin{bmatrix} 1\\\\ e^{-t} \\end{bmatrix}$$"
   ]
  },
  {
   "cell_type": "markdown",
   "metadata": {},
   "source": [
    "Sostituendo nell equazione originale \n",
    "\n",
    "$$\n",
    "D\\begin{bmatrix} v_C \\\\ i_L \\end{bmatrix}\\left(t\\right) =\n",
    "\\begin{bmatrix}-1 & -1 \\\\1/4 & -5/4 \\\\ \\end{bmatrix}\n",
    "\\begin{bmatrix} v_C \\\\ i_L \\end{bmatrix}\\left(t\\right) + \n",
    "\\begin{bmatrix} 1 \\\\ \\frac{1}{4} \\end{bmatrix}v_E\\left(t\\right)\n",
    "$$\n",
    "\n",
    "$$-\\begin{bmatrix} 0 & b\\\\ 0 & d \\end{bmatrix}\\begin{bmatrix}1 \\\\ e^{-t}\\end{bmatrix} = \\begin{bmatrix}-1 & -1 \\\\1/4 & -5/4 \\\\ \\end{bmatrix}\\begin{bmatrix} a & b\\\\ c&d \\end{bmatrix}\\begin{bmatrix} 1\\\\ e^{-t} \\end{bmatrix}+ \n",
    "\\begin{bmatrix} 2 & -2 \\\\ \\frac{1}{2} & \\frac{1}{2}  \\end{bmatrix}\\begin{bmatrix} 1\\\\ e^{-t} \\end{bmatrix} $$"
   ]
  },
  {
   "cell_type": "markdown",
   "metadata": {},
   "source": [
    "Utilizzando anche le condizioni iniziali siamo in grado di determinare le costanti a,b,c,d ?????? o forse anche no\n",
    "$$\n",
    "-be^{-t} = -a-c -\\left(d+b\\right)e^{-t}+2-2e^{-t}\n",
    "$$\n",
    "$$\n",
    "-de^{-t} = +\\frac{1}{4}a-\\frac{5}{4}c +\\left(+\\frac{1}{4}b-\\frac{5}{4}d\\right)e^{-t}+2-2e^{-t}\n",
    "$$"
   ]
  }
 ],
 "metadata": {
  "kernelspec": {
   "display_name": "Python 3",
   "language": "python",
   "name": "python3"
  },
  "language_info": {
   "codemirror_mode": {
    "name": "ipython",
    "version": 3
   },
   "file_extension": ".py",
   "mimetype": "text/x-python",
   "name": "python",
   "nbconvert_exporter": "python",
   "pygments_lexer": "ipython3",
   "version": "3.6.0"
  }
 },
 "nbformat": 4,
 "nbformat_minor": 2
}
