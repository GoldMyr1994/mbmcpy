{
 "cells": [
  {
   "cell_type": "code",
   "execution_count": 24,
   "metadata": {
    "collapsed": false
   },
   "outputs": [
    {
     "data": {
      "text/html": [
       "\n",
       "<style>\n",
       "    table{ \n",
       "        width:950px;    //fixed width, 950px layout large\n",
       "        margin: 0 auto; //ceter table in body\n",
       "    }\n",
       "    \n",
       "    td,th{\n",
       "        text-align:center !important;\n",
       "    }\n",
       "     \n",
       "</style>\n"
      ],
      "text/plain": [
       "<IPython.core.display.HTML object>"
      ]
     },
     "execution_count": 24,
     "metadata": {},
     "output_type": "execute_result"
    }
   ],
   "source": [
    "from IPython.core.display import HTML\n",
    "HTML(\"\"\"\n",
    "<style>\n",
    "    table{ \n",
    "        width:950px;    //fixed width, 950px layout large\n",
    "        margin: 0 auto; //ceter table in body\n",
    "    }\n",
    "    \n",
    "    td,th{\n",
    "        text-align:center !important;\n",
    "    }\n",
    "     \n",
    "</style>\n",
    "\"\"\")"
   ]
  },
  {
   "cell_type": "markdown",
   "metadata": {},
   "source": [
    "<table>\n",
    "    <tr>\n",
    "        <th></th>\n",
    "        <th>Nel Tempo</th>\n",
    "        <th>In Frequenza</th>\n",
    "    </tr>\n",
    "    <tr>\n",
    "        <th>Segnale</th>\n",
    "        <td>$x\\left(t\\right)$</td>\n",
    "        <td>$X\\left(f\\right)$</td>\n",
    "    </tr>\n",
    "    <tr>\n",
    "        <th>Campionamento</th>\n",
    "        <td>$x_c\\left(t\\right)=x\\left(t\\right)\\delta_{T_C}\\left(t\\right)$</td>\n",
    "        <td>$X_c\\left(f\\right)=X\\left(f\\right)*\\frac{1}{T_C}\\delta_{\\frac{1}{T_C}}\\left(f\\right)$</td>\n",
    "    </tr>\n",
    "    <tr>\n",
    "        <th>Mantenimento</th>\n",
    "        <td>$x_m\\left(t\\right)=x_c\\left(t\\right)*rect\\left(\\frac{t-\\frac{T_C}{2}}{T_C}\\right)$</td>\n",
    "        <td>$X_m\\left(f\\right)=X_c\\left(f\\right)T_Csinc\\left(T_Cf\\right)e^{-j\\pi{T_C}{f}}$</td>\n",
    "    </tr>\n",
    "    <tr>\n",
    "        <th>Finestramento</th>\n",
    "        <td>$x_f\\left(t\\right)=x_m\\left(t\\right)rect\\left(\\frac{t}{w}\\right)$</td>\n",
    "        <td>$X_f\\left(f\\right)=X_m\\left(f\\right)*wsinc\\left(wf\\right)$</td>\n",
    "    </tr>\n",
    "</table>"
   ]
  },
  {
   "cell_type": "markdown",
   "metadata": {},
   "source": [
    "Proprietà di convoluzione con un $\\delta_T\\left(\\tau\\right)$:\n",
    "\n",
    "$\\psi\\left(\\tau\\right)*\\sum\\limits^{\\infty}_{k=-\\infty}{\\delta\\left(\\tau-\\frac{k}{\\tau_c}\\right)}= \\sum\\limits^{\\infty}_{k=-\\infty}{ \\psi\\left(\\tau-\\frac{k}{\\tau_c}\\right)}$"
   ]
  },
  {
   "cell_type": "markdown",
   "metadata": {},
   "source": [
    "Sviluppando un po di conti:\n",
    "\n",
    "$X_f\\left(f\\right) = X_m\\left(f\\right)*wsinc\\left(wf\\right) = $\n",
    "\n",
    "$\\quad\\quad\\; =\\left[X_c\\left(f\\right)T_Csinc\\left(T_Cf\\right)e^{-j\\pi{T_C}f}\\right]*wsinc\\left(wf\\right) = $\n",
    "\n",
    "$\\quad\\quad\\; =\\left\\{\\left[X\\left(f\\right)*\\frac{1}{T_C}\\delta_{\\frac{1}{T_C}}\\left(f\\right)\\right]T_Csinc\\left(T_Cf\\right)e^{-j2pif}\\right\\}*wsinc\\left(wf\\right) = $\n",
    "\n",
    "$\\quad\\quad\\; =\\frac{1}{T_C}T_Cw\\left\\{sinc\\left(T_Cf\\right)e^{-j\\pi{T_C}f}\\left[X\\left(f\\right)*\\delta_{\\frac{1}{T_C}}\\left(f\\right)\\right]\\right\\}*sinc\\left(wf\\right) = $\n",
    "\n",
    "$\\quad\\quad\\; =w\\left\\{ sinc\\left(T_Cf\\right)e^{-j\\pi{T_C}f}\\sum\\limits^{\\infty}_{k=-\\infty}{ X\\left(f-\\frac{k}{T_C}\\right)}\\right\\}*sinc\\left(wf\\right)$"
   ]
  },
  {
   "cell_type": "markdown",
   "metadata": {},
   "source": [
    "Con il seguente segnale:\n",
    "\n",
    "$x\\left(t\\right)=sin\\left(2\\pi{f_0}t\\right)$\n",
    "\n",
    "$X\\left(f\\right)=\\frac{j}{2}\\left(\\delta\\left(f+f_0\\right)-\\delta\\left(f-f_0\\right)\\right)$\n",
    "\n",
    "Lavorando solo sulla porzione positiva dello spettro:\n",
    "\n",
    "$-\\frac{j}{2}\\left\\{ \\sum\\limits^{\\infty}_{k=-\\infty}{\\delta\\left(f-f_0-\\frac{k}{T_C}\\right)}sinc\\left(T_Cf\\right)e^{-j\\pi{T_C}f}\\right\\}*sinc\\left(wf\\right) = -\\frac{j}{2}sinc\\left(T_Cf\\right)e^{-j\\pi{T_C}f}\\sum\\limits^{\\infty}_{k=-\\infty}{sinc\\left(w\\left(f-f_0-\\frac{k}{T_C}\\right)\\right)} $"
   ]
  }
 ],
 "metadata": {
  "kernelspec": {
   "display_name": "Python 3",
   "language": "python",
   "name": "python3"
  },
  "language_info": {
   "codemirror_mode": {
    "name": "ipython",
    "version": 3
   },
   "file_extension": ".py",
   "mimetype": "text/x-python",
   "name": "python",
   "nbconvert_exporter": "python",
   "pygments_lexer": "ipython3",
   "version": "3.6.0"
  }
 },
 "nbformat": 4,
 "nbformat_minor": 2
}
