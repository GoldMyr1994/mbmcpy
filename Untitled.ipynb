{
 "cells": [
  {
   "cell_type": "code",
   "execution_count": 28,
   "metadata": {},
   "outputs": [
    {
     "data": {
      "image/png": "[encoded data removed]",
      "text/plain": [
       "<matplotlib.figure.Figure at 0x1bddb484470>"
      ]
     },
     "metadata": {},
     "output_type": "display_data"
    },
    {
     "name": "stdout",
     "output_type": "stream",
     "text": [
      "[-0.         -0.         -0.         -0.         -0.         -0.         -0.\n",
      " -0.         -0.         -0.         -0.         -0.         -0.         -0.\n",
      " -0.          0.          0.33333333  0.66666667  1.          1.33333333\n",
      "  1.66666667  2.          0.          0.          0.          0.          0.\n",
      "  0.          0.          0.          0.        ]\n",
      "[0 0 0 0 0 0 0 0 0 0 0 0 0 1 1 1 1 1 0 0 0 0 0 0 0 0 0 0 0 0 0]\n",
      "[ 0.          0.          0.          0.          0.          0.          0.\n",
      "  0.          0.          0.          0.          0.          0.          0.\n",
      "  0.33333333  1.          2.          3.33333333  5.          6.66666667\n",
      "  6.          5.          3.66666667  2.          0.          0.          0.\n",
      "  0.          0.          0.          0.        ]\n"
     ]
    }
   ],
   "source": [
    "import numpy as np\n",
    "import scipy\n",
    "from matplotlib import pyplot as plt\n",
    "\n",
    "def rect(N,n):\n",
    "    x = (n>=0)*1*(n<N)*1;\n",
    "    return x\n",
    "    \n",
    "n = np.linspace(-15,15,31)\n",
    "x = n/3*rect(6,n-1)\n",
    "y = rect(5,n+2)\n",
    "plt.stem(n,scipy.convolve(x,y,'same'))\n",
    "plt.show()\n",
    "print(x)\n",
    "print(y)\n",
    "print(scipy.convolve(x,y,'same'))"
   ]
  }
 ],
 "metadata": {
  "kernelspec": {
   "display_name": "Python 3",
   "language": "python",
   "name": "python3"
  },
  "language_info": {
   "codemirror_mode": {
    "name": "ipython",
    "version": 3
   },
   "file_extension": ".py",
   "mimetype": "text/x-python",
   "name": "python",
   "nbconvert_exporter": "python",
   "pygments_lexer": "ipython3",
   "version": "3.5.4"
  },
  "widgets": {
   "state": {},
   "version": "1.1.2"
  }
 },
 "nbformat": 4,
 "nbformat_minor": 2
}
