{
 "cells": [
  {
   "cell_type": "code",
   "execution_count": 2,
   "metadata": {},
   "outputs": [],
   "source": [
    "import cv2\n",
    "import numpy as np\n",
    "import math\n",
    "from matplotlib import pyplot as plt\n",
    "\n",
    "img = cv2.imread('C:\\\\Users\\\\Mauro\\Desktop\\\\lena.jpg')\n",
    "#cv2.imshow('image',img)\n",
    "#cv2.waitKey(0)\n",
    "#cv2.destroyAllWindows()\n",
    "\n",
    "#print(type(img[0][0][0]))"
   ]
  },
  {
   "cell_type": "code",
   "execution_count": 4,
   "metadata": {},
   "outputs": [
    {
     "name": "stdout",
     "output_type": "stream",
     "text": [
      "Wall time: 15.6 ms\n",
      "Wall time: 15.6 ms\n",
      "Wall time: 0 ns\n"
     ]
    }
   ],
   "source": [
    "b,g,r = cv2.split(img)\n",
    "\n",
    "def getRedPattern(r):\n",
    "    bp_r = np.zeros_like(r)\n",
    "    for i in range(len(r)):\n",
    "        if (i+1)%2 is 1:\n",
    "            for j in range(len(r[i])):\n",
    "                if((j+1)%2 is 1): bp_r[i][j] = r[i][j]\n",
    "    return bp_r\n",
    "\n",
    "def getGreenPattern(g):\n",
    "    bp_g = np.zeros_like(g)\n",
    "    for i in range(len(g)):\n",
    "        if (i+1)%2 is 1:\n",
    "            for j in range(len(g[i])):\n",
    "                if (j+1)%2 is 0 : bp_g[i][j] = g[i][j]\n",
    "        if (i+1)%2 is 0:\n",
    "            for j in range(len(g[i])):\n",
    "                if (j+1)%2 is 1 : bp_g[i][j] = g[i][j]\n",
    "    return bp_g\n",
    "\n",
    "def getBluePattern(b):\n",
    "    bp_b = np.zeros_like(b)\n",
    "    for i in range(len(b)):\n",
    "        if (i+1)%2 is 0:\n",
    "            for j in range(len(b[i])):\n",
    "                if((j+1)%2 is 0): bp_b[i][j] = b[i][j]\n",
    "    return bp_b\n",
    "\n",
    "def PSNR(img1,img2):\n",
    "    origImg = img1.astype(np.float);\n",
    "    distImg = img2.astype(np.float);\n",
    "\n",
    "    MSE = 0.0\n",
    "    for i in range(len(img)-3)[3:]:\n",
    "        for j in range(len(img)-3)[3:]:\n",
    "            MSE = MSE + np.linalg.norm(origImg[i][j]-distImg[i][j])       \n",
    "    MSE = MSE/((len(img)-6)*(len(img)-6))\n",
    "    PSNR = 20*np.log10(255/np.sqrt(MSE))\n",
    "    return PSNR\n",
    "\n",
    "%time bp_r = getRedPattern(r).astype(np.float)\n",
    "%time bp_g = getGreenPattern(g).astype(np.float) \n",
    "%time bp_b = getBluePattern(b).astype(np.float)"
   ]
  },
  {
   "cell_type": "code",
   "execution_count": 5,
   "metadata": {},
   "outputs": [],
   "source": [
    "def calc_mean_A(matrix,shift_r,shift_c):\n",
    "    print(type(matrix))\n",
    "    irange = range(shift_r,len(matrix)-1,2)\n",
    "    jrange = range(shift_c,len(matrix)-1,2)\n",
    "    for i in irange:\n",
    "        for j in jrange:\n",
    "             matrix[i][j] = (matrix[i+1][j+1]+ matrix[i+1][j-1]+ matrix[i-1][j+1]+ matrix[i-1][j-1])/4\n",
    "    return matrix\n",
    "                                                                        \n",
    "def calc_mean_B(matrix,shift_rp,shift_rd,shift_c_rp,shift_c_rd):\n",
    "    \n",
    "    irange = range(shift_rp,len(matrix)-1,2)\n",
    "    jrange = range(shift_c_rp,len(matrix)-1,2)\n",
    "    \n",
    "    for i in irange:\n",
    "        for j in jrange:\n",
    "            matrix[i][j] = (matrix[i+1][j]+ matrix[i-1][j]+ matrix[i][j+1]+ matrix[i][j-1])/4\n",
    "            \n",
    "    irange = range(shift_rd,len(matrix)-1,2)\n",
    "    jrange = range(shift_c_rd,len(matrix)-1,2)\n",
    "    \n",
    "    for i in irange:\n",
    "        for j in jrange:\n",
    "            matrix[i][j] = (matrix[i+1][j]+ matrix[i-1][j]+ matrix[i][j+1]+ matrix[i][j-1])/4\n",
    "            \n",
    "    return matrix\n"
   ]
  },
  {
   "cell_type": "code",
   "execution_count": 6,
   "metadata": {},
   "outputs": [
    {
     "name": "stdout",
     "output_type": "stream",
     "text": [
      "<class 'numpy.ndarray'>\n",
      "Wall time: 32 ms\n"
     ]
    }
   ],
   "source": [
    "%time bp_r = calc_mean_A(bp_r,1,1)"
   ]
  },
  {
   "cell_type": "code",
   "execution_count": 7,
   "metadata": {},
   "outputs": [
    {
     "name": "stdout",
     "output_type": "stream",
     "text": [
      "<class 'numpy.ndarray'>\n"
     ]
    }
   ],
   "source": [
    "bp_b = calc_mean_A(bp_b,2,2)"
   ]
  },
  {
   "cell_type": "code",
   "execution_count": 8,
   "metadata": {},
   "outputs": [],
   "source": [
    "bp_b = calc_mean_B(bp_b,2,3,3,2)"
   ]
  },
  {
   "cell_type": "code",
   "execution_count": 9,
   "metadata": {},
   "outputs": [],
   "source": [
    "bp_g = calc_mean_B(bp_g,1,2,1,2)"
   ]
  },
  {
   "cell_type": "code",
   "execution_count": null,
   "metadata": {},
   "outputs": [],
   "source": [
    "Ricostruzione = np.zeros((len(img),len(img),3))\n",
    "#Ricostruzione = np.zeros_like(img)\n",
    "#print(Ricostruzione.shape)            #512x512x3\n",
    "#print(type(Ricostruzione[0][0][0]))   #float64 poi devo riportarla a uint8\n",
    "\n",
    "irange = range(len(img)-1)[1:] #1px di cornice nera poi penso al problema IndexOutOfRange\n",
    "\n",
    "for i in irange:\n",
    "    for j in irange:\n",
    "        Ricostruzione[i][j][0] = bp_b[i][j] \n",
    "        Ricostruzione[i][j][1] = bp_g[i][j]\n",
    "        Ricostruzione[i][j][2] = bp_r[i][j]\n",
    "\n",
    "                \n",
    "#_max = np.max(Ricostruzione)\n",
    "#_min = np.min(Ricostruzione)\n",
    "#print(\"Min;Max: \",_min,\",\",_max,\";\")\n",
    "#Ricostruzione = (Ricostruzione-_min)*255/_max\n",
    "#Tentavo di fare qualcosa ma il massimo è 255 ed il minimo è 0 quindi nada\n",
    "      \n",
    "Ricostruzione = Ricostruzione.astype(np.uint8)\n",
    "cv2.imshow('image-o',img)\n",
    "cv2.imshow('image-r',Ricostruzione)\n",
    "cv2.waitKey(0)\n",
    "cv2.destroyAllWindows()"
   ]
  },
  {
   "cell_type": "code",
   "execution_count": null,
   "metadata": {},
   "outputs": [],
   "source": [
    "b1,g1,r1 = cv2.split(img)\n",
    "b2,g2,r2 = cv2.split(Ricostruzione)\n",
    "print(\"R:\",PSNR(r1,r2),\"dB\")\n",
    "print(\"G:\",PSNR(g1,g2),\"dB\")\n",
    "print(\"B:\",PSNR(b1,b2),\"dB\")\n",
    "print(PSNR(img,Ricostruzione),\"dB\")"
   ]
  },
  {
   "cell_type": "code",
   "execution_count": 27,
   "metadata": {},
   "outputs": [],
   "source": [
    "Seconda = np.zeros((len(img),len(img),3))\n",
    "irange = range(len(img)-3)[3:] #1px di cornice nera poi penso al problema IndexOutOfRange\n",
    "#alpha = 1.0/2\n",
    "#beta = 5.0/8\n",
    "#gamma = 3.0/4\n",
    "\n",
    "alpha = 1\n",
    "beta = 1\n",
    "gamma = 1\n",
    "\n",
    "\n",
    "for i in irange:\n",
    "    for j in irange:\n",
    "        if (i+1)%2 is 0:\n",
    "            if (j+1)%2 is 0:\n",
    "                #print(\"elm(\",i,\"x\",j,\") is BLUE\")\n",
    "                Seconda[i][j][0] = bp_b[i][j]\n",
    "                \n",
    "                DeltaBg = (1.0/8)*(4*bp_b[i][j] - (bp_b[i-2][j]+bp_b[i+2][j]+bp_b[i][j-2]+bp_b[i][j+2]))\n",
    "                DeltaBr = (1.0/8)*(6*bp_b[i][j] - (3.0/2)*(bp_b[i-2][j]+bp_b[i+2][j]+bp_b[i][j-2]+bp_b[i][j+2]))\n",
    "                \n",
    "                Seconda[i][j][1] = bp_g[i][j] + alpha*DeltaBg\n",
    "                Seconda[i][j][2] = bp_r[i][j] + gamma*DeltaBr\n",
    "                \n",
    "            if (j+1)%2 is 1: \n",
    "                #print(\"elm(\",i,\"x\",j,\") is GREEN\")\n",
    "                Seconda[i][j][1] = bp_g[i][j]\n",
    "                \n",
    "                DeltaGr = 5*bp_g[i][j]\n",
    "                DeltaGr -= (bp_g[i+1][j+1]+bp_g[i-1][j-1]+bp_g[i-1][j+1]+bp_g[i+1][j-1])\n",
    "                DeltaGr -= (bp_g[i+2][j]+bp_g[i-2][j]-bp_g[i][j+2]/2-bp_g[i][j-2]/2)\n",
    "                DeltaGr = DeltaGr*(1.0/8)\n",
    "                \n",
    "                DeltaGb = 5*bp_g[i][j]\n",
    "                DeltaGb-= (bp_g[i+1][j+1]+bp_g[i-1][j-1]+bp_g[i-1][j+1]+bp_g[i+1][j-1])\n",
    "                DeltaGb -= (-bp_g[i+2][j]/2-bp_g[i-2][j]/2-bp_g[i][j+2]-bp_g[i][j-2])\n",
    "                DeltaGb = DeltaGr*(1.0/8)\n",
    "                \n",
    "                Seconda[i][j][2] = bp_r[i][j] + beta*DeltaGr\n",
    "                Seconda[i][j][0] = bp_b[i][j] + beta*DeltaGb\n",
    "                \n",
    "        if (i+1)%2 is 1:\n",
    "            if (j+1)%2 is 0: \n",
    "                #print(\"elm(\",i,\"x\",j,\") is GREEN\")\n",
    "                Seconda[i][j][1] = bp_g[i][j]\n",
    "                \n",
    "                DeltaGb = 5*bp_g[i][j]\n",
    "                DeltaGb -= (bp_g[i+1][j+1]+bp_g[i-1][j-1]+bp_g[i-1][j+1]+bp_g[i+1][j-1])\n",
    "                DeltaGb -= (bp_g[i+2][j]+bp_g[i-2][j]-bp_g[i][j+2]/2-bp_g[i][j-2]/2)\n",
    "                DeltaGb = DeltaGr*(1.0/8)\n",
    "                \n",
    "                DeltaGr = 5*bp_g[i][j]\n",
    "                DeltaGr -= (bp_g[i+1][j+1]+bp_g[i-1][j-1]+bp_g[i-1][j+1]+bp_g[i+1][j-1])\n",
    "                DeltaGr -= (-bp_g[i+2][j]/2-bp_g[i-2][j]/2-bp_g[i][j+2]-bp_g[i][j-2])\n",
    "                DeltaGr = DeltaGr*(1.0/8)\n",
    "                \n",
    "                Seconda[i][j][2] = bp_r[i][j] + beta*DeltaGr\n",
    "                Seconda[i][j][0] = bp_b[i][j] + beta*DeltaGb\n",
    "                \n",
    "            if (j+1)%2 is 1: \n",
    "                #print(\"elm(\",i,\"x\",j,\") is RED\")\n",
    "                Seconda[i][j][2] = bp_r[i][j]\n",
    "                \n",
    "                DeltaRg = (1.0/8)*(4*bp_r[i][j] - (bp_r[i-2][j]+bp_r[i+2][j]+bp_r[i][j-2]+bp_r[i][j+2]))\n",
    "                DeltaRb = (1.0/8)*(6*bp_r[i][j] - (3.0/2)*(bp_r[i-2][j]+bp_r[i+2][j]+bp_r[i][j-2]+bp_r[i][j+2]))\n",
    "                \n",
    "                Seconda[i][j][1] = bp_g[i][j] + alpha*DeltaRg\n",
    "                Seconda[i][j][0] = bp_b[i][j] + gamma*DeltaRb \n",
    "\n",
    "\n",
    "Seconda = Seconda.astype(np.uint8)\n",
    "\n",
    "cv2.imshow('image-o',img)\n",
    "cv2.imshow('image-r',Seconda)\n",
    "cv2.waitKey(0)\n",
    "cv2.destroyAllWindows()"
   ]
  },
  {
   "cell_type": "code",
   "execution_count": 11,
   "metadata": {},
   "outputs": [
    {
     "name": "stdout",
     "output_type": "stream",
     "text": [
      "('R:', 35.096373325400208, 'dB')\n",
      "('G:', 47.43549925559401, 'dB')\n",
      "('B:', 43.079283682863334, 'dB')\n",
      "(34.626235035257004, 'dB')\n"
     ]
    }
   ],
   "source": [
    "b1,g1,r1 = cv2.split(img)\n",
    "b2,g2,r2 = cv2.split(Seconda)\n",
    "print(\"R:\",PSNR(r1,r2),\"dB\")\n",
    "print(\"G:\",PSNR(g1,g2),\"dB\")\n",
    "print(\"B:\",PSNR(b1,b2),\"dB\")\n",
    "print(PSNR(img,Seconda),\"dB\")"
   ]
  }
 ],
 "metadata": {
  "kernelspec": {
   "display_name": "Python 3",
   "language": "python",
   "name": "python3"
  },
  "language_info": {
   "codemirror_mode": {
    "name": "ipython",
    "version": 3
   },
   "file_extension": ".py",
   "mimetype": "text/x-python",
   "name": "python",
   "nbconvert_exporter": "python",
   "pygments_lexer": "ipython3",
   "version": "3.6.4"
  }
 },
 "nbformat": 4,
 "nbformat_minor": 2
}
