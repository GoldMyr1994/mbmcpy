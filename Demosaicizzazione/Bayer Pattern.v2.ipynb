{
 "cells": [
  {
   "cell_type": "markdown",
   "metadata": {},
   "source": [
    "<h1>Demosaicing of Bayer-Patterned Color Images<h1>"
   ]
  },
  {
   "cell_type": "markdown",
   "metadata": {},
   "source": [
    "<h3>PythonLib</h3>\n",
    "<ul>\n",
    "    <li><i>cv2</i> per la lettura delle immagini</li>\n",
    "    <li><i>numoy</i> per calcoli conversioni e gestione matrici</li>\n",
    "    <li><i>matplotlib.pyplot</i> per la visualizzazione dei risultati</li>\n",
    "</ul>"
   ]
  },
  {
   "cell_type": "code",
   "execution_count": 1,
   "metadata": {},
   "outputs": [],
   "source": [
    "import cv2\n",
    "import numpy as np\n",
    "from matplotlib import pyplot as plt"
   ]
  },
  {
   "cell_type": "markdown",
   "metadata": {},
   "source": [
    "<h3>Funzioni del caso</h3>"
   ]
  },
  {
   "cell_type": "markdown",
   "metadata": {},
   "source": [
    "<h6>img_invert_color:</h6>\n",
    "Data un immagine inverte la posizione dei layer rgb $\\leftrightarrow$ bgr\n"
   ]
  },
  {
   "cell_type": "code",
   "execution_count": 2,
   "metadata": {},
   "outputs": [],
   "source": [
    "def img_invert_color(img):\n",
    "    iimg = cv2.split(img);\n",
    "    iimg = cv2.merge((iimg[2],iimg[1],iimg[0]))\n",
    "    return iimg"
   ]
  },
  {
   "cell_type": "code",
   "execution_count": 3,
   "metadata": {},
   "outputs": [],
   "source": [
    "def img_cut_border(img,l,r,t,d):\n",
    "    img = img[l:img.shape[0]-r,t:img.shape[1]-d]\n",
    "    if img.shape[0]%2==1:\n",
    "        img = img[0:img.shape[0]-1,0:img.shape[1]]\n",
    "    if img.shape[1]%2==1:\n",
    "        img = img[0:img.shape[0],0:img.shape[1]-1]\n",
    "    return img"
   ]
  },
  {
   "cell_type": "code",
   "execution_count": 4,
   "metadata": {},
   "outputs": [],
   "source": [
    "def img_is_r_position(row,col): return ((row+1)%2 is 1and (col+1)%2 is 1)\n",
    "def img_is_g_position_r_row(row,col): return ((row+1)%2 is 1 and (col+1)%2 is 0)\n",
    "def img_is_g_position_b_row(row,col): return ((row+1)%2 is 0 and (col+1)%2 is 1)\n",
    "def img_is_b_position(row,col): return ((row+1)%2 is 0 and (col+1)%2 is 0)"
   ]
  },
  {
   "cell_type": "code",
   "execution_count": 5,
   "metadata": {},
   "outputs": [],
   "source": [
    "def img_read_and_cut(path,mLeft,mRight,mTop,mBottom): return img_cut_border(cv2.imread(path),0,0,0,0)"
   ]
  },
  {
   "cell_type": "code",
   "execution_count": 6,
   "metadata": {},
   "outputs": [],
   "source": [
    "def img_to_plot(img,title):\n",
    "    return {\"source\":img,\"title\":title}"
   ]
  },
  {
   "cell_type": "code",
   "execution_count": 7,
   "metadata": {},
   "outputs": [],
   "source": [
    "def img_plot(fig_size,imgs):\n",
    "    i=1\n",
    "    plt.figure(figsize=fig_size)\n",
    "    for img in imgs:\n",
    "        plt.subplot(1,len(imgs),i)\n",
    "        plt.title(img[\"title\"])\n",
    "        plt.imshow(img_invert_color(img[\"source\"]))\n",
    "        plt.xticks([]), plt.yticks([])\n",
    "        if i==3: \n",
    "            plt.show()\n",
    "            return\n",
    "        else: i = i+1\n",
    "    plt.show()\n",
    "def img_plot_gray(fig_size,imgs):\n",
    "    i=1\n",
    "    plt.figure(figsize=fig_size)\n",
    "    for img in imgs:\n",
    "        plt.subplot(1,len(imgs),i)\n",
    "        plt.title(img[\"title\"])\n",
    "        plt.imshow(img[\"source\"], cmap=\"gray\")\n",
    "        plt.xticks([]), plt.yticks([])\n",
    "        if i==3: \n",
    "            plt.show()\n",
    "            return\n",
    "        else: i = i+1\n",
    "    plt.show()\n",
    "    "
   ]
  },
  {
   "cell_type": "code",
   "execution_count": 8,
   "metadata": {},
   "outputs": [],
   "source": [
    "def img_px_get_minor_5(img,row,col):\n",
    "    return img[row-2:row+2,col-2:col+2]"
   ]
  },
  {
   "cell_type": "code",
   "execution_count": 9,
   "metadata": {},
   "outputs": [],
   "source": [
    "def PSNR(img1,img2, border):\n",
    "    img1 = img1.astype(np.float)\n",
    "    img2 = img2.astype(np.float)\n",
    "    MSE = 0.0\n",
    "    for i in range(len(img1)-border)[border:]:\n",
    "        for j in range(len(img1)-border)[border:]:\n",
    "            MSE = MSE + np.linalg.norm(img1[i][j]-img2[i][j])       \n",
    "    MSE = MSE/((len(img1)-6)*(len(img1)-6))\n",
    "    PSNR = 20*np.log10(255/np.sqrt(MSE))\n",
    "    return PSNR"
   ]
  },
  {
   "cell_type": "code",
   "execution_count": 10,
   "metadata": {},
   "outputs": [],
   "source": [
    "def PSNRv(img1,img2,border):\n",
    "    \n",
    "    b1,g1,r1 = cv2.split(img1)\n",
    "    b2,g2,r2 = cv2.split(img2)    \n",
    "    \n",
    "    print(\"Red Channel: \",PSNR(r1,r2,border),\"dB\")\n",
    "    print(\"Green Channel: \",PSNR(g1,g2,border),\"dB\")\n",
    "    print(\"Blue Channel: \",PSNR(b1,b2,border),\"dB\")\n",
    "    print(\"Image: \",PSNR(img1,img2,border),\"dB\")\n",
    "    return"
   ]
  },
  {
   "cell_type": "code",
   "execution_count": 11,
   "metadata": {},
   "outputs": [
    {
     "data": {
      "image/png": "[encoded data removed]",
      "text/plain": [
       "<matplotlib.figure.Figure at 0x240680c84a8>"
      ]
     },
     "metadata": {},
     "output_type": "display_data"
    }
   ],
   "source": [
    "#img = img_read_and_cut('C:\\\\Users\\\\Mauro\\\\Desktop\\\\ec.jpg',0,0,0,0)[:,450:1200]\n",
    "#img = img_read_and_cut('C:\\\\Users\\\\Mauro\\\\Desktop\\\\ec.jpg',0,0,0,0)[700:720,450:1200]\n",
    "img = img_read_and_cut('C:\\\\Users\\\\Mauro\\\\Desktop\\\\ec.jpg',0,0,0,0)[700:720,450:500]\n",
    "img_plot((20,10),[img_to_plot(img,\"Original Image\")])"
   ]
  },
  {
   "cell_type": "code",
   "execution_count": 12,
   "metadata": {},
   "outputs": [
    {
     "data": {
      "text/plain": [
       "(20, 50, 3)"
      ]
     },
     "execution_count": 12,
     "metadata": {},
     "output_type": "execute_result"
    }
   ],
   "source": [
    "img.shape"
   ]
  },
  {
   "cell_type": "code",
   "execution_count": 13,
   "metadata": {
    "scrolled": true
   },
   "outputs": [
    {
     "name": "stdout",
     "output_type": "stream",
     "text": [
      "Wall time: 0 ns\n",
      "Wall time: 1e+03 µs\n",
      "Wall time: 1 ms\n"
     ]
    }
   ],
   "source": [
    "def getPattern(offset_r,offset_c,img):\n",
    "    H = img.shape[0]\n",
    "    W = img.shape[1]    \n",
    "    P = np.zeros((W,H))\n",
    "    pr = [float((x+offset_r)%2) for x in range(2)]\n",
    "    pr = np.tile(pr,int((W/2)))\n",
    "    P = [pr*(i+offset_c)%2  for i in range(H)]\n",
    "    return np.array(P)\n",
    "    \n",
    "%time r_pattern = getPattern(1,1,img)\n",
    "%time b_pattern = getPattern(0,0,img)\n",
    "%time g_pattern = getPattern(0,1,img)+getPattern(1,0,img)\n",
    "\n",
    "#print(r_pattern)\n",
    "#print(b_pattern)\n",
    "#print(g_pattern)"
   ]
  },
  {
   "cell_type": "code",
   "execution_count": 14,
   "metadata": {
    "scrolled": true
   },
   "outputs": [
    {
     "data": {
      "image/png": "[encoded data removed]",
      "text/plain": [
       "<matplotlib.figure.Figure at 0x240681c77b8>"
      ]
     },
     "metadata": {},
     "output_type": "display_data"
    }
   ],
   "source": [
    "b,g,r = cv2.split(img)\n",
    "img_plot_gray((20,10),[img_to_plot(b,\"Blue Channel\"),img_to_plot(g,\"Green Channel\"),img_to_plot(r,\"Red Channel\")])\n"
   ]
  },
  {
   "cell_type": "code",
   "execution_count": 15,
   "metadata": {
    "scrolled": false
   },
   "outputs": [
    {
     "name": "stdout",
     "output_type": "stream",
     "text": [
      "Wall time: 0 ns\n",
      "Wall time: 0 ns\n",
      "Wall time: 0 ns\n"
     ]
    },
    {
     "data": {
      "image/png": "[encoded data removed]",
      "text/plain": [
       "<matplotlib.figure.Figure at 0x24068236828>"
      ]
     },
     "metadata": {},
     "output_type": "display_data"
    }
   ],
   "source": [
    "%time bp_r = r_pattern*r\n",
    "%time bp_g = g_pattern*g\n",
    "%time bp_b = b_pattern*b\n",
    "\n",
    "#print(bp_r)\n",
    "#print(bp_b)\n",
    "#print(bp_g)\n",
    "\n",
    "\n",
    "plt.figure(figsize=(20,10))\n",
    "plt.subplot(1,3,1)\n",
    "plt.title(\"Red Channel Pattern\")\n",
    "plt.imshow(bp_r, cmap=\"gray\")\n",
    "plt.xticks([]), plt.yticks([])  # to hide tick values on X and Y axis\n",
    "plt.subplot(1,3,2)\n",
    "plt.title(\"Green Channel Pattern\")\n",
    "plt.imshow( bp_g, cmap=\"gray\")\n",
    "plt.xticks([]), plt.yticks([])  # to hide tick values on X and Y axis\n",
    "plt.subplot(1,3,3)\n",
    "plt.title(\"Blue Channel Pattern\")\n",
    "plt.imshow(bp_b, cmap=\"gray\")\n",
    "plt.xticks([]), plt.yticks([])  # to hide tick values on X and Y axis\n",
    "plt.show()"
   ]
  },
  {
   "cell_type": "code",
   "execution_count": 16,
   "metadata": {},
   "outputs": [],
   "source": [
    "def fill_cross(matrix,shift_r,shift_c):\n",
    "    \n",
    "    matrixb = np.copy(matrix)\n",
    "    \n",
    "    irange = range(shift_r,matrix.shape[0]-1,2)\n",
    "    jrange = range(shift_c,matrix.shape[1]-1,2)\n",
    "    \n",
    "    for i in irange:\n",
    "        for j in jrange:\n",
    "            matrixb[i,j] = (matrix[i+1,j+1] + matrix[i+1,j-1] + matrix[i-1,j+1] + matrix[i-1,j-1])/4\n",
    "    return matrixb"
   ]
  },
  {
   "cell_type": "code",
   "execution_count": 17,
   "metadata": {
    "scrolled": false
   },
   "outputs": [
    {
     "name": "stdout",
     "output_type": "stream",
     "text": [
      "Wall time: 0 ns\n",
      "Wall time: 1.02 ms\n",
      "Wall time: 0 ns\n"
     ]
    },
    {
     "data": {
      "image/png": "[encoded data removed]",
      "text/plain": [
       "<matplotlib.figure.Figure at 0x240682af6d8>"
      ]
     },
     "metadata": {},
     "output_type": "display_data"
    }
   ],
   "source": [
    "%time fc_bp_r = fill_cross(bp_r,1,1)\n",
    "%time fc_bp_b = fill_cross(bp_b,2,2)\n",
    "%time fc_bp_g = bp_g\n",
    "\n",
    "plt.figure(figsize=(20,10))\n",
    "plt.subplot(1,2,1)\n",
    "plt.title(\"Red Channel\")\n",
    "plt.imshow(fc_bp_r, cmap=\"gray\")\n",
    "plt.xticks([]), plt.yticks([])\n",
    "plt.subplot(1,2,2)\n",
    "plt.title(\"Blue Channel\")\n",
    "plt.imshow(fc_bp_b, cmap=\"gray\")\n",
    "plt.xticks([]), plt.yticks([])\n",
    "plt.show()\n"
   ]
  },
  {
   "cell_type": "code",
   "execution_count": 18,
   "metadata": {},
   "outputs": [],
   "source": [
    "def fill_diag(matrix,shift_rp,shift_rd,shift_c_rp,shift_c_rd):\n",
    "    \n",
    "    matrixb = np.copy(matrix)\n",
    "    \n",
    "    irange = range(shift_rp,matrix.shape[0]-1,2)\n",
    "    jrange = range(shift_c_rp,matrix.shape[1]-1,2)\n",
    "    \n",
    "    for i in irange:\n",
    "        for j in jrange:\n",
    "            matrixb[i][j] = (matrix[i+1][j]+ matrix[i-1][j]+ matrix[i][j+1]+ matrix[i][j-1])/4\n",
    "            \n",
    "    irange = range(shift_rd,matrix.shape[0]-1,2)\n",
    "    jrange = range(shift_c_rd,matrix.shape[1]-1,2)\n",
    "    \n",
    "    for i in irange:\n",
    "        for j in jrange:\n",
    "            matrixb[i][j] = (matrix[i+1][j]+ matrix[i-1][j]+ matrix[i][j+1]+ matrix[i][j-1])/4\n",
    "            \n",
    "    return matrixb"
   ]
  },
  {
   "cell_type": "code",
   "execution_count": 19,
   "metadata": {},
   "outputs": [
    {
     "name": "stdout",
     "output_type": "stream",
     "text": [
      "Wall time: 1 ms\n",
      "Wall time: 2 ms\n",
      "Wall time: 998 µs\n"
     ]
    },
    {
     "data": {
      "image/png": "[encoded data removed]",
      "text/plain": [
       "<matplotlib.figure.Figure at 0x24068342940>"
      ]
     },
     "metadata": {},
     "output_type": "display_data"
    }
   ],
   "source": [
    "%time fd_bp_r = fill_diag(fc_bp_r,1,2,2,1)\n",
    "%time fd_bp_b = fill_diag(fc_bp_b,2,3,3,2)\n",
    "%time fd_bp_g = fill_diag(fc_bp_g,1,2,1,2)\n",
    "\n",
    "plt.figure(figsize=(20,10))\n",
    "plt.subplot(1,3,1)\n",
    "plt.title(\"Red Channel\")\n",
    "#plt.imshow(r, cmap=\"Reds\")\n",
    "plt.imshow(fd_bp_r, cmap=\"gray\")\n",
    "plt.xticks([]), plt.yticks([])  # to hide tick values on X and Y axis\n",
    "plt.subplot(1,3,2)\n",
    "plt.title(\"Green Channel\")\n",
    "#plt.imshow(g, cmap=\"Greens\")\n",
    "plt.imshow(fd_bp_g, cmap=\"gray\")\n",
    "plt.xticks([]), plt.yticks([])  # to hide tick values on X and Y axis\n",
    "plt.subplot(1,3,3)\n",
    "plt.title(\"Blue Channel\")\n",
    "#plt.imshow(b, cmap=\"Blues\")\n",
    "plt.imshow(fd_bp_b, cmap=\"gray\")\n",
    "plt.xticks([]), plt.yticks([])  # to hide tick values on X and Y axis\n",
    "plt.show()"
   ]
  },
  {
   "cell_type": "code",
   "execution_count": 20,
   "metadata": {
    "scrolled": false
   },
   "outputs": [
    {
     "name": "stdout",
     "output_type": "stream",
     "text": [
      "0.0 140.0\n"
     ]
    },
    {
     "data": {
      "image/png": "[encoded data removed]",
      "text/plain": [
       "<matplotlib.figure.Figure at 0x24068a22978>"
      ]
     },
     "metadata": {},
     "output_type": "display_data"
    }
   ],
   "source": [
    "Ricostruzione = cv2.merge((fd_bp_b,fd_bp_g,fd_bp_r))\n",
    "\n",
    "_max = 0;\n",
    "_min = 0;\n",
    "\n",
    "for i in range(Ricostruzione.shape[0]):\n",
    "    for j in range(Ricostruzione.shape[1]):\n",
    "        for k in range(Ricostruzione.shape[2]):\n",
    "            _max = max(Ricostruzione[i,j,k],_max)\n",
    "            _min = min(Ricostruzione[i,j,k],_min)\n",
    "print(_min,_max)\n",
    "\n",
    "Ricostruzione = Ricostruzione.astype(np.uint8)\n",
    "\n",
    "\n",
    "\n",
    "\n",
    "plt.figure(figsize=(20,10))\n",
    "plt.subplot(1,2,1)\n",
    "plt.title(\"Original Image\")\n",
    "plt.imshow(img_invert_color(img))\n",
    "plt.xticks([]), plt.yticks([])  # to hide tick values on X and Y axis\n",
    "plt.subplot(1,2,2)\n",
    "plt.title(\"Rebuild Image\")\n",
    "plt.imshow(img_invert_color(Ricostruzione))\n",
    "plt.xticks([]), plt.yticks([])  # to hide tick values on X and Y axis\n",
    "plt.show()"
   ]
  },
  {
   "cell_type": "code",
   "execution_count": 21,
   "metadata": {},
   "outputs": [
    {
     "name": "stdout",
     "output_type": "stream",
     "text": [
      "Red Channel:  41.78479723274694 dB\n",
      "Green Channel:  45.17625467205475 dB\n",
      "Blue Channel:  41.97925071449801 dB\n",
      "Image:  39.253657324567726 dB\n"
     ]
    }
   ],
   "source": [
    "PSNRv(img,Ricostruzione,5)"
   ]
  },
  {
   "cell_type": "code",
   "execution_count": 22,
   "metadata": {
    "scrolled": false
   },
   "outputs": [
    {
     "name": "stdout",
     "output_type": "stream",
     "text": [
      "140.0\n",
      "0.0\n"
     ]
    },
    {
     "data": {
      "image/png": "[encoded data removed]",
      "text/plain": [
       "<matplotlib.figure.Figure at 0x2406836eda0>"
      ]
     },
     "metadata": {},
     "output_type": "display_data"
    }
   ],
   "source": [
    "Seconda = np.zeros((img.shape[0],img.shape[1],img.shape[2]))\n",
    "\n",
    "irange = range(img.shape[0]-2)[2:]\n",
    "jrange = range(img.shape[1]-2)[2:]\n",
    "\n",
    "alpha = (1.0/2)\n",
    "beta = (5.0/8)\n",
    "gamma = (3.0/4)\n",
    "\n",
    "DeltaBList = []\n",
    "DeltaGList = []\n",
    "DeltaRList = []\n",
    "\n",
    "\n",
    "for i in irange:\n",
    "    for j in jrange:\n",
    "        if (i+1)%2 is 0:\n",
    "            if (j+1)%2 is 0:\n",
    "                #print(i,j)\n",
    "                #BLUE@BLUE\n",
    "                Seconda[i][j][0] = fd_bp_b[i][j]\n",
    "                DeltaBlue = fd_bp_b[i][j]-(1.0/4)*(fd_bp_b[i+2][j]+fd_bp_b[i-2][j]+fd_bp_b[i][j+2]+fd_bp_b[i][j-2])\n",
    "                #GREEN@BLUE\n",
    "                #if fd_bp_g[i][j]+1*(alpha)*DeltaBlue <=255 and fd_bp_g[i][j]+1*(alpha)*DeltaBlue>=0:\n",
    "                Seconda[i][j][1] = fd_bp_g[i][j]+1*(gamma)*DeltaBlue #+1db ch-green ma compaiono puntini verdi\n",
    "                #RED@BLUE\n",
    "                #if fd_bp_r[i][j]+1*(gamma)*DeltaBlue <=255 and fd_bp_r[i][j]+1*(gamma)*DeltaBlue>=0:\n",
    "                Seconda[i][j][2] = fd_bp_r[i][j]+1*(gamma)*DeltaBlue #-0.06 ch-red e problemi al cappello\n",
    "                DeltaBList.append(DeltaBlue)\n",
    "                \n",
    "            if (j+1)%2 is 1: \n",
    "                #print(i,j)\n",
    "                #GREEN@GREEN\n",
    "                Seconda[i][j][1] = fd_bp_g[i][j]\n",
    "                DeltaGreen = fd_bp_g[i][j]-(1.0/4)*(fd_bp_g[i+2][j]+fd_bp_g[i-2][j]+fd_bp_g[i][j+2]+fd_bp_g[i][j-2])\n",
    "                #BLUE@GREEN@BLUEROW\n",
    "                #if fd_bp_b[i][j]+1*(beta)*DeltaGreen <=255 and fd_bp_b[i][j]+1*(beta)*DeltaGreen>=0:\n",
    "                Seconda[i][j][0] = fd_bp_b[i][j]+1*(beta)*DeltaGreen #+0.7db ch-blue\n",
    "                #RED@GREEN@BLUEROW\n",
    "                #if fd_bp_r[i][j]+1*(beta)*DeltaGreen <=255 and fd_bp_r[i][j]+1*(beta)*DeltaGreen>=0:\n",
    "                Seconda[i][j][2] = fd_bp_r[i][j]+1*(beta)*DeltaGreen #-0.06 ch-red problemi al cappello\n",
    "                DeltaGList.append(DeltaGreen)\n",
    "        if (i+1)%2 is 1:\n",
    "            if (j+1)%2 is 0:\n",
    "                #print(i,j)\n",
    "                #GREEN@GREEN\n",
    "                Seconda[i][j][1] = fd_bp_g[i][j]\n",
    "                DeltaGreen = fd_bp_g[i][j]-(1.0/4)*(fd_bp_g[i+2][j]+fd_bp_g[i-2][j]+fd_bp_g[i][j+2]+fd_bp_g[i][j-2])\n",
    "                #Seconda[i][j][1] = Ricostruzione[i][j][1]\n",
    "                #BLUE@GREEN@REDROW\n",
    "                #if fd_bp_b[i][j]+1*(beta)*DeltaGreen <=255 and fd_bp_b[i][j]+1*(beta)*DeltaGreen>=0:\n",
    "                Seconda[i][j][0] = fd_bp_b[i][j]+1*(beta)*DeltaGreen #+0.61 ch-blue\n",
    "                #RED@GREEN@REDROW\n",
    "                #if fd_bp_r[i][j]+1*(beta)*DeltaGreen <=255 and fd_bp_r[i][j]+1*(beta)*DeltaGreen>=0:\n",
    "                Seconda[i][j][2] = fd_bp_r[i][j]+1*(beta)*DeltaGreen #-0.06 ch-red e problemi al cappello\n",
    "                DeltaGList.append(DeltaGreen)\n",
    "                \n",
    "            if (j+1)%2 is 1:\n",
    "                #print(i,j)\n",
    "                #RED@RED\n",
    "                Seconda[i][j][2] = fd_bp_r[i][j]\n",
    "                DeltaRed = fd_bp_r[i][j]-(1.0/4)*(fd_bp_r[i+2][j]+fd_bp_r[i-2][j]+fd_bp_r[i][j+2]+fd_bp_r[i][j-2])\n",
    "                #GREEN@RED\n",
    "                #if fd_bp_g[i][j]+1*(alpha)*DeltaRed <=255 and fd_bp_g[i][j]+1*(alpha)*DeltaRed>=0:\n",
    "                Seconda[i][j][1] = fd_bp_g[i][j]+1*(alpha)*DeltaRed #+1db ch-green anche se compaiono pixel verdi\n",
    "                #BLUE@RED\n",
    "                #if fd_bp_b[i][j]+1*(gamma)*DeltaRed <=255 and fd_bp_b[i][j]+1*(gamma)*DeltaRed>=0:\n",
    "                Seconda[i][j][0] = fd_bp_b[i][j]+1*(gamma)*DeltaRed #+0.7db ch-blue\n",
    "                DeltaRList.append(DeltaRed)\n",
    "\n",
    "\n",
    "print(_max) \n",
    "print(_min) \n",
    "Seconda = Seconda.astype(np.uint8)\n",
    "plt.figure(figsize=(20,10))\n",
    "plt.subplot(1,2,1)\n",
    "plt.title(\"Original Image\")\n",
    "plt.imshow(img_invert_color(img.astype(np.uint8)))\n",
    "plt.xticks([]), plt.yticks([])  # to hide tick values on X and Y axis\n",
    "plt.subplot(1,2,2)\n",
    "plt.title(\"Rebuild Image\")\n",
    "plt.imshow(img_invert_color(Seconda))\n",
    "plt.xticks([]), plt.yticks([])  # to hide tick values on X and Y axis\n",
    "plt.show()"
   ]
  },
  {
   "cell_type": "code",
   "execution_count": 24,
   "metadata": {},
   "outputs": [
    {
     "name": "stdout",
     "output_type": "stream",
     "text": [
      "Red Channel:  39.77260419555671 dB\n",
      "Green Channel:  38.67039364348992 dB\n",
      "Blue Channel:  45.24411456548768 dB\n",
      "Image:  36.152663123475044 dB\n"
     ]
    }
   ],
   "source": [
    "PSNRv(img,Seconda,5)\n"
   ]
  }
 ],
 "metadata": {
  "kernelspec": {
   "display_name": "Python 3",
   "language": "python",
   "name": "python3"
  },
  "language_info": {
   "codemirror_mode": {
    "name": "ipython",
    "version": 3
   },
   "file_extension": ".py",
   "mimetype": "text/x-python",
   "name": "python",
   "nbconvert_exporter": "python",
   "pygments_lexer": "ipython3",
   "version": "3.6.4"
  },
  "widgets": {
   "state": {},
   "version": "1.1.2"
  }
 },
 "nbformat": 4,
 "nbformat_minor": 2
}
