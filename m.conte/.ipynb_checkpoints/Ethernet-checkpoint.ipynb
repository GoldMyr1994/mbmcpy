{
 "cells": [
  {
   "cell_type": "markdown",
   "metadata": {},
   "source": [
    "<center>\n",
    "    <header>\n",
    "        <h1>IEE 802.3: livello fisico e sottolivello MAC</h1>\n",
    "        <h2>Marco Bondaschi, Mauro Conte</h2>\n",
    "        <h4>Laboratorio di Telecomunicazioni</h4>\n",
    "        <h5>Università Degli Studi Di Brescia</h5>\n",
    "        <h6>18/05/2017</h6>\n",
    "    </header>\n",
    "</center>\n",
    "<hr><hr>"
   ]
  },
  {
   "cell_type": "markdown",
   "metadata": {},
   "source": [
    "<h2>Descrizione</h2>\n",
    "\n",
    "Grazie a questa esperienza abbiamo potuto verificare le caratteristiche di una trasmissione di dati attraverso la rete Ethernet 802.3, molto utilizzato nelle reti LAN. Con l'ausilio di un oscilloscopio, collegato con un cavo coassiale tra due PC, abbiamo potuto visualizzare fisicamente le trame trasmesse tra i due dispositivi ed analizzare le tecniche di codifica utilizzate, nonché osservare il metodo di risoluzione di conflitti implementato, conosciuto come CSMA/CD (Carrier Sense Multiple Access/Collision Detection)."
   ]
  },
  {
   "cell_type": "markdown",
   "metadata": {},
   "source": [
    "<h2>Strumenti</h2>\n",
    "\n",
    "Gli strumenti che abbiamo utilizzato per svolgere questa esperienza sono:\n",
    "<ul>\n",
    "<li>Oscilloscopio digitale <i>Agilent Technologies InfiniiVision MSO-X 3014A</i>;</li>\n",
    "<li>Coppia di PC dotati di scheda di rete;</li>\n",
    "<li><i>Fluke Protocol Inspector</i>, software per l'analisi di protocollo, installato sui due PC;</li>\n",
    "<li>Cavo coassiale con cui collegare tra loro le due schede di rete e l'oscilloscopio.</li>\n",
    "</ul>"
   ]
  },
  {
   "cell_type": "markdown",
   "metadata": {},
   "source": [
    "<h2>Svolgimento</h2>\n",
    "<h3>Configurazione della postazione di lavoro</h3>\n",
    "\n",
    "Per prima cosa abbiamo preparato la postazione di lavoro, collegando i due PC e le loro periferiche, ed utilizzando il cavo coassiale in dotazione per collegare le due schede di rete Ethernet, e tra di esse il canale 1 dell'oscilloscopio digitale.\n",
    "Fatto ciò, abbiamo acceso i due PC ed avviato su entrambi il software di analisi di protocollo <i>Fluke Protocol Inspector</i>."
   ]
  },
  {
   "cell_type": "code",
   "execution_count": null,
   "metadata": {
    "collapsed": true
   },
   "outputs": [],
   "source": []
  }
 ],
 "metadata": {
  "kernelspec": {
   "display_name": "Python 3",
   "language": "python",
   "name": "python3"
  },
  "language_info": {
   "codemirror_mode": {
    "name": "ipython",
    "version": 3
   },
   "file_extension": ".py",
   "mimetype": "text/x-python",
   "name": "python",
   "nbconvert_exporter": "python",
   "pygments_lexer": "ipython3",
   "version": "3.6.0"
  }
 },
 "nbformat": 4,
 "nbformat_minor": 2
}
