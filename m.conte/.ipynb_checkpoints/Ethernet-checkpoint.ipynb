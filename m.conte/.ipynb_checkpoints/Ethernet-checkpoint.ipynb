{
 "cells": [
  {
   "cell_type": "markdown",
   "metadata": {},
   "source": [
    "<center>\n",
    "    <header>\n",
    "        <h1>IEE 802.3: livello fisico e sottolivello MAC</h1>\n",
    "        <h2>Marco Bondaschi, Mauro Conte</h2>\n",
    "        <h4>Laboratorio di Telecomunicazioni</h4>\n",
    "        <h5>Università Degli Studi Di Brescia</h5>\n",
    "        <h6>18/05/2017</h6>\n",
    "    </header>\n",
    "</center>\n",
    "<hr><hr>"
   ]
  },
  {
   "cell_type": "markdown",
   "metadata": {},
   "source": [
    "<h2>Descrizione</h2>\n",
    "\n",
    "Grazie a questa esperienza abbiamo potuto verificare le caratteristiche di una trasmissione di dati attraverso la rete Ethernet 802.3, molto utilizzato nelle reti LAN. Con l'ausilio di un oscilloscopio, collegato con un cavo coassiale tra due PC, abbiamo potuto visualizzare fisicamente le trame trasmesse tra i due dispositivi ed analizzare le tecniche di codifica utilizzate, nonché osservare il metodo di risoluzione di conflitti implementato, conosciuto come CSMA/CD (Carrier Sense Multiple Access/Collision Detection)."
   ]
  },
  {
   "cell_type": "markdown",
   "metadata": {},
   "source": [
    "<h2>Strumenti</h2>\n",
    "\n",
    "Gli strumenti che abbiamo utilizzato per svolgere questa esperienza sono:\n",
    "<ul>\n",
    "<li>Oscilloscopio digitale <i>Agilent Technologies InfiniiVision MSO-X 3014A</i>;</li>\n",
    "<li>Coppia di PC dotati di scheda di rete;</li>\n",
    "<li><i>Fluke Protocol Inspector</i>, software per l'analisi di protocollo, installato sui due PC;</li>\n",
    "<li>Cavo coassiale con cui collegare tra loro le due schede di rete e l'oscilloscopio.</li>\n",
    "</ul>"
   ]
  },
  {
   "cell_type": "markdown",
   "metadata": {},
   "source": [
    "<h2>Svolgimento</h2>\n",
    "<h3>Configurazione della postazione di lavoro</h3>\n",
    "\n",
    "Per prima cosa abbiamo preparato la postazione di lavoro, collegando i due PC e le loro periferiche, ed utilizzando il cavo coassiale in dotazione per collegare le due schede di rete Ethernet, e tra di esse il canale 1 dell'oscilloscopio digitale.\n",
    "Fatto ciò, abbiamo acceso i due PC ed avviato su entrambi il software di analisi di protocollo <i>Fluke Protocol Inspector</i>."
   ]
  },
  {
   "cell_type": "markdown",
   "metadata": {
    "collapsed": true
   },
   "source": [
    "<h2>Caratteristiche elettriche del segnale</h2>\n",
    "\n",
    "L'obiettivo della prima parte dell'esperienza è quello di analizzare una trama Ethernet inviata da un PC all'altro. Per fare questo abbiamo utilizzato la modalità <i>Transmit Mode</i> di <i>Fluke Protocol Inspector</i>, e tramite il menù <i>Traffic Generator</i> abbiamo inviato (in modo continuo) una trama IP, con una frequenza di 200 trame/sec. Abbiamo quindi preso un'unica acquisizione con l'oscilloscopio, e ciò che abbiamo ottenuto è la seguente forma d'onda:\n",
    "\n",
    "..IMMAGINE..\n",
    "\n",
    "<h3>Domande</h3>\n",
    "\n",
    "<h4>1) Perché è necessario utilizzare dei terminatori da 50Ω nella connessione tra le due schede? Qual è di conseguenza il valore di impedenza d'ingresso da impostare sull'oscilloscopio?</h4>\n",
    "\n",
    "&Egrave; necessario utilizzare dei terminatori da 50Ω nella connessione tra le due schede in quanto esso è il valore di impedenza caratteristica di un generico cavo coassiale. Il terminatore permette quindi di raggiungere una condizione di adattamento tra le schede di rete ed il cavo, prevenendo la riflessione delle onde, che si genererebbe a causa della differenza tra l'impedenza del cavo coassiale e quella delle schede di rete, che è pari a 25Ω. Anche in ingresso all'oscilloscopio è quindi bene impostare come impedenza d'ingresso il valore di 50Ω, per la stessa ragione esposta in precedenza.\n",
    "\n",
    "<h4>2) Determinare le caratteristiche elettriche del segnale prodotto: codifica utilizzata, ampiezza, numero di simboli e di bit trasmessi per secondo.</h4>\n",
    "\n",
    "Dopo aver visualizzato la forma d'onda inviata dal PC sull'oscilloscopio, abbiamo potuto analizzare con precisione le trame inviate.\n",
    "La codifica utilizzata per inviare i bit è la classica <i>codifica Manchester</i>: la particolarità di questa codifica è che essa, a differenza di altre codifiche, non associa al valore di un bit un segnale alto o basso; al contrario, l'informazione è contenuta nella transizione da un livello alto/basso all'altro: al bit 0 è associata una transizione alto-basso, mentre al bit 1 una transizione basso-alto. Inoltre, nell'invio degli indirizzi MAC, i bit vengono trasmessi in ordine inverso, dal meno significativo al più significativo (una tecnica chiamata <i>little-endian</i>).\n",
    "Per quanto concerne l'ampiezza dei segnali inviati, il livello basso è pari a $0\\,V$, mentre quello alto è pari a $-2\\,V$.\n",
    "La velocità di trasmissione misurata con l'oscilloscopio è risultata pari a $10\\,Mbit/s$, in accordo con quanto affermato dal <i>Fluke Protocol Inspector</i>. Di conseguenza, il numero di simboli (ovvero di <i>byte</i>) inviati al secondo è pari a $\\frac{10}{8}=1,25\\,MB/s$.\n",
    "\n",
    "<h4>3) Cosa si può dire dello spettro di questo segnale in rapporto al numero di simboli trasmessi al secondo?</h4>\n",
    "\n",
    "Aumentando il numero di simboli inviati al secondo, aumenta la frequenza dell'onda che viene trasmessa sul canale e di conseguenza la banda dello spettro si allarga fino a frequenze più alte.\n",
    "\n",
    "<h4>4) Perché la banda spettrale occupata ha solo un'importanza relativa rispetto al funzionamento della rete Ethernet?</h4>\n",
    "\n",
    "La ragione è che la trasmissione Ethernet permette l'invio sul canale di una sola trama alla volta, ovvero esso non è un metodo di trasmissione WDM (<i>Wavelength Division Multiplexing</i>). La banda del segnale inviato non deve quindi rispettare un particolare vincolo di banda rappresentato dalla larghezza del canale in cui sarebbe suddiviso l'asse delle frequenze nel caso di una trasmissione WDM."
   ]
  },
  {
   "cell_type": "code",
   "execution_count": null,
   "metadata": {
    "collapsed": true
   },
   "outputs": [],
   "source": []
  }
 ],
 "metadata": {
  "kernelspec": {
   "display_name": "Python 3",
   "language": "python",
   "name": "python3"
  },
  "language_info": {
   "codemirror_mode": {
    "name": "ipython",
    "version": 3
   },
   "file_extension": ".py",
   "mimetype": "text/x-python",
   "name": "python",
   "nbconvert_exporter": "python",
   "pygments_lexer": "ipython3",
   "version": "3.6.0"
  }
 },
 "nbformat": 4,
 "nbformat_minor": 2
}
