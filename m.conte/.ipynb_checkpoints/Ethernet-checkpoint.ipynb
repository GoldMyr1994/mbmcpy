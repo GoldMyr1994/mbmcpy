{
 "cells": [
  {
   "cell_type": "markdown",
   "metadata": {},
   "source": [
    "<center>\n",
    "    <header>\n",
    "        <h1>IEE 802.3: livello fisico e sottolivello MAC</h1>\n",
    "        <h2>Marco Bondaschi, Mauro Conte</h2>\n",
    "        <h4>Laboratorio di Telecomunicazioni</h4>\n",
    "        <h5>Università Degli Studi Di Brescia</h5>\n",
    "        <h6>18/05/2017</h6>\n",
    "    </header>\n",
    "</center>\n",
    "<hr><hr>"
   ]
  },
  {
   "cell_type": "markdown",
   "metadata": {},
   "source": [
    "<h2>Descrizione</h2>\n",
    "\n",
    "Grazie a questa esperienza abbiamo potuto verificare le caratteristiche di una trasmissione di dati attraverso la rete Ethernet 802.3, molto utilizzato nelle reti LAN. Con l'ausilio di un oscilloscopio, collegato con un cavo coassiale tra due PC, abbiamo potuto visualizzare fisicamente le trame trasmesse tra i due dispositivi ed analizzare le tecniche di codifica utilizzate, nonché osservare il metodo di risoluzione di conflitti implementato, conosciuto come CSMA/CD (Carrier Sense Multiple Access/Collision Detection)."
   ]
  },
  {
   "cell_type": "markdown",
   "metadata": {},
   "source": [
    "<h2>Strumenti</h2>\n",
    "\n",
    "Gli strumenti che abbiamo utilizzato per svolgere questa esperienza sono:\n",
    "<ul>\n",
    "<li>Oscilloscopio digitale <i>Agilent Technologies InfiniiVision MSO-X 3014A</i>;</li>\n",
    "<li>Coppia di PC dotati di scheda di rete;</li>\n",
    "<li><i>Fluke Protocol Inspector</i>, software per l'analisi di protocollo, installato sui due PC;</li>\n",
    "<li>Cavo coassiale con cui collegare tra loro le due schede di rete e l'oscilloscopio.</li>\n",
    "</ul>"
   ]
  },
  {
   "cell_type": "markdown",
   "metadata": {},
   "source": [
    "<h2>Svolgimento</h2>\n",
    "<h3>Configurazione della postazione di lavoro</h3>\n",
    "\n",
    "Per prima cosa abbiamo preparato la postazione di lavoro, collegando i due PC e le loro periferiche, ed utilizzando il cavo coassiale in dotazione per collegare le due schede di rete Ethernet, e tra di esse il canale 1 dell'oscilloscopio digitale.\n",
    "Fatto ciò, abbiamo acceso i due PC ed avviato su entrambi il software di analisi di protocollo <i>Fluke Protocol Inspector</i>."
   ]
  },
  {
   "cell_type": "markdown",
   "metadata": {
    "collapsed": true
   },
   "source": [
    "<h2>Caratteristiche elettriche del segnale</h2>\n",
    "\n",
    "L'obiettivo della prima parte dell'esperienza è quello di analizzare una trama Ethernet inviata da un PC all'altro. Per fare questo abbiamo utilizzato la modalità <i>Transmit Mode</i> di <i>Fluke Protocol Inspector</i>, e tramite il menù <i>Traffic Generator</i> abbiamo inviato (in modo continuo) una trama IP, con una frequenza di 200 trame/sec. Abbiamo quindi preso un'unica acquisizione con l'oscilloscopio, e ciò che abbiamo ottenuto è la seguente forma d'onda:\n",
    "\n",
    "..IMMAGINE..\n",
    "\n",
    "<h3>Domande</h3>\n",
    "\n",
    "<h4>1) Perché è necessario utilizzare dei terminatori da 50Ω nella connessione tra le due schede? Qual è di conseguenza il valore di impedenza d'ingresso da impostare sull'oscilloscopio?</h4>\n",
    "\n",
    "&Egrave; necessario utilizzare dei terminatori da 50Ω nella connessione tra le due schede in quanto esso è il valore di impedenza caratteristica di un generico cavo coassiale. Il terminatore permette quindi di raggiungere una condizione di adattamento tra le schede di rete ed il cavo, prevenendo la riflessione delle onde, che si genererebbe a causa della differenza tra l'impedenza del cavo coassiale e quella delle schede di rete, che è pari a 25Ω. Anche in ingresso all'oscilloscopio è quindi bene impostare come impedenza d'ingresso il valore di 50Ω, per la stessa ragione esposta in precedenza.\n",
    "\n",
    "<h4>2) Determinare le caratteristiche elettriche del segnale prodotto: codifica utilizzata, ampiezza, numero di simboli e di bit trasmessi per secondo.</h4>\n",
    "\n",
    "Dopo aver visualizzato la forma d'onda inviata dal PC sull'oscilloscopio, abbiamo potuto analizzare con precisione le trame inviate.\n",
    "La codifica utilizzata per inviare i bit è la classica <i>codifica Manchester</i>: la particolarità di questa codifica è che essa, a differenza di altre codifiche, non associa al valore di un bit un segnale alto o basso; al contrario, l'informazione è contenuta nella transizione da un livello alto/basso all'altro: al bit 0 è associata una transizione alto-basso, mentre al bit 1 una transizione basso-alto. Inoltre, nell'invio degli indirizzi MAC, i bit vengono trasmessi in ordine inverso, dal meno significativo al più significativo (una tecnica chiamata <i>little-endian</i>).\n",
    "Per quanto concerne l'ampiezza dei segnali inviati, il livello basso è pari a $0\\,V$, mentre quello alto è pari a $-2\\,V$.\n",
    "La velocità di trasmissione misurata con l'oscilloscopio è risultata pari a $10\\,Mbit/s$, in accordo con quanto affermato dal <i>Fluke Protocol Inspector</i>. Di conseguenza, il numero di simboli (ovvero di <i>byte</i>) inviati al secondo è pari a $\\frac{10}{8}=1,25\\,MB/s$.\n",
    "\n",
    "<h4>3) Cosa si può dire dello spettro di questo segnale in rapporto al numero di simboli trasmessi al secondo?</h4>\n",
    "\n",
    "Aumentando il numero di simboli inviati al secondo, aumenta la frequenza dell'onda che viene trasmessa sul canale e di conseguenza la banda dello spettro si allarga fino a frequenze più alte.\n",
    "\n",
    "<h4>4) Perché la banda spettrale occupata ha solo un'importanza relativa rispetto al funzionamento della rete Ethernet?</h4>\n",
    "\n",
    "La ragione è che la trasmissione Ethernet permette l'invio sul canale di una sola trama alla volta, ovvero esso non è un metodo di trasmissione WDM (<i>Wavelength Division Multiplexing</i>). La banda del segnale inviato non deve quindi rispettare un particolare vincolo di banda rappresentato dalla larghezza del canale in cui sarebbe suddiviso l'asse delle frequenze nel caso di una trasmissione WDM."
   ]
  },
  {
   "cell_type": "markdown",
   "metadata": {
    "collapsed": true
   },
   "source": [
    "<h2>Struttura delle trame</h2>\n",
    "\n",
    "A questo punto abbiamo analizzato più nel dettaglio il <i>significato</i> dei bit trasmessi, al di là delle caratteristiche elettriche degli stessi. Per fare ciò ci siamo concentrati su una singola trama, e abbiamo \"tradotto\" la forma d'onda nei relativi bit.\n",
    "\n",
    "<h3>Domande</h3>\n",
    "\n",
    "<h4>1) Qual è la lunghezza minima di una trama?</h4>\n",
    "\n",
    "La lunghezza minima di una trama Ethernet è pari a 72 byte (64 byte di frame Ethernet a cui vanno aggiunti i 7 byte di preambolo e il byte dello <i>Start of Frame</i>). Nel nostro caso, poichè il campo dati era minore dei 46 byte minimi, sono stati aggiunti degli 0 al termine del payload fino a raggiungere i 64 byte (tecnica dello <i>zero-padding</i>).\n",
    "\n",
    "<h4>2) Quali possono essere le conseguenze della presenza di trame troppo corte su una rete CSMA/CD?</h4>\n",
    "\n",
    "Il problema principale di inviare trame troppo corte è che è possibile che nessuno dei due utenti della rete si accorgano di un'avvenuta collisione che ha corrotto il messaggio. Infatti, la condizione necessaria affinchè sia possibile rilevare una collisione è che il tempo di trasmissione della più piccola trama possibile sia maggiore del <i>Round Trip Time</i> (ovvero del tempo di anata e ritorno) di un pacchetto di identiche dimensioni. Inoltre è necessario trovare un equilibrio tra la dimensione minima e quella massima di una trama: infatti una trama troppo lunga terrebbe il canale di trasmissione occupato per un tempo molto lungo, rallentando la trasmissione; d'altro canto, una trama troppo breve causerebbe un aumento del numero di collisioni, e quindi la necessità di re-inviare dei pacchetti, sprecando tempo.\n",
    "\n",
    "<h4>3) Identificare il preambolo e il delimitatore dell’inizio della trama. Qual è la durata del preambolo? Da quale sequenza binaria è composto e perché?</h4>\n",
    "\n",
    "Come abbiamo potuto vedere bene dall'oscilloscopio, i primi 7 byte della trama sono il cosiddetto <i>Preambolo</i>, dove una sequenza di bit 1-0 viene inviata per permettere la sincronizzazione tra trasmettitore e ricevitore. Completato il preambolo, segue un singolo byte di <i>Start of Frame</i> (<i>SOF</i>), pari a 10101011, il cui compito è avvisare il ricevitore che dal byte successivo ha inizio la vera e propria trama Ethernet. In questa fase i bit sono inviati, come di norma, dal più significativo al meno significativo.\n",
    "\n",
    "<h4>4) Decodificare i campi dell’indirizzo di destinazione, dell’indirizzo di sorgente e lunghezza dei dati. Confrontare con i parametri impostati sul generatore di traffico.</h4>\n",
    "\n",
    "Successivamente al byte di SOF vengono inviati gli indirizzi MAC di destinazione e di sorgente: essi sono indirizzi fisici che permettono un'identificazione univoca della scheda di rete nel mondo, a differenza dell'indirizzo IP, che permette di identificare unicamente un dispositivo sulla singola rete. L'indirizzo MAC è composto da 6 byte: nel nostro caso quello di destinazione era pari a 00:00:00:00:00:01, mentre quello di sorgente 00:00:00:00:00:10. Come notato in precedenza, i byte sono stati inviati dal più significativo al meno significativo, mentre i bit all'interno di un singolo byte sono stati inviati dal meno significativo al più significativo (<i>little-endian</i>), al contrario del <i>Preambolo</i>.\n",
    "Segue gli indirizzi MAC l'<i>Ether Type</i>, un campo di due byte che nel nostro caso (<i>Ethernet II</i>) indica il protocollo contenuto nel payload Ethernet. Come prevedibile, nella nostra trama l'EtherType valeva 0x0800, valore che indica il protocollo <i>IPv4</i>.\n",
    "In coda all'<i>EtherType</i> viene inviato il <i>Payload</i>, ovvero il campo dati. Nel nostro caso, avendo deciso di inviare solo 4 byte pari a 1, il resto del campo è risultato composto da zeri (<i>zero-padding</i>), fino all durata minima consentita per il <i>Payload</i>, pari a 46 byte. Abbiamo verificato questa lunghezza con l'ausilio dei cursori dell'oscilloscopio: abbiamo posto il primo cursore all'inizio del <i>Payload</i>, ed il secondo alla fine. Quindi abbiamo diviso la durata totale del <i>Payload</i> per la durata di un singolo bit (pari a $100\\,ns$), ottenendo in questo modo il numero di bit. Dividendo a sua volta questo numero per 8, abbiamo ricavato i 46 byte previsti.\n",
    "Infine, gli ultimi 4 byte della trama sono occupati dalla <i>Checksum</i>, una sequenza di bit che permette al ricevitore di verificare che la trama inviata non contenga errori."
   ]
  },
  {
   "cell_type": "code",
   "execution_count": null,
   "metadata": {
    "collapsed": true
   },
   "outputs": [],
   "source": []
  }
 ],
 "metadata": {
  "kernelspec": {
   "display_name": "Python 3",
   "language": "python",
   "name": "python3"
  },
  "language_info": {
   "codemirror_mode": {
    "name": "ipython",
    "version": 3
   },
   "file_extension": ".py",
   "mimetype": "text/x-python",
   "name": "python",
   "nbconvert_exporter": "python",
   "pygments_lexer": "ipython3",
   "version": "3.6.0"
  }
 },
 "nbformat": 4,
 "nbformat_minor": 2
}
