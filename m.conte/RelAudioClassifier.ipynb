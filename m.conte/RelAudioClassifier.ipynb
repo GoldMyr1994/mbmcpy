{
 "cells": [
  {
   "cell_type": "markdown",
   "metadata": {},
   "source": [
    "<header>\n",
    "    <h1>Audio Classifier Python</h1>\n",
    "    <h2>Marco Bondaschi, Mauro Conte</h2>\n",
    "    <h3>Marco@Bondaschi, Mauro@Conte</h3>\n",
    "    <h4>Laboratorio di Telecomunicazioni</h4>\n",
    "    <h5>Università Degli Studi Di Brescia</h5>\n",
    "    <h6>13/03/2017</h6>\n",
    "</header>\n",
    "<hr>\n",
    "<section>\n",
    "    <h3>Classificazioni</h3>\n",
    "    <ol>\n",
    "        <li>Mth1: una pase perogni specie, \n",
    "        proietto ricostruisco e aluto l'errore</li>\n",
    "        <li>Mth2: bla bla bla</li>\n",
    "        <li>Mth3:bla bla</li>\n",
    "    </ol>\n",
    "</section>"
   ]
  },
  {
   "cell_type": "markdown",
   "metadata": {},
   "source": [
    "# Questo è header\n",
    "## subtitle\n",
    "=============\n",
    "# sottoheader\n",
    "## sottosottotitolo\n",
    "_____________"
   ]
  },
  {
   "cell_type": "code",
   "execution_count": null,
   "metadata": {
    "collapsed": true,
    "slideshow": {
     "slide_type": "-"
    }
   },
   "outputs": [],
   "source": [
    "from scipy import signal, linalg\n",
    "import scipy.io.wavfile\n",
    "import numpy as np\n",
    "import o\n",
    "import math\n",
    "import sys\n",
    "\n",
    "def load_audio(path):\n",
    "    audio_list = []\n",
    "    for filename in os.listdir(path):\n",
    "        rate, data = scipy.io.wavfile.read(path + filename) \n",
    "        audio_list.append((rate, data, filename))\n",
    "    return audio_list\n",
    "\n",
    "\n",
    "def get_spectrogram(data, rate):\n",
    "    f, t, sxx = signal.spectrogram(data, rate, 'hamming', 512, 160, 512)\n",
    "    spectrogram = 10 * np.log10(sxx + sys.float_info.min)\n",
    "    return spectrogram\n",
    "\n",
    "\n",
    "def get_spectrogram_from_list(collection):\n",
    "    spectrogram = None\n",
    "    for rate,data,f_name in collection:\n",
    "        if spectrogram is None: spectrogram = get_spectrogram(data,rate)\n",
    "        else: scipy.hstack((spectrogram, get_spectrogram(data,rate)))\n",
    "    return spectrogram\n",
    "\n",
    "def get_base_from_spectrogram(spectrogram,percent):\n",
    "    u, s, v = np.linalg.svd(spectrogram)\n",
    "    energy_e_value = np.sum(s)\n",
    "    current_sum = 0\n",
    "    percent_sum = energy_e_value * percent / 100\n",
    "    for i in range(len(s)):\n",
    "        current_sum += s[i]\n",
    "        if current_sum >= percent_sum:\n",
    "            break\n",
    "    base = u[:, range(0, i)]\n",
    "    return base\n",
    "\n",
    "\n",
    "def get_feature_mean(spectrogram, base):\n",
    "    mean_vector = np.zeros(base.shape[1])\n",
    "    coefficient_on_base = np.dot(spectrogram.T, base)\n",
    "    mean_vector += np.mean(coefficient_on_base, 0)\n",
    "    return mean_vector\n",
    "\n",
    "def get_feature_mean_from_list(collection, base):\n",
    "    mean_vector = np.zeros(base.shape[1])\n",
    "    for rate, data, filename in collection:\n",
    "        spectrogram = get_spectrogram(data,rate)\n",
    "        mean_vector += get_feature_mean(spectrogram,base)\n",
    "    return mean_vector / len(collection)\n",
    "\n",
    "def get_error_base(spectrogram, base):\n",
    "    coefficient_on_base = np.dot(spectrogram.T, base)\n",
    "    spectrogram_ric = np.dot(coefficient_on_base, base.T).T\n",
    "    error = np.linalg.norm(spectrogram - spectrogram_ric)\n",
    "    return error"
   ]
  },
  {
   "cell_type": "code",
   "execution_count": 195,
   "metadata": {
    "collapsed": true
   },
   "outputs": [],
   "source": [
    "path_db = os.getcwd()+'/05_AudioClassifier_Pdf/05_AudioClassifier_Pdf/database/'\n",
    "path_music = path_db + 'music/'\n",
    "path_speech = path_db + 'speech/'\n",
    "path_unknowns = path_db.replace('database/', '') + 'unknownSounds/'"
   ]
  },
  {
   "cell_type": "code",
   "execution_count": 196,
   "metadata": {
    "collapsed": true
   },
   "outputs": [],
   "source": [
    "music = load_audio(path_music)\n",
    "speech = load_audio(path_speech)\n",
    "unknowns = load_audio(path_unknowns)"
   ]
  },
  {
   "cell_type": "code",
   "execution_count": 197,
   "metadata": {
    "collapsed": false
   },
   "outputs": [],
   "source": [
    "spectrogram_music = get_spectrogram_from_list(music)\n",
    "spectrogram_speech = get_spectrogram_from_list(speech)\n",
    "spectrogram_total = scipy.hstack((spectrogram_music, spectrogram_speech))"
   ]
  },
  {
   "cell_type": "code",
   "execution_count": 213,
   "metadata": {
    "collapsed": false
   },
   "outputs": [],
   "source": [
    "energy = 50\n",
    "base_music = get_base_from_spectrogram(spectrogram_music,energy)\n",
    "base_speech = get_base_from_spectrogram(spectrogram_speech,energy)\n",
    "base_total = get_base_from_spectrogram(spectrogram_total,energy)"
   ]
  },
  {
   "cell_type": "code",
   "execution_count": 214,
   "metadata": {
    "collapsed": false
   },
   "outputs": [],
   "source": [
    "feature_mean_music = get_feature_mean_from_list(music,base_music)\n",
    "feature_mean_speech = get_feature_mean_from_list(speech,base_speech)\n",
    "feature_mean_music_on_total = get_feature_mean_from_list(music,base_total)\n",
    "feature_mean_speech_on_total = get_feature_mean_from_list(speech,base_total)"
   ]
  },
  {
   "cell_type": "code",
   "execution_count": 216,
   "metadata": {
    "collapsed": false
   },
   "outputs": [
    {
     "name": "stdout",
     "output_type": "stream",
     "text": [
      "Item:  004_BobDylan-OxfordTown-10s-B.wav\n",
      "\tMetodo1::  PARLATO\n",
      "\tMetodo2::  MUSICA\n",
      "\tMetodo3::  MUSICA\n",
      "Item:  007si1079.wav\n",
      "\tMetodo1::  PARLATO\n",
      "\tMetodo2::  PARLATO\n",
      "\tMetodo3::  PARLATO\n",
      "Item:  007si1271.wav\n",
      "\tMetodo1::  PARLATO\n",
      "\tMetodo2::  PARLATO\n",
      "\tMetodo3::  PARLATO\n",
      "Item:  010_CiboMatto-Moonchild-10s-A.wav\n",
      "\tMetodo1::  MUSICA\n",
      "\tMetodo2::  MUSICA\n",
      "\tMetodo3::  MUSICA\n",
      "Item:  014si1291.wav\n",
      "\tMetodo1::  PARLATO\n",
      "\tMetodo2::  PARLATO\n",
      "\tMetodo3::  PARLATO\n",
      "Item:  016si1621.wav\n",
      "\tMetodo1::  PARLATO\n",
      "\tMetodo2::  PARLATO\n",
      "\tMetodo3::  PARLATO\n",
      "Item:  019_Nirvana-Downer-10s-B.wav\n",
      "\tMetodo1::  MUSICA\n",
      "\tMetodo2::  MUSICA\n",
      "\tMetodo3::  MUSICA\n",
      "Item:  024_JimiHendrix-WaitUntilTomorrow-10s-A.wav\n",
      "\tMetodo1::  MUSICA\n",
      "\tMetodo2::  MUSICA\n",
      "\tMetodo3::  MUSICA\n"
     ]
    }
   ],
   "source": [
    "for rate,data,filename in unknowns:\n",
    "    current_spectrogram = get_spectrogram(data , rate)\n",
    "    print('Item: ',filename)\n",
    "    \n",
    "    err_on_speech = get_error_base(current_spectrogram,base_speech)\n",
    "    err_on_music = get_error_base(current_spectrogram,base_music)\n",
    "    print('\\tMetodo1:: ','MUSICA' if err_on_music<err_on_speech else'PARLATO')\n",
    "\n",
    "    err_on_speech = np.linalg.norm(feature_mean_speech-get_feature_mean(current_spectrogram,base_speech))\n",
    "    err_on_music = np.linalg.norm(feature_mean_music-get_feature_mean(current_spectrogram,base_music))\n",
    "    print('\\tMetodo2:: ','MUSICA' if err_on_music<err_on_speech else'PARLATO')\n",
    "    \n",
    "    err_on_speech = np.linalg.norm(feature_mean_speech_on_total-get_feature_mean(current_spectrogram,base_total))\n",
    "    err_on_music = np.linalg.norm(feature_mean_music_on_total-get_feature_mean(current_spectrogram,base_total))\n",
    "    print('\\tMetodo3:: ','MUSICA' if err_on_music<err_on_speech else'PARLATO')"
   ]
  },
  {
   "cell_type": "code",
   "execution_count": null,
   "metadata": {
    "collapsed": true
   },
   "outputs": [],
   "source": []
  },
  {
   "cell_type": "code",
   "execution_count": null,
   "metadata": {
    "collapsed": true
   },
   "outputs": [],
   "source": []
  }
 ],
 "metadata": {
  "kernelspec": {
   "display_name": "Python 3",
   "language": "python",
   "name": "python3"
  },
  "language_info": {
   "codemirror_mode": {
    "name": "ipython",
    "version": 3
   },
   "file_extension": ".py",
   "mimetype": "text/x-python",
   "name": "python",
   "nbconvert_exporter": "python",
   "pygments_lexer": "ipython3",
   "version": "3.6.0"
  }
 },
 "nbformat": 4,
 "nbformat_minor": 0
}
