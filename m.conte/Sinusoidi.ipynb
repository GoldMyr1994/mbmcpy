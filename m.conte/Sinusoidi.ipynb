{
 "cells": [
  {
   "cell_type": "markdown",
   "metadata": {},
   "source": [
    "<center>\n",
    "    <header>\n",
    "        <h1>Campioname</h1>\n",
    "        <h2>Marco Bondaschi, Mauro Conte</h2>\n",
    "        <h4>Laboratorio di Telecomunicazioni</h4>\n",
    "        <h5>Università Degli Studi Di Brescia</h5>\n",
    "        <h6>13/03/2017</h6>\n",
    "    </header>\n",
    "</center>\n",
    "<hr><hr>"
   ]
  },
  {
   "cell_type": "markdown",
   "metadata": {},
   "source": [
    "<h2>Descrizione</h2>\n",
    "\n",
    "Per questa seconda esperienza di laboratorio abbiamo preso un segnale analogico di base, lo abbiamo campionato tramite un mantenitore e lo abbiamo ricostruito con un filtro digitale del quarto ordine. Lo scopo dell'esperienza è stato quello di valutare gli effetti di questi passaggi sul segnale ricostruito, comprese le modifiche che entrano in gioco utilizzando un oscilloscopio per visualizzare le forme d'onda.\n",
    "In particolare, abbiamo valutato le differenze di effetti che questo procedimento causava su due diversi segnali:\n",
    "<ul>\n",
    "<li>$x\\left(t\\right)=sin\\left(2\\pi{f_0}t\\right)$, con   $\\ f_0=500\\:Hz$</li>\n",
    "<li>$y\\left(t\\right)=\\left|\\,sin\\left(2\\pi{f_0}t\\right)\\,\\right|$, con   $\\ f_0=500\\:Hz$</li>\n",
    "</ul>"
   ]
  },
  {
   "cell_type": "markdown",
   "metadata": {},
   "source": [
    "<h2>Strumenti</h2>\n",
    "\n",
    "Per raggiungere questi obiettivi abbiamo utilizzato i seguenti strumenti:\n",
    "<ul>\n",
    "<li>Oscilloscopio digitale <i>Agilent Technologies InfiniiVision MSO-X 3014A</i></li>\n",
    "<li>Generatore di segnali analogico <i>HP 33120A</i></li>\n",
    "<li>Filtro di ricostruzione digitale del IV ordine a capacità commutate</li>\n",
    "<li>Microsoft Excel</li>\n",
    "</ul>"
   ]
  },
  {
   "cell_type": "code",
   "execution_count": null,
   "metadata": {
    "collapsed": true
   },
   "outputs": [],
   "source": [
    "<h2>Svolgimento</h2>\n",
    "\n",
    "Il primo segnale con cui abbiamo"
   ]
  }
 ],
 "metadata": {
  "kernelspec": {
   "display_name": "Python 3",
   "language": "python",
   "name": "python3"
  },
  "language_info": {
   "codemirror_mode": {
    "name": "ipython",
    "version": 3
   },
   "file_extension": ".py",
   "mimetype": "text/x-python",
   "name": "python",
   "nbconvert_exporter": "python",
   "pygments_lexer": "ipython3",
   "version": "3.6.0"
  }
 },
 "nbformat": 4,
 "nbformat_minor": 2
}
