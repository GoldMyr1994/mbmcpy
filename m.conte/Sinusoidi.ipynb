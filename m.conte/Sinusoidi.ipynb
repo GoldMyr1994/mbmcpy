{
 "cells": [
  {
   "cell_type": "markdown",
   "metadata": {},
   "source": [
    "<center>\n",
    "    <header>\n",
<<<<<<< HEAD
    "        <h1>Campionamento</h1>\n",
=======
    "        <h1>Campioname (BOZZA DEL SABATO POMERIGGIO)</h1>\n",
>>>>>>> 693fbf2053974a5d844bdb0e502d029efd568288
    "        <h2>Marco Bondaschi, Mauro Conte</h2>\n",
    "        <h4>Laboratorio di Telecomunicazioni</h4>\n",
    "        <h5>Università Degli Studi Di Brescia</h5>\n",
    "        <h6>13/03/2017</h6>\n",
    "    </header>\n",
    "</center>\n",
    "<hr><hr>"
   ]
  },
  {
   "cell_type": "code",
   "execution_count": 7,
   "metadata": {
    "collapsed": false
   },
   "outputs": [
    {
     "data": {
      "text/html": [
       "\n",
       "<style>\n",
       "    table{ \n",
       "        width:950px;    //fixed width, 950px layout large\n",
       "        margin: 0 auto; //ceter table in body\n",
       "    }\n",
       "    \n",
       "    td,th{\n",
       "        text-align:center !important;\n",
       "    }\n",
       "     \n",
       "</style>\n"
      ],
      "text/plain": [
       "<IPython.core.display.HTML object>"
      ]
     },
     "execution_count": 7,
     "metadata": {},
     "output_type": "execute_result"
    }
   ],
   "source": [
    "#Stili per la tabella delle operazioni sui segnali\n",
    "from IPython.core.display import HTML\n",
    "HTML(\"\"\"\n",
    "<style>\n",
    "    table{ \n",
    "        width:950px;    //fixed width, 950px layout large\n",
    "        margin: 0 auto; //ceter table in body\n",
    "    }\n",
    "    \n",
    "    td,th{\n",
    "        text-align:center !important;\n",
    "    }\n",
    "     \n",
    "</style>\n",
    "\"\"\")"
   ]
  },
  {
   "cell_type": "markdown",
   "metadata": {},
   "source": [
    "<h2>Descrizione</h2>\n",
    "\n",
    "Per questa seconda esperienza di laboratorio abbiamo preso un segnale analogico di base, lo abbiamo campionato tramite un mantenitore e lo abbiamo ricostruito con un filtro digitale del quarto ordine. Lo scopo dell'esperienza è stato quello di valutare gli effetti di questi passaggi sul segnale ricostruito, comprese le modifiche che entrano in gioco utilizzando un oscilloscopio per visualizzare le forme d'onda.\n",
    "In particolare, abbiamo valutato le differenze di effetti che questo procedimento causava su due diversi segnali:\n",
    "<ul>\n",
    "<li>$x\\left(t\\right)=sin\\left(2\\pi{f_0}t\\right)$, con   $\\ f_0=500\\:Hz$</li>\n",
    "<li>$y\\left(t\\right)=\\left|\\,sin\\left(2\\pi{f_0}t\\right)\\,\\right|$, con   $\\ f_0=500\\:Hz$</li>\n",
    "</ul>"
   ]
  },
  {
   "cell_type": "markdown",
   "metadata": {},
   "source": [
    "<h2>Strumenti</h2>\n",
    "\n",
    "Per raggiungere questi obiettivi abbiamo utilizzato i seguenti strumenti:\n",
    "<ul>\n",
    "<li>Oscilloscopio digitale <i>Agilent Technologies InfiniiVision MSO-X 3014A</i></li>\n",
    "<li>Generatore di segnali analogico <i>HP 33120A</i></li>\n",
    "<li>Filtro di ricostruzione digitale del IV ordine a capacità commutate</li>\n",
    "<li>Microsoft Excel</li>\n",
    "</ul>"
   ]
  },
  {
   "cell_type": "markdown",
   "metadata": {
    "collapsed": true
   },
   "source": [
    "<h2>Svolgimento</h2>\n",
    "\n",
<<<<<<< HEAD
    "Il primo segnale con cui abbiamo lavorato è stato $x\\left(t\\right)=sin\\left(2\\pi{f_0}t\\right)$, con   $\\ f_0=500\\:Hz$, che abbiamo creato con il generatore di funzioni e visualizzato, insieme alla sua FFT, sull'oscilloscopio. Plottando i grafici presi dall'oscilloscopio su Excel, abbiamo ottenuto:\n",
    "\n",
    "<img src=\"res/sin.png\">\n",
    "<img src=\"res/fsin.png\">\n",
    "\n"
=======
    "Il primo segnale con cui abbiamo operato è $x\\left(t\\right)=sin\\left(2\\pi{f_0}t\\right)$, con $\\ f_0=500\\:Hz$ la cui trasformata di Fourier calcolata da $-\\infty$ a $\\infty$ può essere facilmente ottenuta applicando prima la formula di eulero è poi la proprietà di modulazione/traslazione della trasformata di Fourier.\n",
    "\n",
    "$$ X\\left(f\\right) = \\mathfrak{F}\\left\\{x\\left(t\\right)\\right\\}=\\mathfrak{F}\\left\\{sin\\left(2\\pi{f_0}t\\right)\\right\\} =  \\mathfrak{F}\\left\\{\\frac{1}{2j}e^{2\\pi f_0t} - \\frac{1}{2j}e^{-2\\pi f_0t}\\right\\} = \\frac{1}{2j}\\delta{\\left(f+f_0\\right)}-\\frac{1}{2j}\\delta{\\left(f-f_0\\right)}$$\n",
    "\n",
    "\n",
    "In primo luogo abbiamo visualizzato sull'oscilloscopio il segnale ottenuto dal generatore di funzioni e ne abbiamo visualizzato lo spettro.\n",
    "\n",
    "Lo spettro ottenuto non coincide con quello calcolato per vari motivi:\n",
    "<ul>\n",
    "    <li>l'oscilloscopio calcola la trasformata di fourier sulla porzione di spettro positivo</li>\n",
    "    <li>l'oscilloscopio visualizza il modulo quadro</li>\n",
    "    <li>l'oscilloscopio visualizza solo una porzione della sinusoide quindi la fft calcolata risulta essere quella di una sinusoide finestrata con un rettangolo di durata il periodo</li>\n",
    "</ul>\n",
    "\n",
    "Quindi limitandoci alla porzione di spettro positivi e valutando il modulo quadro otteniamo\n",
    "$$ X\\left(f\\right) = \\frac{1}{2}\\delta{\\left(f-f_0\\right)} $$\n",
    "Il finestramento della sinusoide con un rettangolo nei tempi equivale ad una convoluzione tra lo spettro della sinusoide,una delta, e lo spettro della finetra rellangolare, un seno cardinale, ottenendo quindi un seno cardinale centrato nella frequenza della sinusoide.\n",
    "\n",
    "<table><tr><td><img src=\"res/sin.png\" /></td><td><img src=\"res/fsin.png\" /></td></tr></table>\n",
    "\n",
    "\n",
    "Utilizzando il generatore di funzione abbiamo generato una sinusoide campionata e mantenuta con 8 campioni sul periodo, l'abbiamo visualizzata sull'oscilloscopio e ne abbiamo mostrato lo spettro.\n",
    "\n",
    "\n",
    "Campionare un segnale a una certa frequenza equivale a moltiplicarlo nel tempo per un pettine di delta con periodo l'inverso della frequenza di campionamento, ciò equivale in frequenza a fare la convoluzione tra lo spettro del segnale e lo spettro di un pettine di delta che è ancora un pettine di delta ma con periodo la frequenza di campionamento. Quindi lo spettro diventa una funzione periodica di periodo la frequenza di campionamento.\n",
    "\n",
    "\n",
    "Inoltre il generatore di funzioini effettua anche un mantenimento sui campioni quindi viene introdotta un ulteriore magagna nello spettro. Mantenere un segnale per un certo periodo equivale nei tempi ad una convoluzione tra il segnale ed un rettngolo  che parte da zero e dura il tempo di mantenimento.\n",
    "Qesta operazione risulta essere quella più deformate per lo spettro infatti in frequenza questo equivale ad un prodotto con un sinc che modifica quindi le ampiezze nello spettro.\n",
    "\n",
    "\n",
    "<table><tr><td><img src=\"res/sin8.png\" /></td><td><img src=\"res/fsin8.png\" /></td></tr></table>\n"
   ]
  },
  {
   "cell_type": "markdown",
   "metadata": {},
   "source": [
    "e parliamo un po del secondo segnale"
   ]
  },
  {
   "cell_type": "markdown",
   "metadata": {},
   "source": [
    "<h1>Le operazioni che intervengono e i loro effetti</h1>\n",
    "\n",
    "<table>\n",
    "    <tr>\n",
    "        <th></th>\n",
    "        <th>Nel Tempo</th>\n",
    "        <th>In Frequenza</th>\n",
    "    </tr>\n",
    "    <tr>\n",
    "        <th>Segnale</th>\n",
    "        <td>$x\\left(t\\right)$</td>\n",
    "        <td>$X\\left(f\\right)$</td>\n",
    "    </tr>\n",
    "    <tr>\n",
    "        <th>Campionamento</th>\n",
    "        <td>$x_c\\left(t\\right)=x\\left(t\\right)\\delta_{T_C}\\left(t\\right)$</td>\n",
    "        <td>$X_c\\left(f\\right)=X\\left(f\\right)*\\frac{1}{T_C}\\delta_{\\frac{1}{T_C}}\\left(f\\right)$</td>\n",
    "    </tr>\n",
    "    <tr>\n",
    "        <th>Mantenimento</th>\n",
    "        <td>$x_m\\left(t\\right)=x_c\\left(t\\right)*rect\\left(\\frac{t-\\frac{T_C}{2}}{T_C}\\right)$</td>\n",
    "        <td>$X_m\\left(f\\right)=X_c\\left(f\\right)T_Csinc\\left(T_Cf\\right)e^{-j\\pi{T_C}{f}}$</td>\n",
    "    </tr>\n",
    "    <tr>\n",
    "        <th>Finestramento</th>\n",
    "        <td>$x_f\\left(t\\right)=x_m\\left(t\\right)rect\\left(\\frac{t}{w}\\right)$</td>\n",
    "        <td>$X_f\\left(f\\right)=X_m\\left(f\\right)*wsinc\\left(wf\\right)$</td>\n",
    "    </tr>\n",
    "</table>\n",
    "\n",
    "Proprietà di convoluzione con un $\\delta_T\\left(\\tau\\right)$:\n",
    "\n",
    "$\\psi\\left(\\tau\\right)*\\sum\\limits^{\\infty}_{k=-\\infty}{\\delta\\left(\\tau-\\frac{k}{\\tau_c}\\right)}= \\sum\\limits^{\\infty}_{k=-\\infty}{ \\psi\\left(\\tau-\\frac{k}{\\tau_c}\\right)}$\n",
    "\n",
    "Sviluppando un po di conti:\n",
    "\n",
    "$X_f\\left(f\\right) = X_m\\left(f\\right)*wsinc\\left(wf\\right) = $\n",
    "\n",
    "$\\quad\\quad\\; =\\left[X_c\\left(f\\right)T_Csinc\\left(T_Cf\\right)e^{-j\\pi{T_C}f}\\right]*wsinc\\left(wf\\right) = $\n",
    "\n",
    "$\\quad\\quad\\; =\\left\\{\\left[X\\left(f\\right)*\\frac{1}{T_C}\\delta_{\\frac{1}{T_C}}\\left(f\\right)\\right]T_Csinc\\left(T_Cf\\right)e^{-j2pif}\\right\\}*wsinc\\left(wf\\right) = $\n",
    "\n",
    "$\\quad\\quad\\; =\\frac{1}{T_C}T_Cw\\left\\{sinc\\left(T_Cf\\right)e^{-j\\pi{T_C}f}\\left[X\\left(f\\right)*\\delta_{\\frac{1}{T_C}}\\left(f\\right)\\right]\\right\\}*sinc\\left(wf\\right) = $\n",
    "\n",
    "$\\quad\\quad\\; =w\\left\\{ sinc\\left(T_Cf\\right)e^{-j\\pi{T_C}f}\\sum\\limits^{\\infty}_{k=-\\infty}{ X\\left(f-\\frac{k}{T_C}\\right)}\\right\\}*sinc\\left(wf\\right)$\n",
    "\n",
    "Con il seguente segnale:\n",
    "\n",
    "$x\\left(t\\right)=sin\\left(2\\pi{f_0}t\\right)$\n",
    "\n",
    "$X\\left(f\\right)=\\frac{j}{2}\\left(\\delta\\left(f+f_0\\right)-\\delta\\left(f-f_0\\right)\\right)$\n",
    "\n",
    "Lavorando solo sulla porzione positiva dello spettro:\n",
    "\n",
    "$-\\frac{j}{2}\\left\\{ \\sum\\limits^{\\infty}_{k=-\\infty}{\\delta\\left(f-f_0-\\frac{k}{T_C}\\right)}sinc\\left(T_Cf\\right)e^{-j\\pi{T_C}f}\\right\\}*sinc\\left(wf\\right) = -\\frac{j}{2}sinc\\left(T_Cf\\right)e^{-j\\pi{T_C}f}\\sum\\limits^{\\infty}_{k=-\\infty}{sinc\\left(w\\left(f-f_0-\\frac{k}{T_C}\\right)\\right)} $"
   ]
  },
  {
   "cell_type": "markdown",
   "metadata": {},
   "source": [
    "<h2>Conclusioni</h2>\n",
    "\n",
    "per non dimenticarcelo\n",
    "...ricordiamo che in tutti i calcoli svolti è stato trascurato il campionamento che l'oscilloscopio effettua sul segnale che essendo a tempi molto brevi crea repliche in molto alta frequenza che non si edono nella fft"
>>>>>>> 693fbf2053974a5d844bdb0e502d029efd568288
   ]
  },
  {
   "cell_type": "code",
   "execution_count": null,
   "metadata": {
    "collapsed": true
   },
   "outputs": [],
   "source": []
  }
 ],
 "metadata": {
  "kernelspec": {
   "display_name": "Python 3",
   "language": "python",
   "name": "python3"
  },
  "language_info": {
   "codemirror_mode": {
    "name": "ipython",
    "version": 3
   },
   "file_extension": ".py",
   "mimetype": "text/x-python",
   "name": "python",
   "nbconvert_exporter": "python",
   "pygments_lexer": "ipython3",
   "version": "3.6.0"
  }
 },
 "nbformat": 4,
 "nbformat_minor": 2
}
