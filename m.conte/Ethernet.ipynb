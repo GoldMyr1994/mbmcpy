{
 "cells": [
  {
   "cell_type": "markdown",
   "metadata": {},
   "source": [
    "<center>\n",
    "    <header>\n",
    "        <h1>IEE 802.3: livello fisico e sottolivello MAC</h1>\n",
    "        <h2>Marco Bondaschi, Mauro Conte</h2>\n",
    "        <h4>Laboratorio di Telecomunicazioni</h4>\n",
    "        <h5>Università Degli Studi Di Brescia</h5>\n",
    "        <h6>18/05/2017</h6>\n",
    "    </header>\n",
    "</center>\n",
    "<hr><hr>"
   ]
  },
  {
   "cell_type": "markdown",
   "metadata": {},
   "source": [
    "<h2>Descrizione</h2>\n",
    "\n",
    "Grazie a questa esperienza abbiamo potuto verificare le caratteristiche di una trasmissione di dati attraverso la rete Ethernet 802.3, molto utilizzato nelle reti LAN. Con l'ausilio di un oscilloscopio, collegato con un cavo coassiale tra due PC, abbiamo potuto visualizzare fisicamente le trame trasmesse tra i due dispositivi ed analizzare le tecniche di codifica utilizzate, nonché osservare il metodo di risoluzione di conflitti implementato, conosciuto come CSMA/CD (Carrier Sense Multiple Access/Collision Detection)."
   ]
  },
  {
   "cell_type": "markdown",
   "metadata": {},
   "source": [
    "<h2>Strumenti</h2>\n",
    "\n",
    "Gli strumenti che abbiamo utilizzato per svolgere questa esperienza sono:\n",
    "<ul>\n",
    "<li>Oscilloscopio digitale <i>Agilent Technologies InfiniiVision MSO-X 3014A</i>;</li>\n",
    "<li>Coppia di PC dotati di scheda di rete;</li>\n",
    "<li><i>Fluke Protocol Inspector</i>, software per l'analisi di protocollo, installato sui due PC;</li>\n",
    "<li>Cavo coassiale con cui collegare tra loro le due schede di rete e l'oscilloscopio.</li>\n",
    "</ul>"
   ]
  },
  {
   "cell_type": "markdown",
   "metadata": {},
   "source": [
    "<h2>Svolgimento</h2>\n",
    "<h3>Configurazione della postazione di lavoro</h3>\n",
    "\n",
    "Per prima cosa abbiamo preparato la postazione di lavoro, collegando i due PC e le loro periferiche, ed utilizzando il cavo coassiale in dotazione per collegare le due schede di rete Ethernet, e tra di esse il canale 1 dell'oscilloscopio digitale.\n",
    "Fatto ciò, abbiamo acceso i due PC ed avviato su entrambi il software di analisi di protocollo <i>Fluke Protocol Inspector</i>."
   ]
  },
  {
   "cell_type": "markdown",
   "metadata": {
    "collapsed": true
   },
   "source": [
    "<h2>Caratteristiche elettriche del segnale</h2>\n",
    "\n",
    "L'obiettivo della prima parte dell'esperienza è quello di analizzare una trama Ethernet inviata da un PC all'altro. Per fare questo abbiamo utilizzato la modalità <i>Transmit Mode</i> di <i>Fluke Protocol Inspector</i>, e tramite il menù <i>Traffic Generator</i> abbiamo inviato (in modo continuo) una trama IP, con una frequenza di 200 trame/sec. Abbiamo quindi preso un'unica acquisizione con l'oscilloscopio, ottenendo la forma d'onda di una trama.\n",
    "\n",
    "<h3>Domande</h3>\n",
    "\n",
    "<h4>1) Perché è necessario utilizzare dei terminatori da 50Ω nella connessione tra le due schede? Qual è di conseguenza il valore di impedenza d'ingresso da impostare sull'oscilloscopio?</h4>\n",
    "\n",
    "&Egrave; necessario utilizzare dei terminatori da 50Ω nella connessione tra le due schede in quanto esso è il valore di impedenza caratteristica di un generico cavo coassiale. Il terminatore permette quindi di raggiungere una condizione di adattamento tra le schede di rete ed il cavo, prevenendo la riflessione delle onde, che si genererebbe a causa della differenza tra l'impedenza del cavo coassiale e quella delle schede di rete, che è pari a 25Ω. Anche in ingresso all'oscilloscopio è quindi bene impostare come impedenza d'ingresso il valore di 50Ω, per la stessa ragione esposta in precedenza.\n",
    "\n",
    "<h4>2) Determinare le caratteristiche elettriche del segnale prodotto: codifica utilizzata, ampiezza, numero di simboli e di bit trasmessi per secondo.</h4>\n",
    "\n",
    "Dopo aver visualizzato la forma d'onda inviata dal PC sull'oscilloscopio, abbiamo potuto analizzare con precisione le trame inviate.\n",
    "La codifica utilizzata per inviare i bit è la classica <i>codifica Manchester</i>: la particolarità di questa codifica è che essa, a differenza di altre codifiche, non associa al valore di un bit un segnale alto o basso; al contrario, l'informazione è contenuta nella transizione da un livello alto/basso all'altro: al bit 0 è associata una transizione alto-basso, mentre al bit 1 una transizione basso-alto. Inoltre, nell'invio degli indirizzi MAC, i bit vengono trasmessi in ordine inverso, dal meno significativo al più significativo (una tecnica chiamata <i>little-endian</i>).\n",
    "Per quanto concerne l'ampiezza dei segnali inviati, il livello basso è pari a $0\\,V$, mentre quello alto è pari a $-2\\,V$.\n",
    "La velocità di trasmissione misurata con l'oscilloscopio è risultata pari a $10\\,Mbit/s$, in accordo con quanto affermato dal <i>Fluke Protocol Inspector</i>. Di conseguenza, il numero di simboli (ovvero di <i>byte</i>) inviati al secondo è pari a $\\frac{10}{8}=1,25\\,MB/s$.\n",
    "\n",
    "<h4>3) Cosa si può dire dello spettro di questo segnale in rapporto al numero di simboli trasmessi al secondo?</h4>\n",
    "\n",
    "Aumentando il numero di simboli inviati al secondo, aumenta la frequenza dell'onda che viene trasmessa sul canale e di conseguenza la banda dello spettro si allarga fino a frequenze più alte.\n",
    "\n",
    "<h4>4) Perché la banda spettrale occupata ha solo un'importanza relativa rispetto al funzionamento della rete Ethernet?</h4>\n",
    "\n",
    "La ragione è che la trasmissione Ethernet permette l'invio sul canale di una sola trama alla volta, ovvero esso non è un metodo di trasmissione WDM (<i>Wavelength Division Multiplexing</i>). La banda del segnale inviato non deve quindi rispettare un particolare vincolo di banda rappresentato dalla larghezza del canale in cui sarebbe suddiviso l'asse delle frequenze nel caso di una trasmissione WDM."
   ]
  },
  {
   "cell_type": "markdown",
   "metadata": {
    "collapsed": true
   },
   "source": [
    "<h2>Struttura delle trame</h2>\n",
    "\n",
    "A questo punto abbiamo analizzato più nel dettaglio il <i>significato</i> dei bit trasmessi, al di là delle caratteristiche elettriche degli stessi. Per fare ciò ci siamo concentrati su una singola trama, e abbiamo \"tradotto\" la forma d'onda nei relativi bit.\n",
    "\n",
    "<h3>Domande</h3>\n",
    "\n",
    "<h4>1) Qual è la lunghezza minima di una trama?</h4>\n",
    "\n",
    "La lunghezza minima di una trama Ethernet è pari a 72 byte (64 byte di frame Ethernet a cui vanno aggiunti i 7 byte di preambolo e il byte dello <i>Start of Frame</i>). Nel nostro caso, poichè il campo dati era minore dei 46 byte minimi, sono stati aggiunti degli 0 al termine del payload fino a raggiungere i 64 byte (tecnica dello <i>zero-padding</i>).\n",
    "\n",
    "<h4>2) Quali possono essere le conseguenze della presenza di trame troppo corte su una rete CSMA/CD?</h4>\n",
    "\n",
    "Il problema principale di inviare trame troppo corte è che è possibile che nessuno dei due utenti della rete si accorgano di un'avvenuta collisione che ha corrotto il messaggio. Infatti, la condizione necessaria affinchè sia possibile rilevare una collisione è che il tempo di trasmissione della più piccola trama possibile sia maggiore del <i>Round Trip Time</i> (ovvero del tempo di anata e ritorno) di un pacchetto di identiche dimensioni. Inoltre è necessario trovare un equilibrio tra la dimensione minima e quella massima di una trama: infatti una trama troppo lunga terrebbe il canale di trasmissione occupato per un tempo molto lungo, rallentando la trasmissione; d'altro canto, una trama troppo breve causerebbe un aumento del numero di collisioni, e quindi la necessità di re-inviare dei pacchetti, sprecando tempo.\n",
    "\n",
    "<h4>3) Identificare il preambolo e il delimitatore dell’inizio della trama. Qual è la durata del preambolo? Da quale sequenza binaria è composto e perché?</h4>\n",
    "\n",
    "Come abbiamo potuto vedere bene dall'oscilloscopio, i primi 7 byte della trama sono il cosiddetto <i>Preambolo</i>, dove una sequenza di bit 1-0 viene inviata per permettere la sincronizzazione tra trasmettitore e ricevitore. Completato il preambolo, segue un singolo byte di <i>Start of Frame</i> (<i>SOF</i>), pari a 10101011, il cui compito è avvisare il ricevitore che dal byte successivo ha inizio la vera e propria trama Ethernet. In questa fase i bit sono inviati, come di norma, dal più significativo al meno significativo.\n",
    "\n",
    "<h4>4) Decodificare i campi dell’indirizzo di destinazione, dell’indirizzo di sorgente e lunghezza dei dati. Confrontare con i parametri impostati sul generatore di traffico.</h4>\n",
    "\n",
    "Successivamente al byte di SOF vengono inviati gli indirizzi MAC di destinazione e di sorgente: essi sono indirizzi fisici che permettono un'identificazione univoca della scheda di rete nel mondo, a differenza dell'indirizzo IP, che permette di identificare unicamente un dispositivo sulla singola rete. L'indirizzo MAC è composto da 6 byte: nel nostro caso quello di destinazione era pari a 00:00:00:00:00:01, mentre quello di sorgente 00:00:00:00:00:10. Come notato in precedenza, i byte sono stati inviati dal più significativo al meno significativo, mentre i bit all'interno di un singolo byte sono stati inviati dal meno significativo al più significativo (<i>little-endian</i>), al contrario del <i>Preambolo</i>.\n",
    "Segue gli indirizzi MAC l'<i>Ether Type</i>, un campo di due byte che nel nostro caso (<i>Ethernet II</i>) indica il protocollo contenuto nel payload Ethernet. Come prevedibile, nella nostra trama l'EtherType valeva 0x0800, valore che indica il protocollo <i>IPv4</i>.\n",
    "In coda all'<i>EtherType</i> viene inviato il <i>Payload</i>, ovvero il campo dati. Nel nostro caso, avendo deciso di inviare solo 4 byte pari a 1, il resto del campo è risultato composto da zeri (<i>zero-padding</i>), fino all durata minima consentita per il <i>Payload</i>, pari a 46 byte. Abbiamo verificato questa lunghezza con l'ausilio dei cursori dell'oscilloscopio: abbiamo posto il primo cursore all'inizio del <i>Payload</i>, ed il secondo alla fine. Quindi abbiamo diviso la durata totale del <i>Payload</i> per la durata di un singolo bit (pari a $100\\,ns$), ottenendo in questo modo il numero di bit. Dividendo a sua volta questo numero per 8, abbiamo ricavato i 46 byte previsti.\n",
    "Infine, gli ultimi 4 byte della trama sono occupati dalla <i>Checksum</i>, una sequenza di bit che permette al ricevitore di verificare che la trama inviata non contenga errori."
   ]
  },
  {
   "cell_type": "markdown",
   "metadata": {
    "collapsed": true
   },
   "source": [
    "<h2>Collisioni e risoluzione dei conflitti d’accesso</h2>\n",
    "\n",
    "Per svolgere quest'ultima parte abbiamo, al contrario dei punti precedenti, prodotto trame utilizzando entrambi i PC e le abbiamo inviate contemporaneamente attraverso il cavo coassiale, in modo da poter analizzare cosa succedeva nel caso di collisioni tra i dati. Per facilitare la possibilità di collisione e poter analizzare meglio il fenomeno, abbiamo generato traffico in modo pesante, impostando il tasso di utilizzo al 30% dal menù <i>Traffic Generator</i> di <i>Fluke Protocol Inspector</i>. Non potendo però ottenere statistiche sulle collisioni direttamente dal software a causa di limiti delle schede di rete, ci siamo affidati a considerazioni di tipo qualitativo derivanti da quanto mostrato sull'oscilloscopio. Due esempi di collisioni che abbiamo osservato sono i seguenti:\n",
    "\n",
    "<table class=\"timage\"><tr><td><img src=\"res/collisione1.bmp\" /></td><td><img src=\"res/collisione2.bmp\" /></td></tr></table>\n",
    "\n",
    "<h3>Domande</h3>\n",
    "\n",
    "<h4>1) Come si identifica una collisione? Descrivere le caratteristiche della forma d’onda visualizzata sull’oscilloscopio.</h4>\n",
    "\n",
    "Durante una collisione, vi è un intervallo di tempo in cui le trame inviate dai due PC si sovrappongono, generando di conseguenza picchi negativi di $-4\\,V$. Dopo questo primo intervallo di tempo, appena uno dei due utenti si accorge della collisione, interrompe la trasmissione della trama e inizia ad inviare un segnale particolare dalla durata di 48 byte, il cosiddetto <i>segnale di jamming</i>, per permettere a tutte le stazioni sulla rete di accorgersi della collisione ed interrompere eventuali trasmissioni. Come abbiamo potuto stabilire dall'oscilloscopio nel momento in cui un solo segnale di jamming veniva trasmesso (e quindi senza essere \"sporcato\" dalla sovrapposizione con altre trame), esso è composto da una sequenza di bit 1-0 ripetuta fino al raggiungimento dei 48 bit.\n",
    "\n",
    "<h4>2) Qual è la durata del disturbo che segue una collisione? Perché?</h4>\n",
    "\n",
    "Come detto precedentemente, la durata del segnale di jamming è pari a 46 bit. La ragione è che in questo modo ogni stazione in ascolto sulla rete in quel momento riceva il segnale di jamming al posto dei 4 byte del segnale di <i>checksum CRC</i>: così facendo, queste stazioni sono costrette a scartare le trame che stavano ricevendo (e che erano soggette ad errori a causa della collisione) a causa di un errore nel calcolo della checksum.\n",
    "\n",
    "<h4>3) Qual è il valore di ritardo inter-trama minimo (interframe gap)? Perché?</h4>\n",
    "\n",
    "Una volta che una stazione, rivelata una collisione, ha inviato il suo segnale di jamming, essa aspetta un certo intervallo di tempo, chiamato <i>periodo di backoff</i>, prima di re-inviare la trama. Il periodo di backoff è calcolato secondo un algoritmo che tiene conto del numero di collisioni avvenute: più questo valore è alto, più cresce il periodo di attesa.  prima della ritrasmissione; nel caso avvengano più di 16 collisioni, la trasmissione viene interrotta riportando un messaggio di errore. In pratica, il periodo di backoff è sempre un multiplo di un tempo di base, ed il moltiplicatore cresce esponenzialmente con il numero di collisioni avvenute.\n",
    "L'intervallo di tempo minimo prima del re-invio delle trame è pari al <i>Round Trip Time</i> (RTT), ovvero il tempo impiegato da un pacchetto di dimensioni trascurabili a percorrere andata e ritorno sulla linea tra i due terminali. Aspettando questo intervallo di tempo prima del re-invio della trama permette di essere certi che non avvenga lungo il canale una <i>late collision</i>, ovvero una collisione che avviene dopo che una stazione ha finito di trasmettere la propria trama: nel caso questo avvenga, la stazione che ha inviato la trama non può accorgersi della collisione e quindi non procede alla ritrasmissione della trama.\n",
    "\n",
    "<h4>4) Qual è il tempo di base misurato (effettuare tante misure)?</h4>\n",
    "\n",
    "Confrontando i tempi di attesa prima della ritrasmissione dei due PC, abbiamo individuato che quello più breve era pari a circa $9,6\\,\\mu s$ (valore misurato ancora una volta grazie ai cursori dell'oscilloscopio); abbiamo quindi assunto questo valore come il ritardo inter-trama minimo.\n",
    "\n",
    "<h4>5) Qual è l’influenza della lunghezza di trama sul numero di collisioni mantenendo un tasso di utilizzazione costante?</h4>\n",
    "\n",
    "Mantenendo il tasso di utilizzo al 30%, abbiamo modificato le impostazioni della nostra trama dal menù <i>Traffic Generator</i> affinchè le dimensioni del payload fossero maggiori. Ciò che abbiamo notato è che più le trame sono lunghe, più esse tengono occupato il segnale impedendo alla altre stazioni in ascolto di trasmittere a loro volta dei dati. Questo fa sì che il numero di collisioni nello stesso periodo di tempo cali drasticamente, tanto che per noi è stato difficile riuscire, con l'acquisizione singola dell'oscilloscopio, a visualizzare una collisione. Questo discorso si ricollega a quanto detto prima riguardo alla necessità di un limite inferiore e di uno superiore per quanto riguarda la lunghezza di una trama Ethernet per permettere una comunicazione efficace sulla rete.\n"
   ]
  },
  {
   "cell_type": "markdown",
   "metadata": {},
   "source": [
    "<h2>Conclusioni</h2>\n",
    "\n",
    "Ricapitolando, collegando le schede di rete di due PC (dotati di un software per l'analisi di protocollo) attraverso un cavo coassiale, e collegando quest'ultimo all'ingresso di un oscilloscopio, abbiamo potuto analizzare fisicamente come avviene la trasmissione delle trame Ethernet tra due terminali, oltre che ad osservare come vengono gestite le eventuali collisioni dal sistema CSMA/CD implementato dallo standard IEEE 802.3. Grazie all'oscilloscopio abbiamo potuto misurare le caratteristiche elettriche delle trame, tra le quali i valori di tensione in gioco e la durata fisica di un simbolo inviato.\n",
    "Inoltre, sempre con l'oscilloscopio, abbiamo potuto analizzare la struttura effettiva di una trama Ethernet, distinguendo i vari campi e i diversi metodi di codifica del messaggio utlizzati.\n",
    "Infine, abbiamo studiato come vengono riconosciute e gestite le collisioni tra le trame, misurando fisicamente i tempi che intercorrono nel processo."
   ]
  }
 ],
 "metadata": {
  "kernelspec": {
   "display_name": "Python 3",
   "language": "python",
   "name": "python3"
  },
  "language_info": {
   "codemirror_mode": {
    "name": "ipython",
    "version": 3
   },
   "file_extension": ".py",
   "mimetype": "text/x-python",
   "name": "python",
   "nbconvert_exporter": "python",
   "pygments_lexer": "ipython3",
   "version": "3.6.0"
  }
 },
 "nbformat": 4,
 "nbformat_minor": 2
}
