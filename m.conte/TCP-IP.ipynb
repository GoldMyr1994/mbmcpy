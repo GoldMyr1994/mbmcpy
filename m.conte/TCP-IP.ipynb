{
 "cells": [
  {
   "cell_type": "markdown",
   "metadata": {},
   "source": [
    "<center>\n",
    "    <header>\n",
    "        <h1>Analisi dello Stack TCP-IP</h1>\n",
    "        <h2>Marco Bondaschi, Mauro Conte</h2>\n",
    "        <h4>Laboratorio di Telecomunicazioni</h4>\n",
    "        <h5>Università Degli Studi Di Brescia</h5>\n",
    "        <h6>22/05/2017</h6>\n",
    "    </header>\n",
    "</center>\n",
    "<hr><hr>"
   ]
  },
  {
   "cell_type": "markdown",
   "metadata": {},
   "source": [
    "<h2>Descrizione</h2>\n",
    "\n",
    "Con quest'ultima esperienza abbiamo osservato ed analizzato il funzionamento dello stack protocollare TCP-IP, sperimentando i diversi protocolli che esso utilizza per gestire le più svariate attività, e verificando le caratteristiche dei vari pacchetti che entrano in gioco durante la comunicazione tra due terminali. Grazie a questa attività abbiamo quindi sperimentato le diverse opzioni offerte da un classico analizzatore di protocollo, similmente a quanto fatto durante la precedente esercitazione.\n"
   ]
  },
  {
   "cell_type": "markdown",
   "metadata": {},
   "source": [
    "<h2>Strumenti</h2>\n",
    "\n",
    "Gli strumenti che abbiamo utilizzato per svolgere questa esperienza sono:\n",
    "<ul>\n",
    "<li>I nostri due computer Windows, su cui è stato installato l'analizzatore di protocollo <i>Wireshark</i>;</li>\n",
    "<li>I due PC in dotazione al laboratorio, su cui è presente l'analizzatore di protocollo <i>Fluke Protocol Inspector</i>;</li>\n",
    "<li>Un cavo coassiale con cui collegare tra loro le schede di rete dei due PC;</li>\n",
    "<li>Il software <i>Microsoft Excel</i> per l'elaborazione dei dati ottenuti dall'analisi di protocollo.</li>\n",
    "</ul>\n"
   ]
  },
  {
   "cell_type": "markdown",
   "metadata": {},
   "source": [
    "<h2>Svolgimento</h2>\n",
    "<h3>Configurazione della postazione di lavoro</h3>\n",
    "\n",
    "Per svolgere la prima parte dell'esperienza abbiamo utilizzato i nostri due PC, su cui abbiamo installato <i>Wireshark</i>. Poichè la rete universitaria impediva di inviare pacchetti ping tra i due terminali, abbiamo optato per l'utilizzo di un <i>hotspot</i> tramite un nostro cellulare, a sua volta collegato alla rete mobile. Una volta collegati i due PC all'hotspot, abbiamo potuto procedere con l'esperienza.\n"
   ]
  },
  {
   "cell_type": "markdown",
   "metadata": {
    "collapsed": true
   },
   "source": [
    "<h3>ARP (Address Resolution Protocol) e DNS (Domain Name Server)</h3>\n",
    "\n",
    "Per prima cosa abbiamo recuperato da entrambi i PC Windows i relativi indirizzi MAC e IP tramite il DOS attraverso il comando <i>ipconfig /all</i>. Il primo PC aveva come indirizzo MAC F0:7B:CB:1F:E8:13 e come indirizzo IP 192.168.43.147, mentre il secondo aveva come indirizzo MAC 30:59:B7:0D:73:42 e come indirizzo IP 192.168.43.106.\n",
    "Abbiamo quindi impostato come filtro di cattura di Wireshark <i>eth.addr == F0:7B:CB:1F:E8:13 || eth.addr == 30:59:B7:0D:73:42</i> in modo da limitare la cattura dei pacchetti sono per gli indirizzi MAC dei nostri due PC.\n",
    "Per testare l'invio e ricezione di pacchetti ARP abbiamo quindi trasmesso dei dati da un terminale all'altro tramite il comando da DOS <i>ping 30:59:B7:0D:73:42</i>. Una volta completata la procedura abbiamo terminato la cattura con Wireshark e abbiamo analizzato il traffico di pacchetti tra i due PC.\n",
    "\n",
    "<h4>Domande</h4>\n",
    "\n",
    "<h5>1) Qual è l’impiego del protocollo ARP?</h5>\n",
    "ARP (<i>Address Resolution Protocol</i>) è un protocollo di rete dello stack TCP-IP che permette di collegare l'indirizzo IP delle macchine (che le identifica univocamente sulla rete) con il rispettivo indirizzo fisico MAC (che indentifica univocamente le schede di rete indipendentemente dalla rete in cui sono connesse).\n",
    "\n",
    "<h5>2) Come è identificato il protocollo ARP? Come è trasportato?</h5>\n",
    "Il pacchetto ARP è incapsulato nel payload del pacchetto Ethernet, ed è identificato nel campo EtherType tramite il codice 0x0806. La richiesta dell'indirizzo fisico di un certo IP viene indirizzata in broadcast, mentre la risposta è inviata direttamente all'indirizzo MAC richiedente.\n",
    "\n",
    "<h5>3) Quale è l’indirizzo MAC che il PC inizia a risolvere per primo? Chi fornisce la risposta?</h5>\n",
    "Il PC che ha inviato il ping invia per primo un pacchetto ARP in broadcast richiedente l'indirizzo fisico del router, identificato dall'indirizzo IP 192.168.43.1. Il router risponde quindi al primo PC indicandogli il suo indirizzo fisico (nel nostro caso esso è risultato essere 5E:AF:06:6C:19:87). Successivamente il PC mittente invia un altro pacchetto ARP diretto all'indirizzo MAC del router chiedendogli l'indirizzo fisico corrispondente all'IP del PC destinatario, ed il router risponde con un ARP reply contenente il MAC di destinazione.\n",
    "\n",
    "<h5>4) Qual è la ragione della richiesta DNS? Chi è l’autore della risposta?</h5>\n",
    "Per svolgere questa richiesta abbiamo inviato con il primo PC un ping ad un indirizzo web arbitrario (<i>ping google.it</i>), ed abbiamo analizzato il traffico di pacchetti con Wireshark in modo del tutto simile a quanto visto in precedenza. In questo caso, la risposta che include l'indirizzo IP del destinatario è contenuta in un pacchetto DNS, inviato al computer mittente dal router (192.168.43.1).\n",
    "\n",
    "<h5>5) Analizzare e commentare i parametri della risposta DNS.</h5>\n",
    "Il pacchetto contenente la DNS reply è trasportato da UDP. Tra i campi contenuti nel pacchetto DNS sono presenti la <i>Flag DNS</i>, che nel nostro caso conteneva il codice 0x8180 che identifica una <i>Standard Query Response</i>, ed i campi risposta: <i>Name</i> (google.it), <i>Type</i> (A, che indica un <i>Host Address</i>), <i>Class</i> (IN), <i>Time to live</i> (294), <i>Data length</i> (4), <i>Address</i> (216.58.198.35). Inoltre, nel pacchetto UDP è contenuto il campo <i>Source port</i> contenente il valore 53 (porta DNS standard) ed il campo <i>Destination port</i> contenente il valore 56466.\n",
    "\n",
    "<h5>6) Nella finestra DOS, digitare il commando “arp –a’’ e commentare.</h5>\n",
    "Digitando dal DOS il comando <i>arp -a</i> viene visualizzata l'intera tabella ARP immagazzinata nella cache locale del sistema operativo. Dopo questa esperienza, la tabella ARP del PC mittente conteneva l'indirizzo IP e MAC di se stesso, del router e del PC destinatario dei dati. La tabella ARP permette al PC di velocizzare l'indirizzamento di pacchetti ad un terminale con cui ha già comunicato in precedenza, memorizzando automaticamente il collegamento tra IP e MAC in modo da non dover mandare nuovamente la richiesta ARP.\n"
   ]
  },
  {
   "cell_type": "markdown",
   "metadata": {
    "collapsed": true
   },
   "source": [
    "<h3>Connessione TCP (Transport Control Protocol)</h3>\n",
    "\n",
    "Per analizzare le funzionalità del protocollo TCP, invece, abbiamo avuto bisogno di instaurare una connessione FTP all'indirizzo <i>yonderlabs.com</i>. Per far ciò, dal DOS del nostro PC abbiamo chiamato il comando <i>ftp yonderlabs.com</i>. In risposta abbiamo ottenuto una richiesta di accesso con nome utente e password. Non possedendo delle credenziali valide, abbiamo inserito informazioni arbitrarie e, una volta che il server FTP ha rifiutato la nostra richiesta di accesso, abbiamo terminato la connessione FTP con il comando <i>quit</i>.\n",
    "Durante questo processo abbiamo monitorato lo scambio di pacchetti attraverso Wireshark, sulla falsa riga di quanto fatto per la prima parte dell'esperienza, ed abbiamo analizzato quanto ottenuto.\n",
    "\n",
    "<h4>Domande</h4>\n",
    "\n",
    "<h5>1) Come viene identificato il protocollo IP nella trama 802.3/Ethernet?</h5>\n",
    "Nel pacchetto Ethernet viene specificato, nel campo EtherType, che tipo di pacchetto viene trasportato nel payload. Nel nostro caso nel payload è contenuto un pacchetto IPv4, che è identificato dal codice 0x0800.\n",
    "\n",
    "<h5>2) Qual è la lunghezza della trama Ethernet 802.3?</h5>\n",
    "Nel nostro caso, la lunghezza totale della trama Ethernet risulta di 66 byte.\n",
    "\n",
    "<h5>3) E del padding della trama Ethernet/802.3?</h5>\n",
    "Poichè siamo oltre la dimensione minima del pacchetto Ethernet, che è pari a 64 byte, non risulta necessario lo <i>zero-padding</i> del payload, che viene quindi lasciato inalterato.\n",
    "\n",
    "<h5>4) E dell’header IP?</h5>\n",
    "L'header IP è lungo 20 byte, e contiene, tra le altre cose, informazioni sulla versione IP, sulla lugnhezza totale del pacchetto IP, sul protocollo che trasporta e sugli indirizzi IP di sorgente e destinatario.\n",
    "\n",
    "<h5>5) E dell’header TCP?</h5>\n",
    "L'header TCP è lungo 32 byte; contiene le porte di sorgente e destinazione, il <i>sequence number</i>, l'<i>Acknowledgment number</i>, ed altre informazioni.\n",
    "\n",
    "<h5>6) Qual é l’indirizzo IP del PC?</h5>\n",
    "L'indirizzo IP del campo <i>Source Address</i> del pacchetto IP coincide con quanto letto da DOS con il comando <i>ipconfig /all</i> ed è pari a 192.168.43.147.\n",
    "\n",
    "<h5>7) Come sono identificati i protocolli TCP?</h5>\n",
    "I protocolli TCP sono identificati dal codice 06 nel campo <i>Protocol</i> dell'header IP.\n",
    "\n",
    "<h5>8) Qual è l’utilità del campo “Time to live” posto nell’header IP?</h5>\n",
    "Nel campo TTL dell'header IP è contenuto il numero di <i>hop</i> che il datagramma IP può compiere prima di essere rimosso dalla circolazione nella rete. Il termine <i>hop</i> indica un passaggio del pacchetto attraverso un qualunque router della rete. Ogni router che riceve un pacchetto IP diminuisce quindi di un'unità il valore del campo TTL prima di immettere nuovamente il datagramma sulla rete. Una volta che il valore di TTL giunge a 0, il pacchetto viene scartato è un messaggio ICMP di errore viene inviato al mittente. Questo processo ha la funzione di evitare che un pacchetto resti per un tempo indeterminato sulla rete senza giungere a destinazione (ovvero che si blocchi in un <i>loop</i>), intasando la rete.\n",
    "\n",
    "<h5>9) Qual è la lunghezza indicata nel campo “length” dell’header IP?</h5>\n",
    "Nel campo <i>Total length</i> dell'header IP è indicata la lunghezza totale del pacchetto IP, includendo il campo Data. Nel nostro caso, essa è pari a 52 byte.\n",
    "\n",
    "<h5>10) A cosa serve il campo TOS (Type of Service) dell’header IP?</h5>\n",
    "???????? (DA FARE...)\n"
   ]
  },
  {
   "cell_type": "code",
   "execution_count": null,
   "metadata": {
    "collapsed": true
   },
   "outputs": [],
   "source": []
  }
 ],
 "metadata": {
  "kernelspec": {
   "display_name": "Python 3",
   "language": "python",
   "name": "python3"
  },
  "language_info": {
   "codemirror_mode": {
    "name": "ipython",
    "version": 3
   },
   "file_extension": ".py",
   "mimetype": "text/x-python",
   "name": "python",
   "nbconvert_exporter": "python",
   "pygments_lexer": "ipython3",
   "version": "3.6.0"
  }
 },
 "nbformat": 4,
 "nbformat_minor": 2
}
