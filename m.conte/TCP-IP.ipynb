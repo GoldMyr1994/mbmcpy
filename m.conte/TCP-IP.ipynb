{
 "cells": [
  {
   "cell_type": "markdown",
   "metadata": {},
   "source": [
    "<center>\n",
    "    <header>\n",
    "        <h1>Analisi dello Stack TCP-IP</h1>\n",
    "        <h2>Marco Bondaschi, Mauro Conte</h2>\n",
    "        <h4>Laboratorio di Telecomunicazioni</h4>\n",
    "        <h5>Università Degli Studi Di Brescia</h5>\n",
    "        <h6>22/05/2017</h6>\n",
    "    </header>\n",
    "</center>\n",
    "<hr><hr>"
   ]
  },
  {
   "cell_type": "markdown",
   "metadata": {},
   "source": [
    "<h2>Descrizione</h2>\n",
    "\n",
    "Con quest'ultima esperienza abbiamo osservato ed analizzato il funzionamento dello stack protocollare TCP-IP, sperimentando i diversi protocolli che esso utilizza per gestire le più svariate attività, e verificando le caratteristiche dei vari pacchetti che entrano in gioco durante la comunicazione tra due terminali. Grazie a questa attività abbiamo quindi sperimentato le diverse opzioni offerte da un classico analizzatore di protocollo, similmente a quanto fatto durante la precedente esercitazione.\n"
   ]
  },
  {
   "cell_type": "markdown",
   "metadata": {},
   "source": [
    "<h2>Strumenti</h2>\n",
    "\n",
    "Gli strumenti che abbiamo utilizzato per svolgere questa esperienza sono:\n",
    "<ul>\n",
    "<li>I nostri due computer Windows, su cui è stato installato l'analizzatore di protocollo <i>Wireshark</i>;</li>\n",
    "<li>I due PC in dotazione al laboratorio, su cui è presente l'analizzatore di protocollo <i>Fluke Protocol Inspector</i>;</li>\n",
    "<li>Un cavo coassiale con cui collegare tra loro le schede di rete dei due PC;</li>\n",
    "<li>Il software <i>Microsoft Excel</i> per l'elaborazione dei dati ottenuti dall'analisi di protocollo.</li>\n",
    "</ul>\n"
   ]
  },
  {
   "cell_type": "markdown",
   "metadata": {},
   "source": [
    "<h2>Svolgimento</h2>\n",
    "<h3>Configurazione della postazione di lavoro</h3>\n",
    "\n",
    "Per svolgere la prima parte dell'esperienza abbiamo utilizzato i nostri due PC, su cui abbiamo installato <i>Wireshark</i>. Poichè la rete universitaria impediva di inviare pacchetti ping tra i due terminali, abbiamo optato per l'utilizzo di un <i>hotspot</i> tramite un nostro cellulare, a sua volta collegato alla rete mobile. Una volta collegati i due PC all'hotspot, abbiamo potuto procedere con l'esperienza.\n"
   ]
  },
  {
   "cell_type": "code",
   "execution_count": null,
   "metadata": {
    "collapsed": true
   },
   "outputs": [],
   "source": []
  }
 ],
 "metadata": {
  "kernelspec": {
   "display_name": "Python 3",
   "language": "python",
   "name": "python3"
  },
  "language_info": {
   "codemirror_mode": {
    "name": "ipython",
    "version": 3
   },
   "file_extension": ".py",
   "mimetype": "text/x-python",
   "name": "python",
   "nbconvert_exporter": "python",
   "pygments_lexer": "ipython3",
   "version": "3.6.0"
  }
 },
 "nbformat": 4,
 "nbformat_minor": 2
}
