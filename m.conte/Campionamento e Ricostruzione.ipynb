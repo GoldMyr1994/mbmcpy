{
 "cells": [
  {
   "cell_type": "markdown",
   "metadata": {},
   "source": [
    "<center>\n",
    "    <header>\n",
    "        <h1>Campionamento e Ricostruzione</h1>\n",
    "        <h2>Marco Bondaschi, Mauro Conte</h2>\n",
    "        <h4>Laboratorio di Telecomunicazioni</h4>\n",
    "        <h5>Università Degli Studi Di Brescia</h5>\n",
    "        <h6>13/03/2017</h6>\n",
    "    </header>\n",
    "</center>\n",
    "<hr><hr>"
   ]
  },
  {
   "cell_type": "code",
   "execution_count": 1,
   "metadata": {
    "collapsed": false
   },
   "outputs": [
    {
     "data": {
      "text/html": [
       "\n",
       "<style>\n",
       "    .tcalc{ \n",
       "        width: 950px;    //fixed width, 950px layout large\n",
       "        margin: 0 auto; //ceter table in body\n",
       "    }\n",
       "    \n",
       "    .tcalc td, .tcalc th{\n",
       "        text-align:center !important;\n",
       "    }\n",
       "    \n",
       "    .timage {\n",
       "        border: none !important;\n",
       "    }\n",
       "    .timage td, .timage tr  {\n",
       "        border: none;\n",
       "    }\n",
       "    \n",
       "    .oimg {\n",
       "        width: 600px;\n",
       "    }\n",
       "     \n",
       "</style>\n"
      ],
      "text/plain": [
       "<IPython.core.display.HTML object>"
      ]
     },
     "execution_count": 1,
     "metadata": {},
     "output_type": "execute_result"
    }
   ],
   "source": [
    "#Stili per la tabella delle operazioni sui segnali\n",
    "from IPython.core.display import HTML\n",
    "HTML(\"\"\"\n",
    "<style>\n",
    "    .tcalc{ \n",
    "        width: 950px;    //fixed width, 950px layout large\n",
    "        margin: 0 auto; //ceter table in body\n",
    "    }\n",
    "    \n",
    "    .tcalc td, .tcalc th{\n",
    "        text-align:center !important;\n",
    "    }\n",
    "    \n",
    "    .timage {\n",
    "        border: none !important;\n",
    "    }\n",
    "    .timage td, .timage tr  {\n",
    "        border: none;\n",
    "    }\n",
    "    \n",
    "    .oimg {\n",
    "        width: 600px;\n",
    "    }\n",
    "     \n",
    "</style>\n",
    "\"\"\")"
   ]
  },
  {
   "cell_type": "markdown",
   "metadata": {},
   "source": [
    "<h2>Descrizione</h2>\n",
    "\n",
    "Per questa seconda esperienza di laboratorio abbiamo preso un segnale analogico di base, lo abbiamo campionato tramite un mantenitore e lo abbiamo ricostruito con un filtro digitale del quarto ordine. Lo scopo dell'esperienza è stato quello di valutare gli effetti di questi passaggi sul segnale ricostruito, comprese le modifiche che entrano in gioco utilizzando un oscilloscopio per visualizzare le forme d'onda.\n",
    "In particolare, abbiamo valutato le differenze di effetti che questo procedimento causava su due diversi segnali:\n",
    "<ul>\n",
    "<li>$x\\left(t\\right)=sin\\left(2\\pi{f_0}t\\right)$, con   $\\ f_0=500\\:Hz$</li>\n",
    "<li>$y\\left(t\\right)=\\left|\\,sin\\left(2\\pi{f_0}t\\right)\\,\\right|$, con   $\\ f_0=500\\:Hz$</li>\n",
    "</ul>"
   ]
  },
  {
   "cell_type": "markdown",
   "metadata": {},
   "source": [
    "<h2>Strumenti</h2>\n",
    "\n",
    "Per raggiungere questi obiettivi abbiamo utilizzato i seguenti strumenti:\n",
    "<ul>\n",
    "<li>Oscilloscopio digitale <i>Agilent Technologies InfiniiVision MSO-X 3014A</i></li>\n",
    "<li>Generatore di segnali analogico <i>HP 33120A</i></li>\n",
    "<li>Filtro di ricostruzione digitale del IV ordine a capacità commutate</li>\n",
    "<li>Microsoft Excel</li>\n",
    "</ul>"
   ]
  },
  {
   "cell_type": "markdown",
   "metadata": {
    "collapsed": true
   },
   "source": [
    "<h2>Svolgimento</h2>\n",
    "\n",
    "<h3>Analisi e interpolazione di ordine zero</h3>\n",
    "\n",
    "Il primo segnale con cui abbiamo operato è $x\\left(t\\right)=sin\\left(2\\pi{f_0}t\\right)$, con $\\ f_0=500\\:Hz$ la cui trasformata di Fourier calcolata da $-\\infty$ a $\\infty$ può essere facilmente ottenuta applicando prima la formula di Eulero e poi la proprietà di modulazione/traslazione della trasformata di Fourier.\n",
    "\n",
    "$$ X\\left(f\\right) = \\mathfrak{F}\\left\\{x\\left(t\\right)\\right\\}=\\mathfrak{F}\\left\\{sin\\left(2\\pi{f_0}t\\right)\\right\\} =  \\mathfrak{F}\\left\\{\\frac{1}{2j}e^{2\\pi f_0t} - \\frac{1}{2j}e^{-2\\pi f_0t}\\right\\} = \\frac{1}{2j}\\delta{\\left(f+f_0\\right)}-\\frac{1}{2j}\\delta{\\left(f-f_0\\right)}$$.\n",
    "\n",
    "In primo luogo abbiamo visualizzato sull'oscilloscopio il segnale ottenuto dal generatore di funzioni e ne abbiamo visualizzato lo spettro.\n",
    "\n",
    "Lo spettro ottenuto non coincide con quello calcolato per vari motivi:\n",
    "<ul>\n",
    "    <li>l'oscilloscopio calcola la trasformata di Fourier sulla porzione positiva dello spettro</li>\n",
    "    <li>l'oscilloscopio visualizza il modulo della trasformata</li>\n",
    "    <li>l'oscilloscopio visualizza solo una porzione della sinusoide: la FFT calcolata risulta quindi essere quella di una sinusoide finestrata con un rettangolo e ripetuta periodicamente</li>\n",
    "</ul>\n",
    "\n",
    "Quindi, limitandoci alla porzione di spettro positivo e valutando il modulo otteniamo\n",
    "$$ X\\left(f\\right) = \\frac{1}{2}\\delta{\\left(f-f_0\\right)} $$.\n",
    "Il finestramento della sinusoide con un rettangolo nei tempi equivale ad una convoluzione tra lo spettro della sinusoide, una delta, e lo spettro della finestra rettangolare, un seno cardinale. Il risultato finale è dunque il modulo di un seno cardinale centrato nella frequenza $f_0$ della sinusoide.\n",
    "\n",
    "<table class=\"timage\"><tr><td><img src=\"res/sin.png\" /></td><td><img src=\"res/fsin.png\" /></td></tr></table>\n",
    "\n",
    "Successivamente, utilizzando il generatore di funzioni abbiamo generato una sinusoide campionata e mantenuta con 8 campioni sul periodo, l'abbiamo visualizzata sull'oscilloscopio e ne abbiamo mostrato lo spettro.\n",
    "\n",
    "Campionare un segnale a una certa frequenza equivale a moltiplicarlo nel tempo per un pettine di delta con periodo l'inverso della frequenza di campionamento, ed in frequenza ciò equivale a fare la convoluzione tra lo spettro del segnale e un pettine di delta il cui periodo è pari alla frequenza di campionamento. Lo spettro finale è perciò una funzione periodica di periodo la frequenza di campionamento.\n",
    "\n",
    "Inoltre il generatore di funzioni effettua anche un mantenimento sui campioni: viene quindi introdotta un'ulteriore distorsione nello spettro. Mantenere un segnale per un certo periodo equivale nei tempi ad una convoluzione tra il segnale ed un rettangolo  che parte da zero e ha durata pari al tempo di mantenimento, pari in questo caso al periodo di campionamento.\n",
    "Qesta operazione risulta essere quella più dannosa per lo spettro: infatti in frequenza questo equivale ad un prodotto dello spettro con un seno cardinale che modifica quindi le ampiezze delle delta.\n",
    "\n",
    "<table class=\"timage\"><tr><td><img src=\"res/sin8.png\" /></td><td><img src=\"res/fsin8.png\" /></td></tr></table>\n"
   ]
  },
  {
   "cell_type": "markdown",
   "metadata": {},
   "source": [
    "Successivamente ci siamo occupati del secondo segnale $y\\left(t\\right)=\\left|\\,sin\\left(2\\pi{f_0}t\\right)\\,\\right|$, con   $\\ f_0=500\\:Hz$.\n",
    "\n",
    "Essendo questo un segnale periodico pari con discontinuità alla derivata prima il suo spettro ha supporto illimitato ed è una distribuzione che decesce come $\\frac{1}{f^2}$, definito solo nei multipli pari della frequenza fondamentale.\n",
    "\n",
    "Abbiamo generato una versione campionata e mantenuta del segnale utilizzando l'inserimento per punti del generatore di funzioni e lo abbiamo visualizzato insieme al suo spettro.\n",
    "\n",
    "<table class=\"timage\"><tr><td><img src=\"res/modsin8.png\" /></td><td><img src=\"res/fmodsin8.png\" /></td></tr></table>\n",
    "\n",
    "Gli effetti sullo spettro del campionamento, mantenimento e visualizzazione sull'oscilloscopio sono gli stessi che intevengono nel caso della semplice sinusoide. "
   ]
  },
  {
   "cell_type": "markdown",
   "metadata": {},
   "source": [
    "<h3>Filtro di ricostruzione</h3>\n",
    "\n",
    "Idealmente il filtro di ricostruzione ha uno spettro rettangolare centrato nell'origine di durata almeno la banda del segnale e al massimo metà della frequenza di campionamento, al fine di evitare di includere le repliche spettrali dovute al campionamento. In linea teorica il filtro dovrebbe anche \"equalizzare\" le ampiezze dello spettro eliminando gli effetti del seno cardinale dovuto al mantenimento.\n",
    "\n",
    "Questo tipo di filtro è irrealizzabile nella pratica, poichè equivale ad avere come risposta all'impulso un seno cardinale, cioè un filtraggio infinito nei tempi. Inoltre intorno alla frequenza zero gli effetti di modulazione del seno cardinale dovuto al mantenimento risultano essere trascurabili e quindi il filtro che implementeremo ignorerà tale effetto.\n",
    "\n",
    "In pratica abbiamo utilizzato un filtro digitale LP del quarto ordine a capacità commutate che abbiamo collegato tra il generatore di funzoni e l'oscilloscopio. Il modulo della risposta in frequenza risulta essere circa costante da 0 alla frequenza di taglio e poi decresce di 80 dB/dec.\n",
    "\n",
    "Il filtro necessita di un ingresso di clock da cui è direttamente determinata la frequenza di taglio attraverso la formula  $f_t = \\frac{f_{clock}}{50}$. Il clock in ingresso è un onda quadra fornita dal generatore di funzioni attraverso la sua uscita SYNC/TTL.\n",
    "\n",
    "Per quanto riguarda il primo segnale la ricostruzione ottenuta è la seguente:\n",
    "\n",
    "<img class=\"oimg\" src=\"res/rsin8.png\" />\n",
    "\n",
    "Come si può vedere dall'immagine le repliche spettrali a frequenze maggiori dovute al campionamento sono state eliminate.\n",
    "\n",
    "Essendo però il nostro filtro un semplice passa-basso, nel ricostruire il segnale non si è tenuto conto dell'effetto del mantenitore, che in frequenza \"attenua\" la delta a frequenza $\\ f_0$ di un fattore pari a $sinc\\left(\\frac{1}{8}\\right)=0.97$, un valore effettivamente trascurabile.\n",
    "\n",
    "La possibilità di ricostruire esattamente questo primo segnale è dovuta alla sua caratteristica di avere una banda limitata: è quindi stato sufficiente rispettare il teorema di Shannon in fase di campionamento per poter ricostruire, in assenza di aliasing, il segnale originale. Questa possibilità ci è però preclusa per quanto concerne il secondo segnale, che possiede una banda infinita e quindi non rispetta le condizioni del teorema del campionamento. &Egrave; quindi prevedibile che la ricostruzione del segnale non sarà ottima: in particolare le alte frequenze, che entrano in gioco nei punti angolosi dovuti al modulo, verranno rimosse, causando nel segnale ricostruito uno smussamento nelle vicinanze dei punti sopra citati. La figura seguente mostra il risultato della nostra ricostruzione:\n",
    "\n",
    "<img class=\"oimg\" src=\"res/rmodsin8.png\"/>"
   ]
  },
  {
   "cell_type": "markdown",
   "metadata": {},
   "source": [
    "<h1>Le operazioni che intervengono e i loro effetti</h1>\n",
    "\n",
    "<table class=\"tcalc\">\n",
    "    <tr>\n",
    "        <th></th>\n",
    "        <th>Nel Tempo</th>\n",
    "        <th>In Frequenza</th>\n",
    "    </tr>\n",
    "    <tr>\n",
    "        <th>Segnale</th>\n",
    "        <td>$x\\left(t\\right)$</td>\n",
    "        <td>$X\\left(f\\right)$</td>\n",
    "    </tr>\n",
    "    <tr>\n",
    "        <th>Campionamento</th>\n",
    "        <td>$x_c\\left(t\\right)=x\\left(t\\right)\\delta_{T_C}\\left(t\\right)$</td>\n",
    "        <td>$X_c\\left(f\\right)=X\\left(f\\right)*\\frac{1}{T_C}\\delta_{\\frac{1}{T_C}}\\left(f\\right)$</td>\n",
    "    </tr>\n",
    "    <tr>\n",
    "        <th>Mantenimento</th>\n",
    "        <td>$x_m\\left(t\\right)=x_c\\left(t\\right)*rect\\left(\\frac{t-\\frac{T_C}{2}}{T_C}\\right)$</td>\n",
    "        <td>$X_m\\left(f\\right)=X_c\\left(f\\right)T_Csinc\\left(T_Cf\\right)e^{-j\\pi{T_C}{f}}$</td>\n",
    "    </tr>\n",
    "    <tr>\n",
    "        <th>Finestramento</th>\n",
    "        <td>$x_f\\left(t\\right)=x_m\\left(t\\right)rect\\left(\\frac{t}{w}\\right)$</td>\n",
    "        <td>$X_f\\left(f\\right)=X_m\\left(f\\right)*wsinc\\left(wf\\right)$</td>\n",
    "    </tr>\n",
    "</table>\n",
    "\n",
    "Proprietà di convoluzione con un $\\delta_T\\left(\\tau\\right)$:\n",
    "\n",
    "$\\psi\\left(\\tau\\right)*\\sum\\limits^{\\infty}_{k=-\\infty}{\\delta\\left(\\tau-\\frac{k}{\\tau_c}\\right)}= \\sum\\limits^{\\infty}_{k=-\\infty}{ \\psi\\left(\\tau-\\frac{k}{\\tau_c}\\right)}$\n",
    "\n",
    "Sviluppando un po di conti:\n",
    "\n",
    "$X_f\\left(f\\right) = X_m\\left(f\\right)*wsinc\\left(wf\\right) = $\n",
    "\n",
    "$\\quad\\quad\\; =\\left[X_c\\left(f\\right)T_Csinc\\left(T_Cf\\right)e^{-j\\pi{T_C}f}\\right]*wsinc\\left(wf\\right) = $\n",
    "\n",
    "$\\quad\\quad\\; =\\left\\{\\left[X\\left(f\\right)*\\frac{1}{T_C}\\delta_{\\frac{1}{T_C}}\\left(f\\right)\\right]T_Csinc\\left(T_Cf\\right)e^{-j2pif}\\right\\}*wsinc\\left(wf\\right) = $\n",
    "\n",
    "$\\quad\\quad\\; =\\frac{1}{T_C}T_Cw\\left\\{sinc\\left(T_Cf\\right)e^{-j\\pi{T_C}f}\\left[X\\left(f\\right)*\\delta_{\\frac{1}{T_C}}\\left(f\\right)\\right]\\right\\}*sinc\\left(wf\\right) = $\n",
    "\n",
    "$\\quad\\quad\\; =w\\left\\{ sinc\\left(T_Cf\\right)e^{-j\\pi{T_C}f}\\sum\\limits^{\\infty}_{k=-\\infty}{ X\\left(f-\\frac{k}{T_C}\\right)}\\right\\}*sinc\\left(wf\\right)$\n",
    "\n",
    "Con il seguente segnale:\n",
    "\n",
    "$x\\left(t\\right)=sin\\left(2\\pi{f_0}t\\right)$\n",
    "\n",
    "$X\\left(f\\right)=\\frac{j}{2}\\left[\\delta\\left(f+f_0\\right)-\\delta\\left(f-f_0\\right)\\right]$\n",
    "\n",
    "Lavorando solo sulla porzione positiva dello spettro:\n",
    "\n",
    "$-\\frac{j}{2}\\left\\{ \\sum\\limits^{\\infty}_{k=-\\infty}{\\delta\\left(f-f_0-\\frac{k}{T_C}\\right)}sinc\\left(T_Cf\\right)e^{-j\\pi{T_C}f}\\right\\}*sinc\\left(wf\\right) = -\\frac{j}{2}sinc\\left(T_Cf\\right)e^{-j\\pi{T_C}f}\\sum\\limits^{\\infty}_{k=-\\infty}{sinc\\left(w\\left(f-f_0-\\frac{k}{T_C}\\right)\\right)} $"
   ]
  },
  {
   "cell_type": "markdown",
   "metadata": {},
   "source": [
    "<h2>Conclusioni</h2>\n",
    "\n",
    "Il campionamento su segnali a banda limitata permette una perfetta ricostruzione del segnale originale. Nel caso di filtro non ideale la ricostruzione non è perfetta poichè le repliche non vengono completamente annullate. Questo effetto risulta però trascurabile in funzione dell'ordine del filtro usato. Nel nostro caso la prima replica spettrale si trova circa una decade dopo la frequenza del segnale, e quindi si ripresenta nel segnale ricostruito attenuata di un fattore pari a 80dB.\n",
    "\n",
    "Il mantenimento introduce in generale una distorsione di ampiezza sullo spettro del segnale. Nel caso di una sinusoide, il cui spettro è una singola delta, questo equivale in un semplice riscalamento della forma d'onda. In più nel nostro caso specifico, questa attenuazione risulta trascurabile.\n",
    "\n",
    "Sui segnali ricostruiti si può anche osservare un ripple a una frequenza non presente negli originali: questo fenomeno è dovuto al funzionamento del filtro di ricostruzione che necessita di un clock ad alta frequenza rispetto a quella dei segnali da ricostruire.\n",
    "\n",
    "In tutti i calcoli svolti è stato trascurato il campionamento che l'oscilloscopio effettua sul segnale, che essendo a tempi molto brevi crea repliche a frequenze molto alte, che non risultano visibili nella FFT calcolata dall'oscilloscopio. \n",
    "\n",
    "Inoltre è stato trascurato l'effetto della quantizzazione operata automaticamente dal generatore di funzioni. Questo è stato possibile poichè abbiamo generato forme d'onda ad ampiezze piuttosto elevate. Se avessimo scelto di campionare e mantenere una sinusoide ad ampiezza molto inferiore, gli effetti della quantizzazione sui valori della sinusoide mantenuta sarebbero stati molto più evidenti, causando ulteriore \"rumore\" nella ricostruzione del segnale di partenza."
   ]
  }
 ],
 "metadata": {
  "kernelspec": {
   "display_name": "Python 3",
   "language": "python",
   "name": "python3"
  },
  "language_info": {
   "codemirror_mode": {
    "name": "ipython",
    "version": 3
   },
   "file_extension": ".py",
   "mimetype": "text/x-python",
   "name": "python",
   "nbconvert_exporter": "python",
   "pygments_lexer": "ipython3",
   "version": "3.6.0"
  }
 },
 "nbformat": 4,
 "nbformat_minor": 2
}
