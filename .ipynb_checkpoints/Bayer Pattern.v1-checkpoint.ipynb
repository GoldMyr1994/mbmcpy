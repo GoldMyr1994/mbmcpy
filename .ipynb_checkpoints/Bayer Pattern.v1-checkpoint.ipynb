{
 "cells": [
  {
   "cell_type": "code",
   "execution_count": 1,
   "metadata": {},
   "outputs": [
    {
     "ename": "ImportError",
     "evalue": "DLL load failed: %1 non è un'applicazione di Win32 valida.",
     "output_type": "error",
     "traceback": [
      "\u001b[1;31m---------------------------------------------------------------------------\u001b[0m",
      "\u001b[1;31mImportError\u001b[0m                               Traceback (most recent call last)",
      "\u001b[1;32m<ipython-input-1-6e51f6782892>\u001b[0m in \u001b[0;36m<module>\u001b[1;34m()\u001b[0m\n\u001b[1;32m----> 1\u001b[1;33m \u001b[1;32mimport\u001b[0m \u001b[0mcv2\u001b[0m\u001b[1;33m\u001b[0m\u001b[0m\n\u001b[0m\u001b[0;32m      2\u001b[0m \u001b[1;32mimport\u001b[0m \u001b[0mnumpy\u001b[0m \u001b[1;32mas\u001b[0m \u001b[0mnp\u001b[0m\u001b[1;33m\u001b[0m\u001b[0m\n\u001b[0;32m      3\u001b[0m \u001b[1;32mimport\u001b[0m \u001b[0mmath\u001b[0m\u001b[1;33m\u001b[0m\u001b[0m\n\u001b[0;32m      4\u001b[0m \u001b[1;32mfrom\u001b[0m \u001b[0mmatplotlib\u001b[0m \u001b[1;32mimport\u001b[0m \u001b[0mpyplot\u001b[0m \u001b[1;32mas\u001b[0m \u001b[0mplt\u001b[0m\u001b[1;33m\u001b[0m\u001b[0m\n\u001b[0;32m      5\u001b[0m \u001b[1;33m\u001b[0m\u001b[0m\n",
      "\u001b[1;31mImportError\u001b[0m: DLL load failed: %1 non è un'applicazione di Win32 valida."
     ]
    }
   ],
   "source": [
    "import cv2\n",
    "import numpy as np\n",
    "import math\n",
    "from matplotlib import pyplot as plt\n",
    "\n",
    "def invert_color(img):\n",
    "    iimg = cv2.split(img);\n",
    "    iimg = cv2.merge((iimg[2],iimg[1],iimg[0]))\n",
    "    return iimg"
   ]
  },
  {
   "cell_type": "code",
   "execution_count": null,
   "metadata": {
    "collapsed": true
   },
   "outputs": [],
   "source": [
    "img = cv2.imread('img.jpg')\n",
    "#img = cv2.imread('C:\\Users\\Mauro\\Desktop\\opencv\\sources\\samples\\data\\lena.jpg')\n",
    "plt.figure(figsize=(20,10))\n",
    "plt.subplot(1,1,1)\n",
    "plt.title(\"Original Image\")\n",
    "plt.imshow(invert_color(img))\n",
    "plt.xticks([]), plt.yticks([])  # to hide tick values on X and Y axis\n",
    "plt.show()"
   ]
  },
  {
   "cell_type": "code",
   "execution_count": null,
   "metadata": {
    "collapsed": true
   },
   "outputs": [],
   "source": [
    "img.shape"
   ]
  },
  {
   "cell_type": "code",
   "execution_count": null,
   "metadata": {
    "collapsed": true,
    "scrolled": true
   },
   "outputs": [],
   "source": [
    "def getPattern(offset_r,offset_c,img):\n",
    "    \n",
    "    H = img.shape[0]\n",
    "    W = img.shape[1]\n",
    "    \n",
    "    P = np.zeros((W,H))\n",
    "    \n",
    "    pr = [float((x+offset_r)%2) for x in range(2)]\n",
    "    pr = np.tile(pr,(W/2))\n",
    "    \n",
    "    P = [pr*(i+offset_c)%2 for i in range(H)]\n",
    "    return np.array(P)\n",
    "    \n",
    "%time r_pattern = getPattern(1,1,img)\n",
    "%time b_pattern = getPattern(0,0,img)\n",
    "%time g_pattern = getPattern(0,1,img)+getPattern(1,0,img)\n",
    "\n",
    "#print(r_pattern)\n",
    "#print(b_pattern)\n",
    "#print(g_pattern)\n",
    "\n",
    "def PSNR(img1,img2, border):\n",
    "    img1 = img1.astype(np.float)\n",
    "    img2 = img2.astype(np.float)\n",
    "    MSE = 0.0\n",
    "    for i in range(len(img1)-border)[border:]:\n",
    "        for j in range(len(img1)-border)[border:]:\n",
    "            MSE = MSE + np.linalg.norm(img1[i][j]-img2[i][j])       \n",
    "    MSE = MSE/((len(img1)-6)*(len(img1)-6))\n",
    "    PSNR = 20*np.log10(255/np.sqrt(MSE))\n",
    "    return PSNR\n",
    "\n",
    "def PSNRv(img1,img2,border):\n",
    "    \n",
    "    b1,g1,r1 = cv2.split(img1)\n",
    "    b2,g2,r2 = cv2.split(img2)    \n",
    "    \n",
    "    print(\"Red Channel: \",PSNR(r1,r2,border),\"dB\")\n",
    "    print(\"Green Channel: \",PSNR(g1,g2,border),\"dB\")\n",
    "    print(\"Blue Channel: \",PSNR(b1,b2,border),\"dB\")\n",
    "    print(\"Image: \",PSNR(img1,img2,border),\"dB\")\n",
    "    return"
   ]
  },
  {
   "cell_type": "code",
   "execution_count": null,
   "metadata": {
    "collapsed": true,
    "scrolled": true
   },
   "outputs": [],
   "source": [
    "b,g,r = cv2.split(img)\n",
    "plt.figure(figsize=(20,10))\n",
    "plt.subplot(1,3,1)\n",
    "plt.title(\"Red Channel\")\n",
    "#plt.imshow(r, cmap=\"Reds\")\n",
    "plt.imshow(r, cmap=\"gray\")\n",
    "plt.xticks([]), plt.yticks([])  # to hide tick values on X and Y axis\n",
    "plt.subplot(1,3,2)\n",
    "plt.title(\"Green Channel\")\n",
    "#plt.imshow(g, cmap=\"Greens\")\n",
    "plt.imshow(g, cmap=\"gray\")\n",
    "plt.xticks([]), plt.yticks([])  # to hide tick values on X and Y axis\n",
    "plt.subplot(1,3,3)\n",
    "plt.title(\"Blue Channel\")\n",
    "#plt.imshow(b, cmap=\"Blues\")\n",
    "plt.imshow(b, cmap=\"gray\")\n",
    "plt.xticks([]), plt.yticks([])  # to hide tick values on X and Y axis\n",
    "plt.show()"
   ]
  },
  {
   "cell_type": "code",
   "execution_count": null,
   "metadata": {
    "collapsed": true,
    "scrolled": false
   },
   "outputs": [],
   "source": [
    "%time bp_r = r_pattern*r\n",
    "%time bp_g = g_pattern*g\n",
    "%time bp_b = b_pattern*b\n",
    "\n",
    "#print(bp_r)\n",
    "#print(bp_b)\n",
    "#print(bp_g)\n",
    "\n",
    "\n",
    "plt.figure(figsize=(20,10))\n",
    "plt.subplot(1,3,1)\n",
    "plt.title(\"Red Channel Pattern\")\n",
    "plt.imshow(bp_r, cmap=\"gray\")\n",
    "plt.xticks([]), plt.yticks([])  # to hide tick values on X and Y axis\n",
    "plt.subplot(1,3,2)\n",
    "plt.title(\"Green Channel Pattern\")\n",
    "plt.imshow( bp_g, cmap=\"gray\")\n",
    "plt.xticks([]), plt.yticks([])  # to hide tick values on X and Y axis\n",
    "plt.subplot(1,3,3)\n",
    "plt.title(\"Blue Channel Pattern\")\n",
    "plt.imshow(bp_b, cmap=\"gray\")\n",
    "plt.xticks([]), plt.yticks([])  # to hide tick values on X and Y axis\n",
    "plt.show()"
   ]
  },
  {
   "cell_type": "code",
   "execution_count": null,
   "metadata": {
    "collapsed": true
   },
   "outputs": [],
   "source": [
    "def fill_cross(matrix,shift_r,shift_c):\n",
    "    \n",
    "    matrixb = np.copy(matrix)\n",
    "    \n",
    "    irange = range(shift_r,matrix.shape[0]-1,2)\n",
    "    jrange = range(shift_c,matrix.shape[1]-1,2)\n",
    "    \n",
    "    for i in irange:\n",
    "        for j in jrange:\n",
    "            matrixb[i,j] = (matrix[i+1,j+1] + matrix[i+1,j-1] + matrix[i-1,j+1] + matrix[i-1,j-1])/4\n",
    "    return matrixb"
   ]
  },
  {
   "cell_type": "code",
   "execution_count": null,
   "metadata": {
    "collapsed": true,
    "scrolled": false
   },
   "outputs": [],
   "source": [
    "%time fc_bp_r = fill_cross(bp_r,1,1)\n",
    "%time fc_bp_b = fill_cross(bp_b,2,2)\n",
    "%time fc_bp_g = bp_g\n",
    "\n",
    "plt.figure(figsize=(20,10))\n",
    "plt.subplot(1,2,1)\n",
    "plt.title(\"Red Channel\")\n",
    "plt.imshow(fc_bp_r, cmap=\"gray\")\n",
    "plt.xticks([]), plt.yticks([])\n",
    "plt.subplot(1,2,2)\n",
    "plt.title(\"Blue Channel\")\n",
    "plt.imshow(fc_bp_b, cmap=\"gray\")\n",
    "plt.xticks([]), plt.yticks([])\n",
    "plt.show()\n"
   ]
  },
  {
   "cell_type": "code",
   "execution_count": null,
   "metadata": {
    "collapsed": true
   },
   "outputs": [],
   "source": [
    "def fill_diag(matrix,shift_rp,shift_rd,shift_c_rp,shift_c_rd):\n",
    "    \n",
    "    matrixb = np.copy(matrix)\n",
    "    \n",
    "    irange = range(shift_rp,matrix.shape[0]-1,2)\n",
    "    jrange = range(shift_c_rp,matrix.shape[1]-1,2)\n",
    "    \n",
    "    for i in irange:\n",
    "        for j in jrange:\n",
    "            matrixb[i][j] = (matrix[i+1][j]+ matrix[i-1][j]+ matrix[i][j+1]+ matrix[i][j-1])/4\n",
    "            \n",
    "    irange = range(shift_rd,matrix.shape[0]-1,2)\n",
    "    jrange = range(shift_c_rd,matrix.shape[1]-1,2)\n",
    "    \n",
    "    for i in irange:\n",
    "        for j in jrange:\n",
    "            matrixb[i][j] = (matrix[i+1][j]+ matrix[i-1][j]+ matrix[i][j+1]+ matrix[i][j-1])/4\n",
    "            \n",
    "    return matrixb"
   ]
  },
  {
   "cell_type": "code",
   "execution_count": null,
   "metadata": {
    "collapsed": true
   },
   "outputs": [],
   "source": [
    "%time fd_bp_r = fill_diag(fc_bp_r,1,2,2,1)\n",
    "%time fd_bp_b = fill_diag(fc_bp_b,2,3,3,2)\n",
    "%time fd_bp_g = fill_diag(fc_bp_g,1,2,1,2)\n",
    "\n",
    "plt.figure(figsize=(20,10))\n",
    "plt.subplot(1,3,1)\n",
    "plt.title(\"Red Channel\")\n",
    "#plt.imshow(r, cmap=\"Reds\")\n",
    "plt.imshow(fd_bp_r, cmap=\"gray\")\n",
    "plt.xticks([]), plt.yticks([])  # to hide tick values on X and Y axis\n",
    "plt.subplot(1,3,2)\n",
    "plt.title(\"Green Channel\")\n",
    "#plt.imshow(g, cmap=\"Greens\")\n",
    "plt.imshow(fd_bp_g, cmap=\"gray\")\n",
    "plt.xticks([]), plt.yticks([])  # to hide tick values on X and Y axis\n",
    "plt.subplot(1,3,3)\n",
    "plt.title(\"Blue Channel\")\n",
    "#plt.imshow(b, cmap=\"Blues\")\n",
    "plt.imshow(fd_bp_b, cmap=\"gray\")\n",
    "plt.xticks([]), plt.yticks([])  # to hide tick values on X and Y axis\n",
    "plt.show()"
   ]
  },
  {
   "cell_type": "code",
   "execution_count": null,
   "metadata": {
    "collapsed": true
   },
   "outputs": [],
   "source": [
    "Ricostruzione = cv2.merge((fd_bp_b,fd_bp_g,fd_bp_r))\n",
    "Ricostruzione = Ricostruzione.astype(np.uint8)\n",
    "\n",
    "plt.figure(figsize=(20,10))\n",
    "plt.subplot(1,2,1)\n",
    "plt.title(\"Original Image\")\n",
    "plt.imshow(invert_color(img))\n",
    "plt.xticks([]), plt.yticks([])  # to hide tick values on X and Y axis\n",
    "plt.subplot(1,2,2)\n",
    "plt.title(\"Rebuild Image\")\n",
    "plt.imshow(invert_color(Ricostruzione))\n",
    "plt.xticks([]), plt.yticks([])  # to hide tick values on X and Y axis\n",
    "plt.show()"
   ]
  },
  {
   "cell_type": "code",
   "execution_count": null,
   "metadata": {
    "collapsed": true
   },
   "outputs": [],
   "source": [
    "PSNRv(img,Ricostruzione,5)"
   ]
  },
  {
   "cell_type": "code",
   "execution_count": null,
   "metadata": {
    "collapsed": true
   },
   "outputs": [],
   "source": [
    "Seconda = np.zeros((img.shape[0],img.shape[1],img.shape[2]))\n",
    "\n",
    "irange = range(img.shape[0]-3)[3:]\n",
    "jrange = range(img.shape[1]-3)[3:]\n",
    "\n",
    "#alpha = (1.0/2)\n",
    "#beta = (5.0/8)\n",
    "#gamma = (3.0/4)\n",
    "\n",
    "alpha = 1\n",
    "beta = 1\n",
    "gamma = 1\n",
    "\n",
    "\n",
    "for i in irange:\n",
    "    for j in jrange:\n",
    "        if (i+1)%2 is 0:\n",
    "            if (j+1)%2 is 0:\n",
    "                #BLUE@BLUE\n",
    "                Seconda[i][j][0] = bp_b[i][j]\n",
    "                #GREEN@BLUE\n",
    "                Seconda[i][j][1] = (1.0/8)*(4*bp_b[i][j]-bp_b[i+2][j]-bp_b[i-2][j]-bp_b[i][j+2]-bp_b[i][j-2])\n",
    "                Seconda[i][j][1] += (1.0/8)*(2.0)*(bp_g[i+1][j]+bp_g[i-1][j]+bp_g[i][j+1]+bp_g[i][j-1])\n",
    "                #RED@BLUE\n",
    "                Seconda[i][j][2] = (1.0/8)*(6*bp_b[i][j]-(3.0/2)*(bp_b[i+2][j]-bp_b[i-2][j]-bp_b[i][j+2]-bp_b[i][j-2]))\n",
    "                Seconda[i][j][2] += (1.0/8)*(2.0)*(bp_r[i+1][j+1]+bp_r[i-1][j-1]+bp_r[i-1][j+1]+bp_r[i+1][j-1])\n",
    "                \n",
    "            if (j+1)%2 is 1: \n",
    "                #GREEN@GREEN\n",
    "                Seconda[i][j][1] = bp_g[i][j]\n",
    "                #BLUE@GREEN@BLUEROW\n",
    "                Seconda[i][j][0] = (1.0/8)*(5*bp_g[i][j]-bp_g[i+1][j+1]-bp_g[i+1][j-1]-bp_g[i-1][j-1]-bp_g[i-1][j+1])\n",
    "                Seconda[i][j][0] += (1.0/8)*(-bp_g[i][j+2]-bp_g[i][j-2]+(1.0/2)*(bp_g[i-2][j]+bp_g[i+2][j]))\n",
    "                Seconda[i][j][0] += (1.0/8)*(4.0)*(bp_b[i][j+1]+bp_b[i][j-1])\n",
    "                #RED@GREEN@BLUEROW\n",
    "                Seconda[i][j][2] = (1.0/8)*(5*bp_g[i][j]-bp_g[i+1][j+1]-bp_g[i+1][j-1]-bp_g[i-1][j-1]-bp_g[i-1][j+1])\n",
    "                Seconda[i][j][2] += (1.0/8)*(-bp_g[i+2][j]-bp_g[i-2][j]+(1.0/2)*(bp_g[i][j+2]+bp_g[i][j-2]))\n",
    "                Seconda[i][j][2] += (1.0/8)*(4.0)*(bp_r[i+1][j]+bp_r[i-1][j])\n",
    "                \n",
    "        if (i+1)%2 is 1:\n",
    "            if (j+1)%2 is 0: \n",
    "                #GREEN@GREEN\n",
    "                Seconda[i][j][1] = bp_g[i][j]\n",
    "                #BLUE@GREEN@REDROW\n",
    "                Seconda[i][j][0] = (1.0/8)*(5*bp_g[i][j]-bp_g[i+1][j+1]-bp_g[i+1][j-1]-bp_g[i-1][j-1]-bp_g[i-1][j+1])\n",
    "                Seconda[i][j][0] += (1.0/8)*(-bp_g[i+2][j]-bp_g[i-2][j]+(1.0/2)*(bp_g[i][j-2]+bp_g[i][j+2]))\n",
    "                Seconda[i][j][0] += (1.0/8)*(4.0)*(bp_b[i+1][j]+bp_b[i-1][j])\n",
    "                #RED@GREEN@REDROW\n",
    "                Seconda[i][j][2] = (1.0/8)*(5*bp_g[i][j]-bp_g[i+1][j+1]-bp_g[i+1][j-1]-bp_g[i-1][j-1]-bp_g[i-1][j+1])\n",
    "                Seconda[i][j][2] += (1.0/8)*(-bp_g[i][j+2]-bp_g[i][j-2]+(1.0/2)*(bp_g[i-2][j]+bp_g[i+2][j]))\n",
    "                Seconda[i][j][2] += (1.0/8)*(4.0)*(bp_r[i][j+1]+bp_r[i][j-1])\n",
    "\n",
    "                \n",
    "            if (j+1)%2 is 1: \n",
    "                #RED@RED\n",
    "                Seconda[i][j][2] = bp_r[i][j]\n",
    "                #GREEN@RED\n",
    "                Seconda[i][j][1] = (1.0/8)*(4*bp_r[i][j]-bp_r[i+2][j]-bp_r[i-2][j]-bp_r[i][j+2]-bp_r[i][j-2])\n",
    "                Seconda[i][j][1] += (1.0/8)*(2.0)*(bp_g[i+1][j]+bp_g[i-1][j]+bp_g[i][j+1]+bp_g[i][j-1])\n",
    "                #BLUE@RED\n",
    "                Seconda[i][j][0] = (1.0/8)*(6*bp_r[i][j]-(3.0/2)*(bp_r[i+2][j]-bp_r[i-2][j]-bp_r[i][j+2]-bp_r[i][j-2]))\n",
    "                Seconda[i][j][0] += (1.0/8)*(2.0)*(bp_b[i+1][j+1]+bp_b[i-1][j-1]+bp_b[i-1][j+1]+bp_b[i+1][j-1])\n",
    "\n",
    "\n",
    "Seconda = Seconda.astype(np.uint8)\n",
    "\n",
    "plt.figure(figsize=(20,10))\n",
    "plt.subplot(1,2,1)\n",
    "plt.title(\"Original Image\")\n",
    "plt.imshow(invert_color(img))\n",
    "plt.xticks([]), plt.yticks([])  # to hide tick values on X and Y axis\n",
    "plt.subplot(1,2,2)\n",
    "plt.title(\"Rebuild Image\")\n",
    "plt.imshow(invert_color(Seconda))\n",
    "plt.xticks([]), plt.yticks([])  # to hide tick values on X and Y axis\n",
    "plt.show()"
   ]
  },
  {
   "cell_type": "code",
   "execution_count": null,
   "metadata": {
    "collapsed": true
   },
   "outputs": [],
   "source": [
    "PSNRv(img,Seconda,5)"
   ]
  }
 ],
 "metadata": {
  "kernelspec": {
   "display_name": "Python 2",
   "language": "python",
   "name": "python2"
  }
 },
 "nbformat": 4,
 "nbformat_minor": 2
}
