{
 "cells": [
  {
   "cell_type": "code",
   "execution_count": 8,
   "metadata": {
    "collapsed": false
   },
   "outputs": [
    {
     "name": "stdout",
     "output_type": "stream",
     "text": [
      "[  0.00000000e+00   3.82683432e-02   7.07106781e-02   9.23879533e-02\n",
      "   1.00000000e-01   9.23879533e-02   7.07106781e-02   3.82683432e-02\n",
      "   1.22464680e-17  -3.82683432e-02  -7.07106781e-02  -9.23879533e-02\n",
      "  -1.00000000e-01  -9.23879533e-02  -7.07106781e-02  -3.82683432e-02\n",
      "  -2.44929360e-17]\n"
     ]
    }
   ],
   "source": [
    "import numpy as np\n",
    "import matplotlib.pyplot as plt\n",
    "\n",
    "n = np.linspace(0,0.002,17)\n",
    "x = np.sin(2*np.pi*500*n)/10\n",
    "\n",
    "\n",
    "plt.stem(n,x)\n",
    "plt.show()\n",
    "\n",
    "print(x)"
   ]
  }
 ],
 "metadata": {
  "kernelspec": {
   "display_name": "Python 3",
   "language": "python",
   "name": "python3"
  },
  "language_info": {
   "codemirror_mode": {
    "name": "ipython",
    "version": 3
   },
   "file_extension": ".py",
   "mimetype": "text/x-python",
   "name": "python",
   "nbconvert_exporter": "python",
   "pygments_lexer": "ipython3",
   "version": "3.6.0"
  }
 },
 "nbformat": 4,
 "nbformat_minor": 2
}
