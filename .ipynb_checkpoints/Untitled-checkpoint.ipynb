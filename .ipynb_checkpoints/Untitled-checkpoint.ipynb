{
 "cells": [
  {
   "cell_type": "code",
   "execution_count": 27,
   "metadata": {},
   "outputs": [
    {
     "data": {
      "image/png": "[encoded data removed]",
      "text/plain": [
       "<matplotlib.figure.Figure at 0x1bdd8bb0a90>"
      ]
     },
     "metadata": {},
     "output_type": "display_data"
    },
    {
     "name": "stdout",
     "output_type": "stream",
     "text": [
      "[-0.         -0.         -0.         -0.         -0.         -0.         -0.\n",
      " -0.         -0.         -0.         -0.         -0.         -0.         -0.\n",
      " -0.          0.          0.          0.66666667  1.          1.33333333\n",
      "  1.66666667  2.          2.33333333  0.          0.          0.          0.\n",
      "  0.          0.          0.          0.        ]\n",
      "[0 0 0 0 0 0 0 0 0 0 0 0 0 1 1 1 1 1 0 0 0 0 0 0 0 0 0 0 0 0 0]\n",
      "[ 0.          0.          0.          0.          0.          0.          0.\n",
      "  0.          0.          0.          0.          0.          0.          0.\n",
      "  0.          0.66666667  1.66666667  3.          4.66666667  6.66666667\n",
      "  8.33333333  7.33333333  6.          4.33333333  2.33333333  0.          0.\n",
      "  0.          0.          0.          0.        ]\n"
     ]
    }
   ],
   "source": [
    "import numpy as np\n",
    "import scipy\n",
    "from matplotlib import pyplot as plt\n",
    "\n",
    "def rect(N,n):\n",
    "    x = (n>=0)*1*(n<N)*1;\n",
    "    return x\n",
    "    \n",
    "n = np.linspace(-15,15,31)\n",
    "x = n/3*rect(6,n-1)\n",
    "y = rect(5,n+2)\n",
    "plt.stem(n,scipy.convolve(x,y,'same'))\n",
    "plt.show()\n",
    "print(x)\n",
    "print(y)\n",
    "print(scipy.convolve(x,y,'same'))"
   ]
  }
 ],
 "metadata": {
  "kernelspec": {
   "display_name": "Python 3",
   "language": "python",
   "name": "python3"
  },
  "language_info": {
   "codemirror_mode": {
    "name": "ipython",
    "version": 3
   },
   "file_extension": ".py",
   "mimetype": "text/x-python",
   "name": "python",
   "nbconvert_exporter": "python",
   "pygments_lexer": "ipython3",
   "version": "3.5.4"
  },
  "widgets": {
   "state": {},
   "version": "1.1.2"
  }
 },
 "nbformat": 4,
 "nbformat_minor": 2
}
