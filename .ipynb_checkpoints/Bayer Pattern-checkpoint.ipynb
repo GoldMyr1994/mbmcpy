{
 "cells": [
  {
   "cell_type": "code",
   "execution_count": 46,
   "metadata": {
    "collapsed": false
   },
   "outputs": [],
   "source": [
    "import cv2\n",
    "import numpy as np\n",
    "from matplotlib import pyplot as plt\n",
    "\n",
    "img = cv2.imread('C:\\Users\\Mauro\\Desktop\\opencv\\sources\\samples\\data\\lena.jpg')\n",
    "cv2.imshow('image',img)\n",
    "cv2.waitKey(0)\n",
    "cv2.destroyAllWindows()\n",
    "\n",
    "#print(type(img[0][0][0]))"
   ]
  },
  {
   "cell_type": "code",
   "execution_count": 47,
   "metadata": {
    "collapsed": false
   },
   "outputs": [],
   "source": [
    "b,g,r = cv2.split(img)\n",
    "\n",
    "def getRedPattern(r):\n",
    "    bp_r = np.zeros_like(r)\n",
    "    for i in range(len(r)):\n",
    "        if (i+1)%2 is 1:\n",
    "            for j in range(len(r[i])):\n",
    "                if((j+1)%2 is 1): bp_r[i][j] = r[i][j]\n",
    "    return bp_r\n",
    "\n",
    "def getGreenPattern(g):\n",
    "    bp_g = np.zeros_like(g)\n",
    "    for i in range(len(g)):\n",
    "        if (i+1)%2 is 1:\n",
    "            for j in range(len(g[i])):\n",
    "                if (j+1)%2 is 0 : bp_g[i][j] = g[i][j]\n",
    "        if (i+1)%2 is 0:\n",
    "            for j in range(len(g[i])):\n",
    "                if (j+1)%2 is 1 : bp_g[i][j] = g[i][j]\n",
    "    return bp_g\n",
    "\n",
    "def getBluePattern(b):\n",
    "    bp_b = np.zeros_like(b)\n",
    "    for i in range(len(b)):\n",
    "        if (i+1)%2 is 0:\n",
    "            for j in range(len(b[i])):\n",
    "                if((j+1)%2 is 0): bp_b[i][j] = b[i][j]\n",
    "    return bp_b\n",
    "\n",
    "bp_r = getRedPattern(r)\n",
    "bp_g = getGreenPattern(g) \n",
    "bp_b = getBluePattern(b)\n",
    "\n",
    "BP = bp_r+bp_g+bp_b\n",
    "BP = BP.astype(np.int64)#codi dopo posso fare i calcoli senza avere warning"
   ]
  },
  {
   "cell_type": "code",
   "execution_count": 48,
   "metadata": {
    "collapsed": false
   },
   "outputs": [],
   "source": [
    "BPr = np.zeros_like(img)\n",
    "for i in range(len(BP)):\n",
    "    for j in range(len(BP)):\n",
    "        if (i+1)%2 is 0:\n",
    "            if (j+1)%2 is 0:\n",
    "                #print(\"elm(\",i,\"x\",j,\") is BLUE\")\n",
    "                BPr[i][j][0] = 0\n",
    "                BPr[i][j][1] = 0\n",
    "                BPr[i][j][2] = BP[i][j]  \n",
    "            if (j+1)%2 is 1: \n",
    "                #print(\"elm(\",i,\"x\",j,\") is GREEN\")\n",
    "                BPr[i][j][0] = 0\n",
    "                BPr[i][j][2] = 0\n",
    "                BPr[i][j][1] = BP[i][j]      \n",
    "        if (i+1)%2 is 1:\n",
    "            if (j+1)%2 is 0: \n",
    "                #print(\"elm(\",i,\"x\",j,\") is GREEN\")\n",
    "                BPr[i][j][0] = 0\n",
    "                BPr[i][j][2] = 0\n",
    "                BPr[i][j][1] = BP[i][j] \n",
    "            if (j+1)%2 is 1: \n",
    "                #print(\"elm(\",i,\"x\",j,\") is RED\")\n",
    "                BPr[i][j][0] = BP[i][j]\n",
    "                BPr[i][j][1] = 0\n",
    "                BPr[i][j][2] = 0\n",
    "                \n",
    "cv2.imshow('image',BPr)\n",
    "cv2.waitKey(0)\n",
    "cv2.destroyAllWindows()"
   ]
  },
  {
   "cell_type": "code",
   "execution_count": 44,
   "metadata": {
    "collapsed": false
   },
   "outputs": [],
   "source": [
    "Ricostruzione = np.zeros((len(img),len(img),3))\n",
    "#Ricostruzione = np.zeros_like(img)\n",
    "#print(Ricostruzione.shape)            #512x512x3\n",
    "#print(type(Ricostruzione[0][0][0]))   #float64 poi devo riportarla a uint8\n",
    "\n",
    "irange = range(len(BP)-1)[1:] #1px di cornice nera poi penso al problema IndexOutOfRange\n",
    "\n",
    "for i in irange:\n",
    "    for j in irange:\n",
    "        if (i+1)%2 is 0:\n",
    "            if (j+1)%2 is 0:\n",
    "                #print(\"elm(\",i,\"x\",j,\") is BLUE\")\n",
    "                Ricostruzione[i][j][0] = (BP[i-1][j-1]+BP[i-1][j+1]+BP[i+1][j-1]+BP[i+1][j+1])/4\n",
    "                Ricostruzione[i][j][1] = (BP[i-1][j]+BP[i+1][j]+BP[i][j-1]+BP[i][j+1])/4\n",
    "                Ricostruzione[i][j][2] = BP[i][j]  \n",
    "            if (j+1)%2 is 1: \n",
    "                #print(\"elm(\",i,\"x\",j,\") is GREEN\")\n",
    "                Ricostruzione[i][j][0] = (BP[i][j+1]+BP[i][j-1])/2\n",
    "                Ricostruzione[i][j][1] = BP[i][j]\n",
    "                Ricostruzione[i][j][2] = (BP[i+1][j]+BP[i-1][j])/2\n",
    "        if (i+1)%2 is 1:\n",
    "            if (j+1)%2 is 0: \n",
    "                #print(\"elm(\",i,\"x\",j,\") is GREEN\")\n",
    "                Ricostruzione[i][j][0] = (BP[i+1][j]+BP[i-1][j])/2\n",
    "                Ricostruzione[i][j][1] = BP[i][j]\n",
    "                Ricostruzione[i][j][2] = (BP[i][j+1]+BP[i][j-1])/2\n",
    "            if (j+1)%2 is 1: \n",
    "                #print(\"elm(\",i,\"x\",j,\") is RED\")\n",
    "                Ricostruzione[i][j][0] = BP[i][j]\n",
    "                Ricostruzione[i][j][1] = (BP[i-1][j]+BP[i+1][j]+BP[i][j-1]+BP[i][j+1])/4\n",
    "                Ricostruzione[i][j][2] = (BP[i-1][j-1]+BP[i-1][j+1]+BP[i+1][j-1]+BP[i+1][j+1])/4\n",
    "\n",
    "                \n",
    "#_max = np.max(Ricostruzione)\n",
    "#_min = np.min(Ricostruzione)\n",
    "#print(\"Min;Max: \",_min,\",\",_max,\";\")\n",
    "#Ricostruzione = (Ricostruzione-_min)*255/_max\n",
    "#Tentavo di fare qualcosa ma il massimo è 255 ed il minimo è 0 quindi nada\n",
    "      \n",
    "Ricostruzione = Ricostruzione.astype(np.uint8)\n",
    "cv2.imshow('image-o',img)\n",
    "cv2.imshow('image-r',Ricostruzione)\n",
    "cv2.waitKey(0)\n",
    "cv2.destroyAllWindows()"
   ]
  },
  {
   "cell_type": "code",
   "execution_count": 43,
   "metadata": {
    "collapsed": false
   },
   "outputs": [
    {
     "name": "stdout",
     "output_type": "stream",
     "text": [
      "(30.551602006361179, 'dB')\n"
     ]
    }
   ],
   "source": [
    "import math\n",
    "\n",
    "origImg = img.astype(np.double);\n",
    "distImg = Ricostruzione.astype(np.double);\n",
    "\n",
    "\n",
    "#wikipèedia insegna\n",
    "MSE = 0\n",
    "for i in range(len(BP)):\n",
    "    for j in range(len(BP)):\n",
    "        MSE = MSE+np.linalg.norm(origImg[i][j][:]-distImg[i][j][:])\n",
    "        \n",
    "MSE = MSE/(len(BP)*len(BP))\n",
    "PSNR = 20*np.log10(np.max(origImg)/np.sqrt(MSE))\n",
    "\n",
    "print(PSNR,\"dB\")"
   ]
  }
 ],
 "metadata": {
  "kernelspec": {
   "display_name": "Python 2",
   "language": "python",
   "name": "python2"
  },
  "language_info": {
   "codemirror_mode": {
    "name": "ipython",
    "version": 2
   },
   "file_extension": ".py",
   "mimetype": "text/x-python",
   "name": "python",
   "nbconvert_exporter": "python",
   "pygments_lexer": "ipython2",
   "version": "2.7.13"
  }
 },
 "nbformat": 4,
 "nbformat_minor": 2
}
