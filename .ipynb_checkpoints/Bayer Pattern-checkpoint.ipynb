{
 "cells": [
  {
   "cell_type": "code",
   "execution_count": 3,
   "metadata": {},
   "outputs": [],
   "source": [
    "import cv2\n",
    "import numpy as np\n",
    "import math\n",
    "from matplotlib import pyplot as plt\n",
    "\n",
    "img = cv2.imread('C:\\Users\\Mauro\\Desktop\\opencv\\sources\\samples\\data\\lena.jpg')\n",
    "#cv2.imshow('image',img)\n",
    "#cv2.waitKey(0)\n",
    "#cv2.destroyAllWindows()\n",
    "\n",
    "#print(type(img[0][0][0]))"
   ]
  },
  {
   "cell_type": "code",
   "execution_count": 9,
   "metadata": {},
   "outputs": [
    {
     "ename": "ValueError",
     "evalue": "need more than 0 values to unpack",
     "output_type": "error",
     "traceback": [
      "\u001b[1;31m---------------------------------------------------------------------------\u001b[0m",
      "\u001b[1;31mValueError\u001b[0m                                Traceback (most recent call last)",
      "\u001b[1;32m<ipython-input-9-917517373240>\u001b[0m in \u001b[0;36m<module>\u001b[1;34m()\u001b[0m\n\u001b[1;32m----> 1\u001b[1;33m \u001b[0mb\u001b[0m\u001b[1;33m,\u001b[0m\u001b[0mg\u001b[0m\u001b[1;33m,\u001b[0m\u001b[0mr\u001b[0m \u001b[1;33m=\u001b[0m \u001b[0mcv2\u001b[0m\u001b[1;33m.\u001b[0m\u001b[0msplit\u001b[0m\u001b[1;33m(\u001b[0m\u001b[0mimg\u001b[0m\u001b[1;33m)\u001b[0m\u001b[1;33m\u001b[0m\u001b[0m\n\u001b[0m\u001b[0;32m      2\u001b[0m \u001b[1;33m\u001b[0m\u001b[0m\n\u001b[0;32m      3\u001b[0m \u001b[1;32mdef\u001b[0m \u001b[0mgetRedPattern\u001b[0m\u001b[1;33m(\u001b[0m\u001b[0mr\u001b[0m\u001b[1;33m)\u001b[0m\u001b[1;33m:\u001b[0m\u001b[1;33m\u001b[0m\u001b[0m\n\u001b[0;32m      4\u001b[0m     \u001b[0mbp_r\u001b[0m \u001b[1;33m=\u001b[0m \u001b[0mnp\u001b[0m\u001b[1;33m.\u001b[0m\u001b[0mzeros_like\u001b[0m\u001b[1;33m(\u001b[0m\u001b[0mr\u001b[0m\u001b[1;33m)\u001b[0m\u001b[1;33m\u001b[0m\u001b[0m\n\u001b[0;32m      5\u001b[0m     \u001b[1;32mfor\u001b[0m \u001b[0mi\u001b[0m \u001b[1;32min\u001b[0m \u001b[0mrange\u001b[0m\u001b[1;33m(\u001b[0m\u001b[0mlen\u001b[0m\u001b[1;33m(\u001b[0m\u001b[0mr\u001b[0m\u001b[1;33m)\u001b[0m\u001b[1;33m)\u001b[0m\u001b[1;33m:\u001b[0m\u001b[1;33m\u001b[0m\u001b[0m\n",
      "\u001b[1;31mValueError\u001b[0m: need more than 0 values to unpack"
     ]
    }
   ],
   "source": [
    "bgr = cv2.split(img)\n",
    "b=bgr[0] \n",
    "def getRedPattern(r):\n",
    "    bp_r = np.zeros_like(r)\n",
    "    for i in range(len(r)):\n",
    "        if (i+1)%2 is 1:\n",
    "            for j in range(len(r[i])):\n",
    "                if((j+1)%2 is 1): bp_r[i][j] = r[i][j]\n",
    "    return bp_r\n",
    "\n",
    "def getGreenPattern(g):\n",
    "    bp_g = np.zeros_like(g)\n",
    "    for i in range(len(g)):\n",
    "        if (i+1)%2 is 1:\n",
    "            for j in range(len(g[i])):\n",
    "                if (j+1)%2 is 0 : bp_g[i][j] = g[i][j]\n",
    "        if (i+1)%2 is 0:\n",
    "            for j in range(len(g[i])):\n",
    "                if (j+1)%2 is 1 : bp_g[i][j] = g[i][j]\n",
    "    return bp_g\n",
    "\n",
    "def getBluePattern(b):\n",
    "    bp_b = np.zeros_like(b)\n",
    "    for i in range(len(b)):\n",
    "        if (i+1)%2 is 0:\n",
    "            for j in range(len(b[i])):\n",
    "                if((j+1)%2 is 0): bp_b[i][j] = b[i][j]\n",
    "    return bp_b\n",
    "\n",
    "def PSNR(img1,img2):\n",
    "    origImg = img1.astype(np.float);\n",
    "    distImg = img2.astype(np.float);\n",
    "\n",
    "    MSE = 0.0\n",
    "    for i in range(len(img)-3)[3:]:\n",
    "        for j in range(len(img)-3)[3:]:\n",
    "            MSE = MSE + np.linalg.norm(origImg[i][j]-distImg[i][j])       \n",
    "    MSE = MSE/((len(img)-6)*(len(img)-6))\n",
    "    PSNR = 20*np.log10(255/np.sqrt(MSE))\n",
    "    return PSNR\n",
    "\n",
    "%time bp_r = getRedPattern(r).astype(np.float)\n",
    "%time bp_g = getGreenPattern(g).astype(np.float) \n",
    "%time bp_b = getBluePattern(b).astype(np.float)"
   ]
  },
  {
   "cell_type": "code",
   "execution_count": 5,
   "metadata": {},
   "outputs": [],
   "source": [
    "def calc_mean_A(matrix,shift_r,shift_c):\n",
    "    print(type(matrix))\n",
    "    irange = range(shift_r,len(matrix)-1,2)\n",
    "    jrange = range(shift_c,len(matrix)-1,2)\n",
    "    for i in irange:\n",
    "        for j in jrange:\n",
    "             matrix[i][j] = (matrix[i+1][j+1]+ matrix[i+1][j-1]+ matrix[i-1][j+1]+ matrix[i-1][j-1])/4\n",
    "    return matrix\n",
    "                                                                        \n",
    "def calc_mean_B(matrix,shift_rp,shift_rd,shift_c_rp,shift_c_rd):\n",
    "    \n",
    "    irange = range(shift_rp,len(matrix)-1,2)\n",
    "    jrange = range(shift_c_rp,len(matrix)-1,2)\n",
    "    \n",
    "    for i in irange:\n",
    "        for j in jrange:\n",
    "            matrix[i][j] = (matrix[i+1][j]+ matrix[i-1][j]+ matrix[i][j+1]+ matrix[i][j-1])/4\n",
    "            \n",
    "    irange = range(shift_rd,len(matrix)-1,2)\n",
    "    jrange = range(shift_c_rd,len(matrix)-1,2)\n",
    "    \n",
    "    for i in irange:\n",
    "        for j in jrange:\n",
    "            matrix[i][j] = (matrix[i+1][j]+ matrix[i-1][j]+ matrix[i][j+1]+ matrix[i][j-1])/4\n",
    "            \n",
    "    return matrix\n"
   ]
  },
  {
   "cell_type": "code",
   "execution_count": 6,
   "metadata": {},
   "outputs": [
    {
     "ename": "NameError",
     "evalue": "name 'bp_r' is not defined",
     "output_type": "error",
     "traceback": [
      "\u001b[1;31m---------------------------------------------------------------------------\u001b[0m",
      "\u001b[1;31mNameError\u001b[0m                                 Traceback (most recent call last)",
      "\u001b[1;32m<ipython-input-6-c38fea105345>\u001b[0m in \u001b[0;36m<module>\u001b[1;34m()\u001b[0m\n\u001b[1;32m----> 1\u001b[1;33m \u001b[0mget_ipython\u001b[0m\u001b[1;33m(\u001b[0m\u001b[1;33m)\u001b[0m\u001b[1;33m.\u001b[0m\u001b[0mmagic\u001b[0m\u001b[1;33m(\u001b[0m\u001b[1;34mu'time bp_r = calc_mean_A(bp_r,1,1)'\u001b[0m\u001b[1;33m)\u001b[0m\u001b[1;33m\u001b[0m\u001b[0m\n\u001b[0m",
      "\u001b[1;32mC:\\Users\\Mauro\\Anaconda2\\lib\\site-packages\\IPython\\core\\interactiveshell.pyc\u001b[0m in \u001b[0;36mmagic\u001b[1;34m(self, arg_s)\u001b[0m\n\u001b[0;32m   2158\u001b[0m         \u001b[0mmagic_name\u001b[0m\u001b[1;33m,\u001b[0m \u001b[0m_\u001b[0m\u001b[1;33m,\u001b[0m \u001b[0mmagic_arg_s\u001b[0m \u001b[1;33m=\u001b[0m \u001b[0marg_s\u001b[0m\u001b[1;33m.\u001b[0m\u001b[0mpartition\u001b[0m\u001b[1;33m(\u001b[0m\u001b[1;34m' '\u001b[0m\u001b[1;33m)\u001b[0m\u001b[1;33m\u001b[0m\u001b[0m\n\u001b[0;32m   2159\u001b[0m         \u001b[0mmagic_name\u001b[0m \u001b[1;33m=\u001b[0m \u001b[0mmagic_name\u001b[0m\u001b[1;33m.\u001b[0m\u001b[0mlstrip\u001b[0m\u001b[1;33m(\u001b[0m\u001b[0mprefilter\u001b[0m\u001b[1;33m.\u001b[0m\u001b[0mESC_MAGIC\u001b[0m\u001b[1;33m)\u001b[0m\u001b[1;33m\u001b[0m\u001b[0m\n\u001b[1;32m-> 2160\u001b[1;33m         \u001b[1;32mreturn\u001b[0m \u001b[0mself\u001b[0m\u001b[1;33m.\u001b[0m\u001b[0mrun_line_magic\u001b[0m\u001b[1;33m(\u001b[0m\u001b[0mmagic_name\u001b[0m\u001b[1;33m,\u001b[0m \u001b[0mmagic_arg_s\u001b[0m\u001b[1;33m)\u001b[0m\u001b[1;33m\u001b[0m\u001b[0m\n\u001b[0m\u001b[0;32m   2161\u001b[0m \u001b[1;33m\u001b[0m\u001b[0m\n\u001b[0;32m   2162\u001b[0m     \u001b[1;31m#-------------------------------------------------------------------------\u001b[0m\u001b[1;33m\u001b[0m\u001b[1;33m\u001b[0m\u001b[0m\n",
      "\u001b[1;32mC:\\Users\\Mauro\\Anaconda2\\lib\\site-packages\\IPython\\core\\interactiveshell.pyc\u001b[0m in \u001b[0;36mrun_line_magic\u001b[1;34m(self, magic_name, line)\u001b[0m\n\u001b[0;32m   2079\u001b[0m                 \u001b[0mkwargs\u001b[0m\u001b[1;33m[\u001b[0m\u001b[1;34m'local_ns'\u001b[0m\u001b[1;33m]\u001b[0m \u001b[1;33m=\u001b[0m \u001b[0msys\u001b[0m\u001b[1;33m.\u001b[0m\u001b[0m_getframe\u001b[0m\u001b[1;33m(\u001b[0m\u001b[0mstack_depth\u001b[0m\u001b[1;33m)\u001b[0m\u001b[1;33m.\u001b[0m\u001b[0mf_locals\u001b[0m\u001b[1;33m\u001b[0m\u001b[0m\n\u001b[0;32m   2080\u001b[0m             \u001b[1;32mwith\u001b[0m \u001b[0mself\u001b[0m\u001b[1;33m.\u001b[0m\u001b[0mbuiltin_trap\u001b[0m\u001b[1;33m:\u001b[0m\u001b[1;33m\u001b[0m\u001b[0m\n\u001b[1;32m-> 2081\u001b[1;33m                 \u001b[0mresult\u001b[0m \u001b[1;33m=\u001b[0m \u001b[0mfn\u001b[0m\u001b[1;33m(\u001b[0m\u001b[1;33m*\u001b[0m\u001b[0margs\u001b[0m\u001b[1;33m,\u001b[0m\u001b[1;33m**\u001b[0m\u001b[0mkwargs\u001b[0m\u001b[1;33m)\u001b[0m\u001b[1;33m\u001b[0m\u001b[0m\n\u001b[0m\u001b[0;32m   2082\u001b[0m             \u001b[1;32mreturn\u001b[0m \u001b[0mresult\u001b[0m\u001b[1;33m\u001b[0m\u001b[0m\n\u001b[0;32m   2083\u001b[0m \u001b[1;33m\u001b[0m\u001b[0m\n",
      "\u001b[1;32m<decorator-gen-61>\u001b[0m in \u001b[0;36mtime\u001b[1;34m(self, line, cell, local_ns)\u001b[0m\n",
      "\u001b[1;32mC:\\Users\\Mauro\\Anaconda2\\lib\\site-packages\\IPython\\core\\magic.pyc\u001b[0m in \u001b[0;36m<lambda>\u001b[1;34m(f, *a, **k)\u001b[0m\n\u001b[0;32m    186\u001b[0m     \u001b[1;31m# but it's overkill for just that one bit of state.\u001b[0m\u001b[1;33m\u001b[0m\u001b[1;33m\u001b[0m\u001b[0m\n\u001b[0;32m    187\u001b[0m     \u001b[1;32mdef\u001b[0m \u001b[0mmagic_deco\u001b[0m\u001b[1;33m(\u001b[0m\u001b[0marg\u001b[0m\u001b[1;33m)\u001b[0m\u001b[1;33m:\u001b[0m\u001b[1;33m\u001b[0m\u001b[0m\n\u001b[1;32m--> 188\u001b[1;33m         \u001b[0mcall\u001b[0m \u001b[1;33m=\u001b[0m \u001b[1;32mlambda\u001b[0m \u001b[0mf\u001b[0m\u001b[1;33m,\u001b[0m \u001b[1;33m*\u001b[0m\u001b[0ma\u001b[0m\u001b[1;33m,\u001b[0m \u001b[1;33m**\u001b[0m\u001b[0mk\u001b[0m\u001b[1;33m:\u001b[0m \u001b[0mf\u001b[0m\u001b[1;33m(\u001b[0m\u001b[1;33m*\u001b[0m\u001b[0ma\u001b[0m\u001b[1;33m,\u001b[0m \u001b[1;33m**\u001b[0m\u001b[0mk\u001b[0m\u001b[1;33m)\u001b[0m\u001b[1;33m\u001b[0m\u001b[0m\n\u001b[0m\u001b[0;32m    189\u001b[0m \u001b[1;33m\u001b[0m\u001b[0m\n\u001b[0;32m    190\u001b[0m         \u001b[1;32mif\u001b[0m \u001b[0mcallable\u001b[0m\u001b[1;33m(\u001b[0m\u001b[0marg\u001b[0m\u001b[1;33m)\u001b[0m\u001b[1;33m:\u001b[0m\u001b[1;33m\u001b[0m\u001b[0m\n",
      "\u001b[1;32mC:\\Users\\Mauro\\Anaconda2\\lib\\site-packages\\IPython\\core\\magics\\execution.pyc\u001b[0m in \u001b[0;36mtime\u001b[1;34m(self, line, cell, local_ns)\u001b[0m\n\u001b[0;32m   1183\u001b[0m         \u001b[1;32melse\u001b[0m\u001b[1;33m:\u001b[0m\u001b[1;33m\u001b[0m\u001b[0m\n\u001b[0;32m   1184\u001b[0m             \u001b[0mst\u001b[0m \u001b[1;33m=\u001b[0m \u001b[0mclock2\u001b[0m\u001b[1;33m(\u001b[0m\u001b[1;33m)\u001b[0m\u001b[1;33m\u001b[0m\u001b[0m\n\u001b[1;32m-> 1185\u001b[1;33m             \u001b[1;32mexec\u001b[0m\u001b[1;33m(\u001b[0m\u001b[0mcode\u001b[0m\u001b[1;33m,\u001b[0m \u001b[0mglob\u001b[0m\u001b[1;33m,\u001b[0m \u001b[0mlocal_ns\u001b[0m\u001b[1;33m)\u001b[0m\u001b[1;33m\u001b[0m\u001b[0m\n\u001b[0m\u001b[0;32m   1186\u001b[0m             \u001b[0mend\u001b[0m \u001b[1;33m=\u001b[0m \u001b[0mclock2\u001b[0m\u001b[1;33m(\u001b[0m\u001b[1;33m)\u001b[0m\u001b[1;33m\u001b[0m\u001b[0m\n\u001b[0;32m   1187\u001b[0m             \u001b[0mout\u001b[0m \u001b[1;33m=\u001b[0m \u001b[0mNone\u001b[0m\u001b[1;33m\u001b[0m\u001b[0m\n",
      "\u001b[1;32m<timed exec>\u001b[0m in \u001b[0;36m<module>\u001b[1;34m()\u001b[0m\n",
      "\u001b[1;31mNameError\u001b[0m: name 'bp_r' is not defined"
     ]
    }
   ],
   "source": [
    "%time bp_r = calc_mean_A(bp_r,1,1)"
   ]
  },
  {
   "cell_type": "code",
   "execution_count": 7,
   "metadata": {},
   "outputs": [
    {
     "ename": "NameError",
     "evalue": "name 'bp_b' is not defined",
     "output_type": "error",
     "traceback": [
      "\u001b[1;31m---------------------------------------------------------------------------\u001b[0m",
      "\u001b[1;31mNameError\u001b[0m                                 Traceback (most recent call last)",
      "\u001b[1;32m<ipython-input-7-0929bb48243b>\u001b[0m in \u001b[0;36m<module>\u001b[1;34m()\u001b[0m\n\u001b[1;32m----> 1\u001b[1;33m \u001b[0mbp_b\u001b[0m \u001b[1;33m=\u001b[0m \u001b[0mcalc_mean_A\u001b[0m\u001b[1;33m(\u001b[0m\u001b[0mbp_b\u001b[0m\u001b[1;33m,\u001b[0m\u001b[1;36m2\u001b[0m\u001b[1;33m,\u001b[0m\u001b[1;36m2\u001b[0m\u001b[1;33m)\u001b[0m\u001b[1;33m\u001b[0m\u001b[0m\n\u001b[0m",
      "\u001b[1;31mNameError\u001b[0m: name 'bp_b' is not defined"
     ]
    }
   ],
   "source": [
    "bp_b = calc_mean_A(bp_b,2,2)"
   ]
  },
  {
   "cell_type": "code",
   "execution_count": 6,
   "metadata": {
    "scrolled": true
   },
   "outputs": [],
   "source": [
    " "
   ]
  },
  {
   "cell_type": "code",
   "execution_count": 7,
   "metadata": {},
   "outputs": [],
   "source": [
    "bp_b = calc_mean_B(bp_b,2,3,3,2)"
   ]
  },
  {
   "cell_type": "code",
   "execution_count": 8,
   "metadata": {
    "collapsed": true
   },
   "outputs": [],
   "source": [
    "bp_g = calc_mean_B(bp_g,1,2,1,2)"
   ]
  },
  {
   "cell_type": "code",
   "execution_count": 28,
   "metadata": {},
   "outputs": [],
   "source": [
    "Ricostruzione = np.zeros((len(img),len(img),3))\n",
    "#Ricostruzione = np.zeros_like(img)\n",
    "#print(Ricostruzione.shape)            #512x512x3\n",
    "#print(type(Ricostruzione[0][0][0]))   #float64 poi devo riportarla a uint8\n",
    "\n",
    "irange = range(len(img)-1)[1:] #1px di cornice nera poi penso al problema IndexOutOfRange\n",
    "\n",
    "for i in irange:\n",
    "    for j in irange:\n",
    "        Ricostruzione[i][j][0] = bp_b[i][j] \n",
    "        Ricostruzione[i][j][1] = bp_g[i][j]\n",
    "        Ricostruzione[i][j][2] = bp_r[i][j]\n",
    "\n",
    "                \n",
    "#_max = np.max(Ricostruzione)\n",
    "#_min = np.min(Ricostruzione)\n",
    "#print(\"Min;Max: \",_min,\",\",_max,\";\")\n",
    "#Ricostruzione = (Ricostruzione-_min)*255/_max\n",
    "#Tentavo di fare qualcosa ma il massimo è 255 ed il minimo è 0 quindi nada\n",
    "      \n",
    "Ricostruzione = Ricostruzione.astype(np.uint8)\n",
    "cv2.imshow('image-o',img)\n",
    "cv2.imshow('image-r',Ricostruzione)\n",
    "cv2.waitKey(0)\n",
    "cv2.destroyAllWindows()"
   ]
  },
  {
   "cell_type": "code",
   "execution_count": 21,
   "metadata": {},
   "outputs": [
    {
     "name": "stdout",
     "output_type": "stream",
     "text": [
      "('R:', 43.340206962775497, 'dB')\n",
      "('G:', 46.076050916228183, 'dB')\n",
      "('B:', 43.129387348506924, 'dB')\n",
      "(40.396187966396369, 'dB')\n"
     ]
    }
   ],
   "source": [
    "b1,g1,r1 = cv2.split(img)\n",
    "b2,g2,r2 = cv2.split(Ricostruzione)\n",
    "print(\"R:\",PSNR(r1,r2),\"dB\")\n",
    "print(\"G:\",PSNR(g1,g2),\"dB\")\n",
    "print(\"B:\",PSNR(b1,b2),\"dB\")\n",
    "print(PSNR(img,Ricostruzione),\"dB\")"
   ]
  },
  {
   "cell_type": "code",
   "execution_count": 27,
   "metadata": {},
   "outputs": [],
   "source": [
    "Seconda = np.zeros((len(img),len(img),3))\n",
    "irange = range(len(img)-3)[3:] #1px di cornice nera poi penso al problema IndexOutOfRange\n",
    "#alpha = 1.0/2\n",
    "#beta = 5.0/8\n",
    "#gamma = 3.0/4\n",
    "\n",
    "alpha = 1\n",
    "beta = 1\n",
    "gamma = 1\n",
    "\n",
    "\n",
    "for i in irange:\n",
    "    for j in irange:\n",
    "        if (i+1)%2 is 0:\n",
    "            if (j+1)%2 is 0:\n",
    "                #print(\"elm(\",i,\"x\",j,\") is BLUE\")\n",
    "                Seconda[i][j][0] = bp_b[i][j]\n",
    "                \n",
    "                DeltaBg = (1.0/8)*(4*bp_b[i][j] - (bp_b[i-2][j]+bp_b[i+2][j]+bp_b[i][j-2]+bp_b[i][j+2]))\n",
    "                DeltaBr = (1.0/8)*(6*bp_b[i][j] - (3.0/2)*(bp_b[i-2][j]+bp_b[i+2][j]+bp_b[i][j-2]+bp_b[i][j+2]))\n",
    "                \n",
    "                Seconda[i][j][1] = bp_g[i][j] + alpha*DeltaBg\n",
    "                Seconda[i][j][2] = bp_r[i][j] + gamma*DeltaBr\n",
    "                \n",
    "            if (j+1)%2 is 1: \n",
    "                #print(\"elm(\",i,\"x\",j,\") is GREEN\")\n",
    "                Seconda[i][j][1] = bp_g[i][j]\n",
    "                \n",
    "                DeltaGr = 5*bp_g[i][j]\n",
    "                DeltaGr -= (bp_g[i+1][j+1]+bp_g[i-1][j-1]+bp_g[i-1][j+1]+bp_g[i+1][j-1])\n",
    "                DeltaGr -= (bp_g[i+2][j]+bp_g[i-2][j]-bp_g[i][j+2]/2-bp_g[i][j-2]/2)\n",
    "                DeltaGr = DeltaGr*(1.0/8)\n",
    "                \n",
    "                DeltaGb = 5*bp_g[i][j]\n",
    "                DeltaGb-= (bp_g[i+1][j+1]+bp_g[i-1][j-1]+bp_g[i-1][j+1]+bp_g[i+1][j-1])\n",
    "                DeltaGb -= (-bp_g[i+2][j]/2-bp_g[i-2][j]/2-bp_g[i][j+2]-bp_g[i][j-2])\n",
    "                DeltaGb = DeltaGr*(1.0/8)\n",
    "                \n",
    "                Seconda[i][j][2] = bp_r[i][j] + beta*DeltaGr\n",
    "                Seconda[i][j][0] = bp_b[i][j] + beta*DeltaGb\n",
    "                \n",
    "        if (i+1)%2 is 1:\n",
    "            if (j+1)%2 is 0: \n",
    "                #print(\"elm(\",i,\"x\",j,\") is GREEN\")\n",
    "                Seconda[i][j][1] = bp_g[i][j]\n",
    "                \n",
    "                DeltaGb = 5*bp_g[i][j]\n",
    "                DeltaGb -= (bp_g[i+1][j+1]+bp_g[i-1][j-1]+bp_g[i-1][j+1]+bp_g[i+1][j-1])\n",
    "                DeltaGb -= (bp_g[i+2][j]+bp_g[i-2][j]-bp_g[i][j+2]/2-bp_g[i][j-2]/2)\n",
    "                DeltaGb = DeltaGr*(1.0/8)\n",
    "                \n",
    "                DeltaGr = 5*bp_g[i][j]\n",
    "                DeltaGr -= (bp_g[i+1][j+1]+bp_g[i-1][j-1]+bp_g[i-1][j+1]+bp_g[i+1][j-1])\n",
    "                DeltaGr -= (-bp_g[i+2][j]/2-bp_g[i-2][j]/2-bp_g[i][j+2]-bp_g[i][j-2])\n",
    "                DeltaGr = DeltaGr*(1.0/8)\n",
    "                \n",
    "                Seconda[i][j][2] = bp_r[i][j] + beta*DeltaGr\n",
    "                Seconda[i][j][0] = bp_b[i][j] + beta*DeltaGb\n",
    "                \n",
    "            if (j+1)%2 is 1: \n",
    "                #print(\"elm(\",i,\"x\",j,\") is RED\")\n",
    "                Seconda[i][j][2] = bp_r[i][j]\n",
    "                \n",
    "                DeltaRg = (1.0/8)*(4*bp_r[i][j] - (bp_r[i-2][j]+bp_r[i+2][j]+bp_r[i][j-2]+bp_r[i][j+2]))\n",
    "                DeltaRb = (1.0/8)*(6*bp_r[i][j] - (3.0/2)*(bp_r[i-2][j]+bp_r[i+2][j]+bp_r[i][j-2]+bp_r[i][j+2]))\n",
    "                \n",
    "                Seconda[i][j][1] = bp_g[i][j] + alpha*DeltaRg\n",
    "                Seconda[i][j][0] = bp_b[i][j] + gamma*DeltaRb \n",
    "\n",
    "\n",
    "Seconda = Seconda.astype(np.uint8)\n",
    "\n",
    "cv2.imshow('image-o',img)\n",
    "cv2.imshow('image-r',Seconda)\n",
    "cv2.waitKey(0)\n",
    "cv2.destroyAllWindows()"
   ]
  },
  {
   "cell_type": "code",
   "execution_count": 11,
   "metadata": {},
   "outputs": [
    {
     "name": "stdout",
     "output_type": "stream",
     "text": [
      "('R:', 35.096373325400208, 'dB')\n",
      "('G:', 47.43549925559401, 'dB')\n",
      "('B:', 43.079283682863334, 'dB')\n",
      "(34.626235035257004, 'dB')\n"
     ]
    }
   ],
   "source": [
    "b1,g1,r1 = cv2.split(img)\n",
    "b2,g2,r2 = cv2.split(Seconda)\n",
    "print(\"R:\",PSNR(r1,r2),\"dB\")\n",
    "print(\"G:\",PSNR(g1,g2),\"dB\")\n",
    "print(\"B:\",PSNR(b1,b2),\"dB\")\n",
    "print(PSNR(img,Seconda),\"dB\")"
   ]
  }
 ],
 "metadata": {
  "kernelspec": {
   "display_name": "Python 2",
   "language": "python",
   "name": "python2"
  },
  "language_info": {
   "codemirror_mode": {
    "name": "ipython",
    "version": 2
   },
   "file_extension": ".py",
   "mimetype": "text/x-python",
   "name": "python",
   "nbconvert_exporter": "python",
   "pygments_lexer": "ipython2",
   "version": "2.7.14"
  }
 },
 "nbformat": 4,
 "nbformat_minor": 2
}
