{
 "cells": [
  {
   "cell_type": "code",
   "execution_count": 101,
   "metadata": {
    "collapsed": false
   },
   "outputs": [
    {
     "data": {
      "text/plain": [
       "array([[225, 137, 223, ..., 146, 220, 104],\n",
       "       [138, 127, 137, ..., 130, 131,  83],\n",
       "       [222, 137, 225, ..., 148, 215, 105],\n",
       "       ..., \n",
       "       [ 21,  54,  28, ...,  82,  68,  74],\n",
       "       [ 80,  20,  94, ...,  69, 182,  72],\n",
       "       [ 19,  58,  35, ...,  81,  71,  84]], dtype=uint8)"
      ]
     },
     "execution_count": 101,
     "metadata": {},
     "output_type": "execute_result"
    }
   ],
   "source": [
    "import cv2\n",
    "import numpy as np\n",
    "from matplotlib import pyplot as plt\n",
    "\n",
    "img = cv2.imread('C:\\Users\\Mauro\\Desktop\\opencv\\sources\\samples\\data\\lena.jpg')\n",
    "b,g,r = cv2.split(img)\n",
    "\n",
    "def getRedPattern(r):\n",
    "    bp_r = np.zeros_like(r)\n",
    "    for i in range(len(r)):\n",
    "        if (i+1)%2 is 1:\n",
    "            for j in range(len(r[i])):\n",
    "                if((j+1)%2 is 1): bp_r[i][j] = r[i][j]\n",
    "    return bp_r\n",
    "\n",
    "def getGreenPattern(g):\n",
    "    bp_g = np.zeros_like(g)\n",
    "    for i in range(len(g)):\n",
    "        if (i+1)%2 is 1:\n",
    "            for j in range(len(g[i])):\n",
    "                if (j+1)%2 is 0 : bp_g[i][j] = g[i][j]\n",
    "        if (i+1)%2 is 0:\n",
    "            for j in range(len(g[i])):\n",
    "                if (j+1)%2 is 1 : bp_g[i][j] = g[i][j]\n",
    "    return bp_g\n",
    "\n",
    "def getBluePattern(b):\n",
    "    bp_b = np.zeros_like(b)\n",
    "    for i in range(len(b)):\n",
    "        if (i+1)%2 is 0:\n",
    "            for j in range(len(b[i])):\n",
    "                if((j+1)%2 is 0): bp_b[i][j] = b[i][j]\n",
    "    return bp_b\n",
    "\n",
    "bp_r = getRedPattern(r)\n",
    "bp_g = getGreenPattern(g) \n",
    "bp_b = getBluePattern(b)\n",
    "\n",
    "BP = bp_r+bp_g+bp_b\n",
    "\n"
   ]
  },
  {
   "cell_type": "code",
   "execution_count": 74,
   "metadata": {
    "collapsed": false
   },
   "outputs": [
    {
     "data": {
      "text/plain": [
       "0"
      ]
     },
     "execution_count": 74,
     "metadata": {},
     "output_type": "execute_result"
    }
   ],
   "source": []
  }
 ],
 "metadata": {
  "kernelspec": {
   "display_name": "Python 2",
   "language": "python",
   "name": "python2"
  },
  "language_info": {
   "codemirror_mode": {
    "name": "ipython",
    "version": 2
   },
   "file_extension": ".py",
   "mimetype": "text/x-python",
   "name": "python",
   "nbconvert_exporter": "python",
   "pygments_lexer": "ipython2",
   "version": "2.7.13"
  }
 },
 "nbformat": 4,
 "nbformat_minor": 2
}
