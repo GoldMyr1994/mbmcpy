{
 "cells": [
  {
   "cell_type": "code",
   "execution_count": 1,
   "metadata": {
    "collapsed": false
   },
   "outputs": [],
   "source": [
    "import cv2\n",
    "import numpy as np\n",
    "from matplotlib import pyplot as plt\n",
    "\n",
    "img = cv2.imread('C:\\Users\\Mauro\\Desktop\\opencv\\sources\\samples\\data\\lena.jpg')\n",
    "cv2.imshow('image',img)\n",
    "cv2.waitKey(0)\n",
    "cv2.destroyAllWindows()"
   ]
  },
  {
   "cell_type": "code",
   "execution_count": 2,
   "metadata": {
    "collapsed": false
   },
   "outputs": [],
   "source": [
    "b,g,r = cv2.split(img)\n",
    "def getRedPattern(r):\n",
    "    bp_r = np.zeros_like(r)\n",
    "    for i in range(len(r)):\n",
    "        if (i+1)%2 is 1:\n",
    "            for j in range(len(r[i])):\n",
    "                if((j+1)%2 is 1): bp_r[i][j] = r[i][j]\n",
    "    return bp_r\n",
    "\n",
    "def getGreenPattern(g):\n",
    "    bp_g = np.zeros_like(g)\n",
    "    for i in range(len(g)):\n",
    "        if (i+1)%2 is 1:\n",
    "            for j in range(len(g[i])):\n",
    "                if (j+1)%2 is 0 : bp_g[i][j] = g[i][j]\n",
    "        if (i+1)%2 is 0:\n",
    "            for j in range(len(g[i])):\n",
    "                if (j+1)%2 is 1 : bp_g[i][j] = g[i][j]\n",
    "    return bp_g\n",
    "\n",
    "def getBluePattern(b):\n",
    "    bp_b = np.zeros_like(b)\n",
    "    for i in range(len(b)):\n",
    "        if (i+1)%2 is 0:\n",
    "            for j in range(len(b[i])):\n",
    "                if((j+1)%2 is 0): bp_b[i][j] = b[i][j]\n",
    "    return bp_b\n",
    "\n",
    "bp_r = getRedPattern(r)\n",
    "bp_g = getGreenPattern(g) \n",
    "bp_b = getBluePattern(b)\n",
    "\n",
    "BP = bp_r+bp_g+bp_b"
   ]
  },
  {
   "cell_type": "code",
   "execution_count": 27,
   "metadata": {
    "collapsed": false
   },
   "outputs": [
    {
     "name": "stderr",
     "output_type": "stream",
     "text": [
      "C:\\Users\\Mauro\\Anaconda2\\lib\\site-packages\\ipykernel\\__main__.py:11: RuntimeWarning: overflow encountered in ubyte_scalars\n",
      "C:\\Users\\Mauro\\Anaconda2\\lib\\site-packages\\ipykernel\\__main__.py:12: RuntimeWarning: overflow encountered in ubyte_scalars\n",
      "C:\\Users\\Mauro\\Anaconda2\\lib\\site-packages\\ipykernel\\__main__.py:16: RuntimeWarning: overflow encountered in ubyte_scalars\n",
      "C:\\Users\\Mauro\\Anaconda2\\lib\\site-packages\\ipykernel\\__main__.py:17: RuntimeWarning: overflow encountered in ubyte_scalars\n",
      "C:\\Users\\Mauro\\Anaconda2\\lib\\site-packages\\ipykernel\\__main__.py:23: RuntimeWarning: overflow encountered in ubyte_scalars\n",
      "C:\\Users\\Mauro\\Anaconda2\\lib\\site-packages\\ipykernel\\__main__.py:28: RuntimeWarning: overflow encountered in ubyte_scalars\n",
      "C:\\Users\\Mauro\\Anaconda2\\lib\\site-packages\\ipykernel\\__main__.py:29: RuntimeWarning: overflow encountered in ubyte_scalars\n",
      "C:\\Users\\Mauro\\Anaconda2\\lib\\site-packages\\ipykernel\\__main__.py:22: RuntimeWarning: overflow encountered in ubyte_scalars\n"
     ]
    }
   ],
   "source": [
    "image_bilin = np.zeros_like(img)\n",
    "\n",
    "border = 5\n",
    "irange = range(len(BP)-border)[border:]\n",
    "\n",
    "for i in irange:\n",
    "    for j in irange:\n",
    "        if (i+1)%2 is 0:\n",
    "            if (j+1)%2 is 0:\n",
    "                #print(\"elm(\",i,\"x\",j,\") is BLUE\")\n",
    "                image_bilin[i][j][0] = (BP[i-1][j-1]+BP[i-1][j+1]+BP[i+1][j-1]+BP[i+1][j+1])/4\n",
    "                image_bilin[i][j][1] = (BP[i-1][j]+BP[i][j+1]+BP[i+1][j]+BP[i][j-1])/4\n",
    "                image_bilin[i][j][2] = BP[i][j]  \n",
    "            if (j+1)%2 is 1: \n",
    "                #print(\"elm(\",i,\"x\",j,\") is GREEN\")\n",
    "                image_bilin[i][j][0] = (BP[i+1][j]+BP[i+1][j])/2\n",
    "                image_bilin[i][j][2] = (BP[i][j+1]+BP[i][j-1])/2\n",
    "                image_bilin[i][j][1] = BP[i][j]      \n",
    "        if (i+1)%2 is 1:\n",
    "            if (j+1)%2 is 0: \n",
    "                #print(\"elm(\",i,\"x\",j,\") is GREEN\")\n",
    "                image_bilin[i][j][0] = (BP[i+1][j]+BP[i+1][j])/2\n",
    "                image_bilin[i][j][2] = (BP[i][j+1]+BP[i][j-1])/2\n",
    "                image_bilin[i][j][1] = BP[i][j] \n",
    "            if (j+1)%2 is 1: \n",
    "                #print(\"elm(\",i,\"x\",j,\") is RED\")\n",
    "                image_bilin[i][j][0] = BP[i][j]\n",
    "                image_bilin[i][j][1] = BP[i-1][j]+BP[i][j+1]+BP[i+1][j]+BP[i][j-1]\n",
    "                image_bilin[i][j][2] = BP[i-1][j-1]+BP[i-1][j+1]+BP[i+1][j-1]+BP[i+1][j+1]/4\n",
    "                \n",
    "cv2.imshow('image',image_bilin)\n",
    "cv2.waitKey(0)\n",
    "cv2.destroyAllWindows()"
   ]
  },
  {
   "cell_type": "code",
   "execution_count": null,
   "metadata": {
    "collapsed": false
   },
   "outputs": [],
   "source": []
  }
 ],
 "metadata": {
  "kernelspec": {
   "display_name": "Python 2",
   "language": "python",
   "name": "python2"
  },
  "language_info": {
   "codemirror_mode": {
    "name": "ipython",
    "version": 2
   },
   "file_extension": ".py",
   "mimetype": "text/x-python",
   "name": "python",
   "nbconvert_exporter": "python",
   "pygments_lexer": "ipython2",
   "version": "2.7.13"
  }
 },
 "nbformat": 4,
 "nbformat_minor": 2
}
